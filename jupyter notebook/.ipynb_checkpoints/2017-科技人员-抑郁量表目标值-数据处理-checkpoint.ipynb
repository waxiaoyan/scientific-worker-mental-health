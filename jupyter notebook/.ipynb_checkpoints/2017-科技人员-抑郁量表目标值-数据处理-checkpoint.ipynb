{
 "cells": [
  {
   "cell_type": "code",
   "execution_count": 16,
   "id": "fab4fa1a",
   "metadata": {},
   "outputs": [],
   "source": [
    "from sklearn.model_selection import train_test_split\n",
    "from sklearn import metrics\n",
    "# import xgboost as xgb\n",
    "import matplotlib.pyplot as plt\n",
    "from sklearn.model_selection import GridSearchCV\n",
    "import pandas as pd, numpy as np\n",
    "import matplotlib as mpl\n",
    "# import lightgbm as lgb\n",
    "from sklearn.metrics import mean_squared_error\n",
    "from sklearn.experimental import enable_iterative_imputer\n",
    "from sklearn.impute import IterativeImputer\n",
    "from sklearn.ensemble import RandomForestClassifier\n"
   ]
  },
  {
   "cell_type": "code",
   "execution_count": 17,
   "id": "475b69f5",
   "metadata": {},
   "outputs": [],
   "source": [
    "Scientific_Sample=pd.read_csv(\"/Users/wangxiaoyan/Documents/wy/论文/git/scientific-worker-mental-health/data/科技人员原始数据.csv\")\n"
   ]
  },
  {
   "cell_type": "code",
   "execution_count": 18,
   "id": "74e6941c",
   "metadata": {},
   "outputs": [],
   "source": [
    "Scientific_Sample = Scientific_Sample.dropna(axis = 0,subset =['CESD3','CESD5','CESD6','CESD7','CESD12','CESD14','CESD16','CESD18','CESD20'])"
   ]
  },
  {
   "cell_type": "code",
   "execution_count": 19,
   "id": "48d69831",
   "metadata": {},
   "outputs": [],
   "source": [
    "Scientific_Sample.eval('depression = CESD3+CESD5+CESD6+CESD7+CESD12+CESD14+CESD16+CESD18+CESD20',inplace = True)"
   ]
  },
  {
   "cell_type": "code",
   "execution_count": 20,
   "id": "880ddb2a",
   "metadata": {},
   "outputs": [],
   "source": [
    "Scientific_Sample['depression'] = pd.cut(Scientific_Sample.depression, [-1, 10, 17,np.inf], labels=[0, 1, 2])\n"
   ]
  },
  {
   "cell_type": "code",
   "execution_count": 21,
   "id": "22dee89d",
   "metadata": {},
   "outputs": [],
   "source": [
    "Scientific_Sample = Scientific_Sample.drop(labels=['suicide','CESD3','CESD5','CESD6','CESD7','CESD12','CESD14','CESD16','CESD18','CESD20','Group','dtot$$$'],axis=1)\n"
   ]
  },
  {
   "cell_type": "code",
   "execution_count": 22,
   "id": "651cd9fb",
   "metadata": {},
   "outputs": [],
   "source": [
    "Scientific_Sample = Scientific_Sample.dropna(thresh=Scientific_Sample.shape[0]*0.9,how='all',axis=1)\n",
    "Scientific_Sample = Scientific_Sample.dropna(thresh=Scientific_Sample.shape[1]*0.9,how='all',axis=0)"
   ]
  },
  {
   "cell_type": "code",
   "execution_count": 23,
   "id": "302eedb7",
   "metadata": {},
   "outputs": [],
   "source": [
    "Scientific_Sample.to_csv(\"/Users/wangxiaoyan/Documents/wy/论文/git/scientific-worker-mental-health/data/科技人员抑郁量表-初步数据处理.csv\",sep=',',index=False)"
   ]
  },
  {
   "cell_type": "code",
   "execution_count": 24,
   "id": "0978ae15",
   "metadata": {},
   "outputs": [],
   "source": [
    "Scientific_Sample=pd.read_csv(\"/Users/wangxiaoyan/Documents/wy/论文/git/scientific-worker-mental-health/data/科技人员抑郁量表-初步数据处理.csv\")"
   ]
  },
  {
   "cell_type": "code",
   "execution_count": 25,
   "id": "6e858c5b",
   "metadata": {},
   "outputs": [],
   "source": [
    "col_names = Scientific_Sample.columns\n",
    "\n",
    "imputer = IterativeImputer()\n",
    "# imputer.fit(Scientific_Sample)\n"
   ]
  },
  {
   "cell_type": "code",
   "execution_count": 26,
   "id": "530e5b1c",
   "metadata": {},
   "outputs": [],
   "source": [
    "imputed_df = pd.DataFrame(imputer.fit_transform(Scientific_Sample))\n",
    "imputed_df.columns = col_names\n"
   ]
  },
  {
   "cell_type": "code",
   "execution_count": 27,
   "id": "e57582ae",
   "metadata": {},
   "outputs": [],
   "source": [
    "# Scientific_Sample[Scientific_Sample.isna()] = imputed_df[Scientific_Sample.isna()]\n"
   ]
  },
  {
   "cell_type": "code",
   "execution_count": 28,
   "id": "4af7d470",
   "metadata": {},
   "outputs": [],
   "source": [
    "imputed_df.to_csv(\"/Users/wangxiaoyan/Documents/wy/论文/git/scientific-worker-mental-health/data/IterativeImputer抑郁量表处理后数据.csv\",index=False)\n"
   ]
  },
  {
   "cell_type": "code",
   "execution_count": 32,
   "id": "d6827924",
   "metadata": {},
   "outputs": [],
   "source": [
    "Scientific_Sample=pd.read_csv(\"/Users/wangxiaoyan/Documents/wy/论文/git/scientific-worker-mental-health/data/IterativeImputer抑郁量表处理后数据.csv\")\n",
    "#广泛性焦虑\n",
    "Scientific_Sample = Scientific_Sample.drop(labels=['GAD1','GAD2','GAD3','GAD4','GAD5','GAD6','GAD7'],axis=1)\n",
    "#心理健康服务现状与需求\n",
    "Scientific_Sample = Scientific_Sample.drop(labels=['CSDMHS1','CSDMHS2','CSDMHS3','CSDMHS4','CSDMHS5','CSDMHS6','CSDMHS7','CSDMHS8','CSDMHS9','CSDMHS10','CSDMHS11','CSDMHS12','CSDMHS13','CSDMHS14','CSDMHS15','CSDMHS16','CSDMHS18','CSDMHS19','CSDMHS20','CSDMHS21','CSDMHS22','CSDMHS23','CSDMHS24','CSDMHS25','CSDMHS26','CSDMHS27','CSDMHS28','CSDMHS29','CSDMHS30','CSDMHS32','CSDMHS33','CSDMHS34','CSDMHS35','CSDMHS36','CSDMHS37','CSDMHS38'],axis=1)\n",
    "#心理健康素养\n",
    "# Scientific_Sample = Scientific_Sample.drop(labels=['MHLQ7','MHLQ27','MHLQ29','MHLQ44','MHLQ9'],axis=1)\n",
    "#心理资本\n",
    "Scientific_Sample = Scientific_Sample.drop(labels=['PCQ1'],axis=1)\n",
    "#科技工作者问卷\n",
    "Scientific_Sample = Scientific_Sample.drop(labels=['STPQ2','STPQ18','STPQ19','STPQ20','STPQ14'],axis=1)\n",
    "#创业态度\n",
    "Scientific_Sample = Scientific_Sample.drop(labels=['STPQea1'],axis=1)\n",
    "#社会资本\n",
    "# Scientific_Sample = Scientific_Sample.drop(labels=['STPQlt13','STPQsc1','STPQsc2','STPQsc3','STPQsc4','STPQsc5','STPQsc6','STPQsc7','STPQsc8','STPQsc9','STPQsc10','STPQsc11','STPQsc12','STPQsc13','STPQsc14','STPQsc15','STPQsc16','STPQsc17','STPQsc18','STPQsc19','STPQsc20'],axis=1)\n",
    "#组织氛围（缺失值太多，所以删除)\n",
    "#,'STPQoc25'\n",
    "Scientific_Sample = Scientific_Sample.drop(labels=['STPQoc24'],axis=1)\n",
    "#心理求助障碍\n",
    "Scientific_Sample = Scientific_Sample.drop(labels=['PBSMHS1','PBSMHS2','PBSMHS3','PBSMHS4','PBSMHS5','PBSMHS6','PBSMHS7','PBSMHS8','PBSMHS9','PBSMHS10','PBSMHS11','PBSMHS12','PBSMHS13','PBSMHS14','PBSMHS15','PBSMHS16','PBSMHS17','PBSMHS18','PBSMHS19','PBSMHS20'],axis=1)\n",
    "\n",
    "#收入水平\n",
    "# Scientific_Sample = Scientific_Sample.drop(labels=['STPQil1','STPQil2','STPQil3','STPQil8','STPQil9'],axis=1)\n",
    "#岗位\n",
    "#Scientific_Sample = Scientific_Sample.drop(labels=['STPQpost1','STPQpost2','STPQpost3','STPQpost4','STPQpost5','STPQpost6','STPQpost7','STPQpost8','STPQpost9','STPQpost10','STPQpost11','STPQpost12','STPQpost13','STPQpost14','STPQpost15','STPQpost16'],axis=1)\n",
    "#背景信息\n",
    "#'TMIncome','NETIncome','Yincome','exeminp',\n",
    "# Scientific_Sample = Scientific_Sample.drop(labels=['PSQI11','PSQI14','Gender','DOBy','RELIGIOUSB','Politicalstate','EduBG','major','Post','WorkingS','ProfessionalRT','AFECQ1','MaritalS','height','weight','exenumweek','SMOKING1','DRINKING1','EPQas47','EPQas30','EPQas12','Station','casedup1','casedup2','Age','Agegrp1','WORKTIME1','WORKTIME4','NumberCH'],axis=1)\n",
    "Scientific_Sample = Scientific_Sample.drop(labels=['PSQI11','PSQI14','DOBy','RELIGIOUSB','Politicalstate','EduBG','major','Post','WorkingS','ProfessionalRT','AFECQ1','MaritalS','height','weight','exenumweek','DRINKING1','EPQas47','EPQas30','EPQas12','Station','casedup1','casedup2','Agegrp1'],axis=1)\n",
    "\n",
    "Scientific_Sample.to_csv(\"/Users/wangxiaoyan/Documents/wy/论文/git/scientific-worker-mental-health/data/IterativeImputer抑郁量表处理后数据.csv\",index=False)\n",
    "\n"
   ]
  },
  {
   "cell_type": "code",
   "execution_count": 193,
   "id": "b547ea49",
   "metadata": {},
   "outputs": [],
   "source": [
    "Scientific_Sample=pd.read_csv(\"/Users/wangxiaoyan/Documents/wy/论文/git/scientific-worker-mental-health/data/IterativeImputer抑郁量表处理后数据.csv\")\n"
   ]
  },
  {
   "cell_type": "code",
   "execution_count": 194,
   "id": "44fd5f6b",
   "metadata": {},
   "outputs": [],
   "source": [
    "# Scientific_Sample = Scientific_Sample.loc[:,Scientific_Sample.columns.str.contains(\"\\.\")]\n",
    "# Scientific_Sample.columns"
   ]
  },
  {
   "cell_type": "code",
   "execution_count": 195,
   "id": "6d6a2254",
   "metadata": {},
   "outputs": [],
   "source": [
    "Scientific_Sample.eval('睡眠 = PSQI10+PSQI1+PSQI2+PSQI3+PSQI31+PSQI4',inplace = True)\n",
    "Scientific_Sample = Scientific_Sample.drop(labels=['PSQI10','PSQI1','PSQI2','PSQI3','PSQI31','PSQI4'],axis=1)\n"
   ]
  },
  {
   "cell_type": "code",
   "execution_count": 196,
   "id": "109f95b1",
   "metadata": {},
   "outputs": [],
   "source": [
    "Scientific_Sample.eval('工作倦怠 = MBIGS1+MBIGS2+MBIGS3+MBIGS4+MBIGS5+MBIGS6+MBIGS7+MBIGS8+MBIGS9+MBIGS10+MBIGS11+MBIGS12+MBIGS13+MBIGS14+MBIGS15',inplace = True)\n",
    "Scientific_Sample = Scientific_Sample.drop(labels=['MBIGS1','MBIGS2','MBIGS3','MBIGS4','MBIGS5','MBIGS6','MBIGS7','MBIGS8','MBIGS9','MBIGS10','MBIGS11','MBIGS12','MBIGS13','MBIGS14','MBIGS15'],axis=1)\n"
   ]
  },
  {
   "cell_type": "code",
   "execution_count": 197,
   "id": "cda2aa49",
   "metadata": {},
   "outputs": [],
   "source": [
    "Scientific_Sample.eval('工作家庭冲突 = WFCS1+WFCS2+WFCS3+WFCS4+WFCS5+WFCS6+WFCS7+WFCS8+WFCS9+WFCS10',inplace = True)\n",
    "Scientific_Sample = Scientific_Sample.drop(labels=['WFCS1','WFCS2','WFCS3','WFCS4','WFCS5','WFCS6','WFCS7','WFCS8','WFCS9','WFCS10'],axis=1)\n"
   ]
  },
  {
   "cell_type": "code",
   "execution_count": 198,
   "id": "19869009",
   "metadata": {},
   "outputs": [],
   "source": [
    "# Scientific_Sample.eval('幸福感与工作满意度 = LSS1+LSS2+LSS3+LSS4+LSS5',inplace = True)\n",
    "# Scientific_Sample = Scientific_Sample.drop(labels=['LSS1','LSS2','LSS3','LSS4','LSS5'],axis=1)\n",
    "\n",
    "# Scientific_Sample.eval('工作满意度 = STPQjs1+STPQjs2+STPQjs3+STPQjs4+STPQjs5+STPQjs6+STPQjs7+STPQjs8+STPQjs9+STPQjs10+STPQjs11+STPQjs12+STPQjs13+STPQjs14',inplace = True)\n",
    "# Scientific_Sample = Scientific_Sample.drop(labels=['STPQjs1','STPQjs2','STPQjs3','STPQjs4','STPQjs5','STPQjs6','STPQjs7','STPQjs8','STPQjs9','STPQjs10','STPQjs11','STPQjs12','STPQjs13','STPQjs14'],axis=1)\n",
    "\n"
   ]
  },
  {
   "cell_type": "code",
   "execution_count": 199,
   "id": "c395dce5",
   "metadata": {},
   "outputs": [],
   "source": [
    "\n",
    "Scientific_Sample.eval('工作满意度 = LSS1+LSS2+LSS3+LSS4+LSS5+STPQjs1+STPQjs2+STPQjs3+STPQjs4+STPQjs5+STPQjs6+STPQjs7+STPQjs8+STPQjs9+STPQjs10+STPQjs11+STPQjs12+STPQjs13+STPQjs14',inplace = True)\n",
    "Scientific_Sample = Scientific_Sample.drop(labels=['LSS1','LSS2','LSS3','LSS4','LSS5','STPQjs1','STPQjs2','STPQjs3','STPQjs4','STPQjs5','STPQjs6','STPQjs7','STPQjs8','STPQjs9','STPQjs10','STPQjs11','STPQjs12','STPQjs13','STPQjs14'],axis=1)\n"
   ]
  },
  {
   "cell_type": "code",
   "execution_count": 200,
   "id": "fb94e92d",
   "metadata": {},
   "outputs": [],
   "source": [
    "# Scientific_Sample.eval('心理求助障碍 = PBSMHS1+PBSMHS2+PBSMHS3+PBSMHS4+PBSMHS5+PBSMHS6+PBSMHS7+PBSMHS8+PBSMHS9+PBSMHS10+PBSMHS11+PBSMHS12+PBSMHS13+PBSMHS14+PBSMHS15+PBSMHS16+PBSMHS17+PBSMHS18+PBSMHS19+PBSMHS20',inplace = True)\n",
    "# Scientific_Sample = Scientific_Sample.drop(labels=['PBSMHS1','PBSMHS2','PBSMHS3','PBSMHS4','PBSMHS5','PBSMHS6','PBSMHS7','PBSMHS8','PBSMHS9','PBSMHS10','PBSMHS11','PBSMHS12','PBSMHS13','PBSMHS14','PBSMHS15','PBSMHS16','PBSMHS17','PBSMHS18','PBSMHS19','PBSMHS20'],axis=1)\n"
   ]
  },
  {
   "cell_type": "code",
   "execution_count": 201,
   "id": "ec24f0e8",
   "metadata": {},
   "outputs": [],
   "source": [
    "#删除广泛性焦虑量表\n",
    "#Scientific_Sample.eval('GAD = GAD1+GAD2+GAD3+GAD4+GAD5+GAD6+GAD7',inplace = True)\n",
    "# Scientific_Sample = Scientific_Sample.drop(labels=['GAD1','GAD2','GAD3','GAD4','GAD5','GAD6','GAD7'],axis=1)\n",
    "\n",
    "# Scientific_Sample.eval('心理资本 = PCQ1',inplace = True)\n",
    "# Scientific_Sample = Scientific_Sample.drop(labels=['PCQ1'],axis=1)\n",
    "\n",
    "# Scientific_Sample.eval('创业态度 = STPQea1',inplace = True)\n",
    "# Scientific_Sample = Scientific_Sample.drop(labels=['STPQea1'],axis=1)\n",
    "\n",
    "\n",
    "Scientific_Sample.eval('社会支持 = STPQlt13+STPQsc1+STPQsc2+STPQsc3+STPQsc4+STPQsc5+STPQsc6+STPQsc7+STPQsc8+STPQsc9+STPQsc10+STPQsc11+STPQsc12+STPQsc13+STPQsc14+STPQsc15+STPQsc16+STPQsc17+STPQsc18+STPQsc19+STPQsc20',inplace = True)\n",
    "Scientific_Sample = Scientific_Sample.drop(labels=['STPQlt13','STPQsc1','STPQsc2','STPQsc3','STPQsc4','STPQsc5','STPQsc6','STPQsc7','STPQsc8','STPQsc9','STPQsc10','STPQsc11','STPQsc12','STPQsc13','STPQsc14','STPQsc15','STPQsc16','STPQsc17','STPQsc18','STPQsc19','STPQsc20'],axis=1)\n",
    "\n",
    "# Scientific_Sample.eval('组织氛围 = STPQoc24+STPQoc25',inplace = True)\n",
    "# Scientific_Sample = Scientific_Sample.drop(labels=['STPQoc24','STPQoc25'],axis=1)\n",
    "\n",
    "# Scientific_Sample.eval('科技工作者 = STPQ2+STPQ18+STPQ19+STPQ20+STPQ14',inplace = True)\n",
    "# Scientific_Sample = Scientific_Sample.drop(labels=['STPQ2','STPQ18','STPQ19','STPQ20','STPQ14'],axis=1)\n",
    "\n",
    "# Scientific_Sample.eval('心理健康素养 = MHLQ7+MHLQ27+MHLQ29+MHLQ44+MHLQ9',inplace = True)\n",
    "# Scientific_Sample = Scientific_Sample.drop(labels=['MHLQ7','MHLQ27','MHLQ29','MHLQ44','MHLQ9'],axis=1)\n",
    "\n",
    "\n",
    "# Scientific_Sample.eval('心理健康服务需求与现状 = CSDMHS1+CSDMHS2+CSDMHS3+CSDMHS4+CSDMHS5+CSDMHS6+CSDMHS7+CSDMHS8+CSDMHS9+CSDMHS10+CSDMHS11+CSDMHS12+CSDMHS13+CSDMHS14+CSDMHS15+CSDMHS16+CSDMHS18+CSDMHS19+CSDMHS20+CSDMHS21+CSDMHS22+CSDMHS23+CSDMHS24+CSDMHS25+CSDMHS26+CSDMHS27+CSDMHS28+CSDMHS29+CSDMHS30+CSDMHS32+CSDMHS33+CSDMHS34+CSDMHS35+CSDMHS36+CSDMHS37+CSDMHS38', engine='python',inplace = True)\n",
    "# Scientific_Sample = Scientific_Sample.drop(labels=['CSDMHS1','CSDMHS2','CSDMHS3','CSDMHS4','CSDMHS5','CSDMHS6','CSDMHS7','CSDMHS8','CSDMHS9','CSDMHS10','CSDMHS11','CSDMHS12','CSDMHS13','CSDMHS14','CSDMHS15','CSDMHS16','CSDMHS18','CSDMHS19','CSDMHS20','CSDMHS21','CSDMHS22','CSDMHS23','CSDMHS24','CSDMHS25','CSDMHS26','CSDMHS27','CSDMHS28','CSDMHS29','CSDMHS30','CSDMHS32','CSDMHS33','CSDMHS34','CSDMHS35','CSDMHS36','CSDMHS37','CSDMHS38'],axis=1)\n"
   ]
  },
  {
   "cell_type": "code",
   "execution_count": 202,
   "id": "94332911",
   "metadata": {},
   "outputs": [],
   "source": [
    "\n",
    "Scientific_Sample.eval('岗位 = STPQpost1+STPQpost2+STPQpost3+STPQpost4+STPQpost5+STPQpost6+STPQpost7+STPQpost8+STPQpost9+STPQpost10+STPQpost11+STPQpost12+STPQpost13+STPQpost14+STPQpost15+STPQpost16',inplace = True)\n",
    "Scientific_Sample = Scientific_Sample.drop(labels=['STPQpost1','STPQpost2','STPQpost3','STPQpost4','STPQpost5','STPQpost6','STPQpost7','STPQpost8','STPQpost9','STPQpost10','STPQpost11','STPQpost12','STPQpost13','STPQpost14','STPQpost15','STPQpost16'],axis=1)\n"
   ]
  },
  {
   "cell_type": "code",
   "execution_count": 203,
   "id": "b8d57177",
   "metadata": {},
   "outputs": [],
   "source": [
    "Scientific_Sample.eval('正性与负性情绪 = PANAS1+PANAS2+PANAS3+PANAS4+PANAS5+PANAS6+PANAS7+PANAS8+PANAS9+PANAS10+PANAS11+PANAS12+PANAS13+PANAS14+PANAS15+PANAS16+PANAS17+PANAS18+PANAS19+PANAS20',inplace = True)\n",
    "Scientific_Sample = Scientific_Sample.drop(labels=['PANAS1','PANAS2','PANAS3','PANAS4','PANAS5','PANAS6','PANAS7','PANAS8','PANAS9','PANAS10','PANAS11','PANAS12','PANAS13','PANAS14','PANAS15','PANAS16','PANAS17','PANAS18','PANAS19','PANAS20'],axis=1)\n"
   ]
  },
  {
   "cell_type": "code",
   "execution_count": 204,
   "id": "d51344d9",
   "metadata": {},
   "outputs": [],
   "source": [
    "\n",
    "Scientific_Sample.eval('工作时间分配 = STPQawt1+STPQawt2+STPQawt3+STPQawt4+STPQawt5+STPQawt6+STPQawt7',inplace = True)\n",
    "Scientific_Sample = Scientific_Sample.drop(labels=['STPQawt1','STPQawt2','STPQawt3','STPQawt4','STPQawt5','STPQawt6','STPQawt7'],axis=1)\n"
   ]
  },
  {
   "cell_type": "code",
   "execution_count": 205,
   "id": "ebe2a01e",
   "metadata": {},
   "outputs": [],
   "source": [
    "\n",
    "Scientific_Sample.eval('收入水平 = STPQil1+STPQil2+STPQil3+STPQil8+STPQil9',inplace = True)\n",
    "Scientific_Sample = Scientific_Sample.drop(labels=['STPQil1','STPQil2','STPQil3','STPQil8','STPQil9'],axis=1)\n"
   ]
  },
  {
   "cell_type": "code",
   "execution_count": 206,
   "id": "7d770cc2",
   "metadata": {},
   "outputs": [],
   "source": [
    "\n",
    "    Scientific_Sample.eval('生活困扰 = STPQlt1+STPQlt2+STPQlt3+STPQlt4+STPQlt5+STPQlt6+STPQlt7+STPQlt8+STPQlt9+STPQlt10+STPQlt11',inplace = True)\n",
    "Scientific_Sample = Scientific_Sample.drop(labels=['STPQlt1','STPQlt2','STPQlt3','STPQlt4','STPQlt5','STPQlt6','STPQlt7','STPQlt8','STPQlt9','STPQlt10','STPQlt11'],axis=1)\n"
   ]
  },
  {
   "cell_type": "code",
   "execution_count": 207,
   "id": "b68d50b7",
   "metadata": {},
   "outputs": [],
   "source": [
    "\n",
    "Scientific_Sample.eval('职业价值观 = STPQpe1+STPQpe2+STPQpe3+STPQpe4+STPQpe5+STPQpe6+STPQpe7+STPQpe8+STPQpe9+STPQpe10+STPQpe11+STPQpe12+STPQpe13+STPQpe14+STPQpe15+STPQpe16+STPQpe18',inplace = True)\n",
    "Scientific_Sample = Scientific_Sample.drop(labels=['STPQpe1','STPQpe2','STPQpe3','STPQpe4','STPQpe5','STPQpe6','STPQpe7','STPQpe8','STPQpe9','STPQpe10','STPQpe11','STPQpe12','STPQpe13','STPQpe14','STPQpe15','STPQpe16','STPQpe18'],axis=1)\n"
   ]
  },
  {
   "cell_type": "code",
   "execution_count": 208,
   "id": "fd75acdb",
   "metadata": {},
   "outputs": [],
   "source": [
    "\n",
    "Scientific_Sample.eval('行政干预 = STPQai1+STPQai2+STPQai3+STPQai4+STPQai5+STPQai17+STPQai32',inplace = True)\n",
    "Scientific_Sample = Scientific_Sample.drop(labels=['STPQai1','STPQai2','STPQai3','STPQai4','STPQai5','STPQai17','STPQai32'],axis=1)\n"
   ]
  },
  {
   "cell_type": "code",
   "execution_count": 209,
   "id": "20564cab",
   "metadata": {},
   "outputs": [],
   "source": [
    "\n",
    "Scientific_Sample.eval('职业压力 = OSI1+OSI2+OSI3+OSI4+OSI5+OSI6+OSI7+OSI8+OSI9+OSI10+OSI11+OSI12+OSI13+OSI14+OSI15+OSI16+OSI17+OSI18',inplace = True)\n",
    "Scientific_Sample = Scientific_Sample.drop(labels=['OSI1','OSI2','OSI3','OSI4','OSI5','OSI6','OSI7','OSI8','OSI9','OSI10','OSI11','OSI12','OSI13','OSI14','OSI15','OSI16','OSI17','OSI18'],axis=1)\n"
   ]
  },
  {
   "cell_type": "code",
   "execution_count": 210,
   "id": "47ca7ed8",
   "metadata": {},
   "outputs": [],
   "source": [
    "Scientific_Sample.eval('背景信息 = workyear+PSQI11+PSQI14+Gender+DOBy+RELIGIOUSB+Politicalstate+EduBG+major+Post+WorkingS+ProfessionalRT+TMIncome+NETIncome+AFECQ1+MaritalS+MAT1+height+weight+exenumweek+exeminp+SMOKING1+DRINKING1+EPQas47+EPQas30+EPQas12+Station+casedup1+casedup2+Yincome+Age+Agegrp1+WORKTIME1+WORKTIME4+NumberCH+NumberCH7',engine='python',inplace = True)\n",
    "\n",
    "Scientific_Sample = Scientific_Sample.drop(labels=['workyear','PSQI11','PSQI14','Gender','DOBy','RELIGIOUSB','Politicalstate','EduBG','major','Post','WorkingS','ProfessionalRT','TMIncome','NETIncome','AFECQ1','MaritalS','MAT1','height','weight','exenumweek','exeminp','SMOKING1','DRINKING1','EPQas47','EPQas30','EPQas12','Station','casedup1','casedup2','Yincome','Age','Agegrp1','WORKTIME1','WORKTIME4','NumberCH','NumberCH7'],axis=1)\n"
   ]
  },
  {
   "cell_type": "code",
   "execution_count": 211,
   "id": "3f7a5aaa",
   "metadata": {},
   "outputs": [],
   "source": [
    "\n",
    "Scientific_Sample.eval('个人创新行为 = IIS1+IIS2+IIS3+IIS4+IIS5+IIS6',engine='python',inplace = True)\n",
    "\n",
    "Scientific_Sample = Scientific_Sample.drop(labels=['IIS1','IIS2','IIS3','IIS4','IIS5','IIS6'],axis=1)\n"
   ]
  },
  {
   "cell_type": "code",
   "execution_count": 212,
   "id": "93b3d9c8",
   "metadata": {},
   "outputs": [],
   "source": [
    "\n",
    "Scientific_Sample.eval('易激惹 = Irritability',inplace = True)\n",
    "Scientific_Sample = Scientific_Sample.drop(labels=['Irritability'],axis=1)\n"
   ]
  },
  {
   "cell_type": "code",
   "execution_count": 213,
   "id": "6ca5900e",
   "metadata": {},
   "outputs": [],
   "source": [
    "Scientific_Sample.to_csv(\"/Users/wangxiaoyan/Documents/wy/论文/git/scientific-worker-mental-health/data/IterativeImputer-科技人员抑郁量表目标值分组.csv\",sep=',',index=False)\n"
   ]
  },
  {
   "cell_type": "code",
   "execution_count": null,
   "id": "89507014",
   "metadata": {},
   "outputs": [],
   "source": []
  },
  {
   "cell_type": "code",
   "execution_count": null,
   "id": "3c53b340",
   "metadata": {},
   "outputs": [],
   "source": []
  }
 ],
 "metadata": {
  "kernelspec": {
   "display_name": "Python 3 (ipykernel)",
   "language": "python",
   "name": "python3"
  },
  "language_info": {
   "codemirror_mode": {
    "name": "ipython",
    "version": 3
   },
   "file_extension": ".py",
   "mimetype": "text/x-python",
   "name": "python",
   "nbconvert_exporter": "python",
   "pygments_lexer": "ipython3",
   "version": "3.9.13"
  }
 },
 "nbformat": 4,
 "nbformat_minor": 5
}
