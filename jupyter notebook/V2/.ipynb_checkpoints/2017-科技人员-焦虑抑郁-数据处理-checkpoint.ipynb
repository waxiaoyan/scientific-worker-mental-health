{
 "cells": [
  {
   "cell_type": "code",
   "execution_count": 1,
   "id": "fab4fa1a",
   "metadata": {},
   "outputs": [],
   "source": [
    "from sklearn.model_selection import train_test_split\n",
    "from sklearn import metrics\n",
    "# import xgboost as xgb\n",
    "import matplotlib.pyplot as plt\n",
    "from sklearn.model_selection import GridSearchCV\n",
    "import pandas as pd, numpy as np\n",
    "import matplotlib as mpl\n",
    "# import lightgbm as lgb\n",
    "from sklearn.metrics import mean_squared_error\n",
    "from sklearn.experimental import enable_iterative_imputer\n",
    "from sklearn.impute import IterativeImputer\n",
    "from sklearn.ensemble import RandomForestClassifier\n",
    "import shap\n"
   ]
  },
  {
   "cell_type": "code",
   "execution_count": 2,
   "id": "475b69f5",
   "metadata": {},
   "outputs": [],
   "source": [
    "Scientific_Sample=pd.read_csv(\"/Users/wangxiaoyan/Documents/wy/论文/git/scientific-worker-mental-health/data/V2/csv/2017-全国科技工作者-人口学信息数据.csv\")\n"
   ]
  },
  {
   "cell_type": "code",
   "execution_count": 6,
   "id": "a2239761",
   "metadata": {},
   "outputs": [],
   "source": [
    "Scientific_Sample=pd.read_csv(\"/Users/wangxiaoyan/Documents/wy/论文/git/scientific-worker-mental-health/data/V2/csv/2017-全国科技工作者-Item数据.csv\")\n"
   ]
  },
  {
   "cell_type": "code",
   "execution_count": 3,
   "id": "7afb10ae",
   "metadata": {},
   "outputs": [
    {
     "name": "stdout",
     "output_type": "stream",
     "text": [
      "126793.5\n",
      "Q3=164000.0\n",
      "Q1=37206.5\n",
      "544380.5\n"
     ]
    }
   ],
   "source": [
    "Q1 = Scientific_Sample['Yincome'].quantile(0.1)\n",
    "Q3 = Scientific_Sample['Yincome'].quantile(0.9)\n",
    "IQR = Q3 - Q1\n",
    "print(IQR)\n",
    "print(\"Q3=\" + str(Q3))\n",
    "print(\"Q1=\" + str(Q1))\n",
    "\n",
    "print(Q3 + 3 *IQR)\n",
    "filter = (Scientific_Sample['Yincome'] >= Q1) & (Scientific_Sample['Yincome'] <= Q3 + 3 *IQR)\n",
    "Scientific_Sample = Scientific_Sample.loc[filter] \n",
    "\n",
    "Scientific_Sample = Scientific_Sample.dropna()\n"
   ]
  },
  {
   "cell_type": "code",
   "execution_count": 20,
   "id": "91b47ecb",
   "metadata": {},
   "outputs": [],
   "source": [
    "cesd_columns = [col for col in Scientific_Sample.columns if col.startswith('CESD')]\n",
    "anxiety_columns = [col for col in Scientific_Sample.columns if col.startswith(\"GAD\")]\n",
    "for column in anxiety_columns:\n",
    "    # 计算众数\n",
    "    mode_value = Scientific_Sample[column].mode().iloc[0]\n",
    "    # 使用众数填充空值\n",
    "    Scientific_Sample[column].fillna(mode_value, inplace=True)\n",
    "for column in cesd_columns:\n",
    "    # 计算众数\n",
    "    mode_value = Scientific_Sample[column].mode().iloc[0]\n",
    "    # 使用众数填充空值\n",
    "    Scientific_Sample[column].fillna(mode_value, inplace=True)\n"
   ]
  },
  {
   "cell_type": "code",
   "execution_count": 4,
   "id": "0371a66c",
   "metadata": {},
   "outputs": [],
   "source": [
    "CESD12 = 'CESD12'  # 将这里替换为你需要修改的列名\n",
    "CESD16 = 'CESD16'  # 将这里替换为你需要修改的列名\n",
    "old_value1 = '0'  # 将这里替换为需要替换的第一个值\n",
    "new_value1 = '3'  # 将这里替换为替换后的第一个新值\n",
    "old_value2 = '1'  # 将这里替换为需要替换的第二个值\n",
    "new_value2 = '2'  # 将这里替换为替换后的第二个新值\n",
    "\n",
    "# 创建一个字典，其中键是要替换的旧值，值是要替换的新值\n",
    "replacement_dict = {old_value1: new_value1, old_value2: new_value2}\n",
    "# 执行替换\n",
    "Scientific_Sample[CESD12] = Scientific_Sample[CESD12].replace(replacement_dict)\n",
    "Scientific_Sample[CESD16] = Scientific_Sample[CESD16].replace(replacement_dict)\n",
    "depression_columns = [col for col in Scientific_Sample.columns if col.startswith(\"CESD\")]\n",
    "depression_sum = Scientific_Sample[depression_columns].sum(axis=1)\n",
    "Scientific_Sample['depression'] = depression_sum\n",
    "Scientific_Sample['depression'] = pd.cut(Scientific_Sample.depression, [-1, 9, 16,np.inf], labels=[0, 1, 2])\n"
   ]
  },
  {
   "cell_type": "code",
   "execution_count": 5,
   "id": "b08707f5",
   "metadata": {},
   "outputs": [],
   "source": [
    "anxiety_columns = [col for col in Scientific_Sample.columns if col.startswith(\"GAD\")]\n",
    "anxiety_sum = Scientific_Sample[anxiety_columns].sum(axis=1)\n",
    "Scientific_Sample['anxiety'] = anxiety_sum\n",
    "Scientific_Sample['anxiety'] = pd.cut(Scientific_Sample.anxiety, [-1, 4,np.inf], labels=[0, 1])\n"
   ]
  },
  {
   "cell_type": "code",
   "execution_count": 6,
   "id": "a6c7c935",
   "metadata": {},
   "outputs": [
    {
     "name": "stdout",
     "output_type": "stream",
     "text": [
      "行数: 7022\n"
     ]
    }
   ],
   "source": [
    "Scientific_Sample.drop(columns=Scientific_Sample.filter(regex='^GAD').columns, inplace=True)\n",
    "Scientific_Sample.drop(columns=Scientific_Sample.filter(regex='^CESD').columns, inplace=True)\n",
    "Scientific_Sample = Scientific_Sample.drop('suicide', axis=1)\n",
    "print(\"行数:\", Scientific_Sample.shape[0])"
   ]
  },
  {
   "cell_type": "code",
   "execution_count": 8,
   "id": "b99ca0f8",
   "metadata": {},
   "outputs": [],
   "source": [
    "# Scientific_Sample = Scientific_Sample.dropna(subset=['depression'])\n",
    "# Scientific_Sample = Scientific_Sample.dropna(subset=['anxiety'])\n",
    "\n"
   ]
  },
  {
   "cell_type": "code",
   "execution_count": 10,
   "id": "89507014",
   "metadata": {},
   "outputs": [],
   "source": [
    "for column in Scientific_Sample.columns:\n",
    "    # 找到列的众数\n",
    "    mode = Scientific_Sample[column].mode().iloc[0]\n",
    "    \n",
    "    # 用众数填充空值\n",
    "    Scientific_Sample[column].fillna(mode, inplace=True)"
   ]
  },
  {
   "cell_type": "code",
   "execution_count": 7,
   "id": "3c53b340",
   "metadata": {},
   "outputs": [],
   "source": [
    "Scientific_Sample.to_csv(\"/Users/wangxiaoyan/Documents/wy/论文/git/scientific-worker-mental-health/data/V2/csv/2017科技人员心理健康调查-焦虑抑郁-人口学信息数据.csv\",sep=',',index=False)\n"
   ]
  },
  {
   "cell_type": "code",
   "execution_count": 49,
   "id": "e864b166",
   "metadata": {},
   "outputs": [],
   "source": [
    "Scientific_Sample.to_csv(\"/Users/wangxiaoyan/Documents/wy/论文/git/scientific-worker-mental-health/data/V2/csv/2017科技人员心理健康调查-焦虑抑郁-Item信息数据.csv\",sep=',',index=False)\n"
   ]
  },
  {
   "cell_type": "code",
   "execution_count": 17,
   "id": "13b985ce",
   "metadata": {},
   "outputs": [],
   "source": [
    "Scientific_Sample.to_csv(\"/Users/wangxiaoyan/Documents/wy/论文/git/scientific-worker-mental-health/data/V2/csv/2017科技人员心理健康调查-焦虑抑郁-人口学信息数据-未填充空值.csv\",sep=',',index=False)\n"
   ]
  },
  {
   "cell_type": "code",
   "execution_count": null,
   "id": "c6ad77d9",
   "metadata": {},
   "outputs": [],
   "source": []
  }
 ],
 "metadata": {
  "kernelspec": {
   "display_name": "Python 3 (ipykernel)",
   "language": "python",
   "name": "python3"
  },
  "language_info": {
   "codemirror_mode": {
    "name": "ipython",
    "version": 3
   },
   "file_extension": ".py",
   "mimetype": "text/x-python",
   "name": "python",
   "nbconvert_exporter": "python",
   "pygments_lexer": "ipython3",
   "version": "3.9.13"
  }
 },
 "nbformat": 4,
 "nbformat_minor": 5
}
