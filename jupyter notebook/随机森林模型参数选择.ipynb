{
 "cells": [
  {
   "cell_type": "code",
   "execution_count": 2,
   "id": "1ce35039",
   "metadata": {},
   "outputs": [],
   "source": [
    "import pandas as pd\n",
    "from sklearn.ensemble import RandomForestClassifier\n",
    "from sklearn.model_selection import GridSearchCV,cross_val_score\n",
    "from sklearn.metrics import make_scorer,accuracy_score\n"
   ]
  },
  {
   "cell_type": "code",
   "execution_count": 3,
   "id": "e375f050",
   "metadata": {},
   "outputs": [
    {
     "name": "stderr",
     "output_type": "stream",
     "text": [
      "/Users/wangxiaoyan/opt/anaconda3/lib/python3.9/site-packages/sklearn/model_selection/_split.py:700: UserWarning: The least populated class in y has only 1 members, which is less than n_splits=5.\n",
      "  warnings.warn(\n"
     ]
    },
    {
     "name": "stdout",
     "output_type": "stream",
     "text": [
      "Best Parameters: {'max_depth': 6, 'min_samples_split': 4, 'n_estimators': 50}\n",
      "Best Score: 0.7779411764705882\n"
     ]
    },
    {
     "name": "stderr",
     "output_type": "stream",
     "text": [
      "/Users/wangxiaoyan/opt/anaconda3/lib/python3.9/site-packages/sklearn/model_selection/_split.py:700: UserWarning: The least populated class in y has only 1 members, which is less than n_splits=5.\n",
      "  warnings.warn(\n"
     ]
    },
    {
     "name": "stdout",
     "output_type": "stream",
     "text": [
      "Cross Validation Scores: [0.70588235 0.75       0.6875     0.5625     0.75      ]\n"
     ]
    }
   ],
   "source": [
    "data = pd.read_csv('/Users/wangxiaoyan/Documents/wy/论文/git/scientific-worker-mental-health/data/科技人员焦虑表-重要特征数据.csv')\n",
    "y = data['anxiety']\n",
    "X = data.drop('anxiety', axis=1)\n",
    "rfc = RandomForestClassifier()\n",
    "\n",
    "# 定义参数搜索范围\n",
    "param_grid = {'n_estimators': [50, 100, 150,200], 'max_depth': [2, 4, 6, 8], 'min_samples_split': [2, 4, 6,8]}\n",
    "\n",
    "# 定义评分函数\n",
    "scoring = {'Accuracy': make_scorer(accuracy_score)}\n",
    "\n",
    "# 定义交叉验证\n",
    "cv = 5\n",
    "\n",
    "# 使用 GridSearchCV 进行参数搜索和交叉验证\n",
    "clf = GridSearchCV(rfc, param_grid, scoring=scoring, cv=cv, refit='Accuracy', n_jobs=-1)\n",
    "clf.fit(X, y)\n",
    "\n",
    "# 输出最佳参数和交叉验证得分\n",
    "print('Best Parameters:', clf.best_params_)\n",
    "print('Best Score:', clf.best_score_)\n",
    "\n",
    "# 使用最佳参数进行模型训练和预测，并输出交叉验证得分\n",
    "rfc_best = RandomForestClassifier(n_estimators=clf.best_params_['n_estimators'], max_depth=clf.best_params_['max_depth'], \n",
    "                                   min_samples_split=clf.best_params_['min_samples_split'])\n",
    "scores = cross_val_score(rfc_best, X, y, cv=cv, scoring='accuracy')\n",
    "print('Cross Validation Scores:', scores)"
   ]
  },
  {
   "cell_type": "code",
   "execution_count": null,
   "id": "fa8963eb",
   "metadata": {},
   "outputs": [],
   "source": []
  }
 ],
 "metadata": {
  "kernelspec": {
   "display_name": "Python 3 (ipykernel)",
   "language": "python",
   "name": "python3"
  },
  "language_info": {
   "codemirror_mode": {
    "name": "ipython",
    "version": 3
   },
   "file_extension": ".py",
   "mimetype": "text/x-python",
   "name": "python",
   "nbconvert_exporter": "python",
   "pygments_lexer": "ipython3",
   "version": "3.9.13"
  }
 },
 "nbformat": 4,
 "nbformat_minor": 5
}
