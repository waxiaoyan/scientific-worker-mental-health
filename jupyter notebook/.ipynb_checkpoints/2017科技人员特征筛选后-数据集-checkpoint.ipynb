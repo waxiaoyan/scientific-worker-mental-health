{
 "cells": [
  {
   "cell_type": "code",
   "execution_count": 7,
   "id": "75d0c985",
   "metadata": {},
   "outputs": [],
   "source": [
    "import pandas as pd, numpy as np\n",
    "from sklearn.experimental import enable_iterative_imputer\n",
    "from sklearn.impute import IterativeImputer\n"
   ]
  },
  {
   "cell_type": "code",
   "execution_count": 18,
   "id": "e147cc2a",
   "metadata": {},
   "outputs": [],
   "source": [
    "#'NumberCH7',,'PSQI31'\n",
    "# selected_columns = ['OSI6','OSI5','OSI15','STPQsc20','STPQawt4','OSI7','OSI3','OSI17','STPQawt3','STPQpe1','OSI16','OSI1','STPQjs7','STPQpe18','MBIGS5','STPQil2','MBIGS14','STPQil3','PANAS14','IIS1','PANAS2','LSS3','OSI14','MBIGS12','STPQjs2','PANAS9','STPQai17','STPQlt3','OSI4','PANAS17','OSI8','PANAS7','Age','Irritability','OSI9','OSI13','PBSMHS14','PSQI2','PSQI4','WFCS9','PANAS5','PBSMHS18','MBIGS7','MBIGS1','OSI12','OSI11','OSI10','OSI2','PANAS11','STPQjs1','STPQjs12','PBSMHS20','STPQai4','MBIGS9','STPQjs10','STPQpe14','PANAS19','LSS4','PBSMHS4','STPQsc1','WFCS4','WFCS3','depression','anxiety','suicide']\n",
    "# selected_columns = ['Irritability','OSI1','OSI5','OSI4','PANAS17','PANAS19','OSI11','OSI7','PANAS5','PANAS1','OSI8','OSI6','PANAS11','OSI9','OSI2','PANAS7','Age','PANAS15','OSI13','PANAS3','WORKTIME1','STPQawt1','LSS3','OSI3','PSQI4','WFCS10','STPQawt2','OSI15','WORKTIME4','STPQpe18','OSI12','PANAS9','WFCS2','WFCS4','OSI16','WFCS3','OSI17','OSI10','PANAS13','PSQI1','IIS5','PBSMHS13','IIS4','IIS6','STPQai1','OSI14','STPQawt7','STPQawt4','STPQpost1','PSQI3','STPQoc25','STPQawt5','STPQawt6','STPQpost3','STPQil1','depression','anxiety','suicide']\n",
    "#selected_columns =  ['PANAS1','PANAS19','PANAS3','PANAS15','STPQai17','PANAS13','PANAS11','PANAS17','STPQil1','PANAS5','PANAS7','IIS5','WORKTIME4','OSI5','STPQawt2','OSI9','Irritability','OSI13','STPQlt13','OSI15','OSI14','PANAS16','STPQai4','PANAS9','STPQpe7','OSI7','OSI11','PBSMHS11','PBSMHS13','IIS4','OSI16','OSI6','LSS3','PSQI4','OSI17','WFCS2','WFCS4','PSQI2','STPQai3','STPQai1','PBSMHS16','WFCS6','depression','anxiety','suicide']\n",
    "#通过BalancedRandomForestClassifier选择\n",
    "# selected_columns = ['LSS4','Irritability','LSS1','exeminp','WORKTIME4','LSS5','STPQawt1','STPQawt2','PANAS19','WFCS4','STPQ20','PANAS5','WORKTIME1','OSI11','STPQ2','PSQI4','STPQpe18','STPQawt4','STPQawt5','STPQawt3','PANAS17','OSI16','WFCS6','OSI4','PBSMHS13','STPQlt13','STPQoc25','PANAS7','OSI2','STPQawt7','OSI1','OSI10','WFCS1','OSI3','OSI6','STPQawt6','LSS3','OSI8','STPQai3','STPQai4','LSS2','PBSMHS19','STPQil2','STPQpost2','STPQoc24','WFCS7','STPQpost1','WFCS3','STPQpe1','WFCS5','depression','anxiety','suicide']\n",
    "\n",
    "#共同特征\n",
    "# selected_columns = ['LSS4','Irritability','LSS1','exeminp','WORKTIME4','STPQawt1','STPQawt2','PANAS19','WFCS4','PANAS5','WORKTIME1','OSI11','STPQpe18','STPQawt3','PANAS17','OSI16','WFCS6','OSI4','STPQlt13','STPQoc25','PANAS7','OSI2','STPQawt7','depression','anxiety','suicide']\n",
    "#smottenn 交集特征\n",
    "selected_columns = ['LSS3','PANAS3','STPQawt2','Irritability','PANAS5','PANAS17','OSI5','OSI11','OSI7','PANAS19','OSI1','OSI4','PANAS7','PANAS1','OSI8','OSI9','OSI13','OSI12','OSI3','STPQai3','OSI6','PBSMHS16','OSI2','OSI17','WFCS4','PANAS13','OSI14','PANAS9','depression','anxiety','suicide']\n",
    "#smottenn 并集特征\n",
    "# selected_columns = ['STPQil1','PANAS15','STPQlt13','STPQpe7','STPQai4','STPQawt1','PANAS16','LSS5','STPQai17','PBSMHS13','STPQpost16','STPQpe18','PBSMHS11','WFCS10','LSS2','STPQawt3','PANAS11','STPQai1','OSI10','WFCS6','LSS3','PANAS3','STPQawt2','Irritability','PANAS5','PANAS17','OSI5','OSI11','OSI7','PANAS19','OSI1','OSI4','PANAS7','PANAS1','OSI8','OSI9','OSI13','OSI12','OSI3','STPQai3','OSI6','PBSMHS16','OSI2','OSI17','WFCS4','PANAS13','OSI14','PANAS9','depression','anxiety','suicide']\n",
    "\n",
    "\n",
    "\n"
   ]
  },
  {
   "cell_type": "code",
   "execution_count": 19,
   "id": "a02751dc",
   "metadata": {},
   "outputs": [],
   "source": [
    "Scientific_Sample=pd.read_csv(\"/Users/wangxiaoyan/Documents/wy/论文/git/scientific-worker-mental-health/data/all/2017科技人员心理健康-清洗处理后数据.csv\")\n",
    "# Scientific_Sample = Scientific_Sample.dropna(axis = 0,subset =['GAD1','GAD2','GAD3','GAD4','GAD5','GAD6','GAD7'])\n",
    "# Scientific_Sample = Scientific_Sample.dropna(axis = 0,subset =['CESD3','CESD5','CESD6','CESD7','CESD12','CESD14','CESD16','CESD18','CESD20'])\n",
    "# Scientific_Sample = Scientific_Sample.dropna(axis = 0,subset =['suicide'])\n",
    "\n",
    "# #计算抑郁级别\n",
    "# Scientific_Sample.eval('depression = CESD3+CESD5+CESD6+CESD7+CESD12+CESD14+CESD16+CESD18+CESD20',inplace = True)\n",
    "# Scientific_Sample['depression'] = pd.cut(Scientific_Sample.depression, [-1, 10, 17,np.inf], labels=[0, 1, 2])\n",
    "# #计算焦虑级别\n",
    "# Scientific_Sample.eval('anxiety = GAD1+GAD2+GAD3+GAD4+GAD5+GAD6+GAD7',inplace = True)\n",
    "# Scientific_Sample['anxiety'] = pd.cut(Scientific_Sample.anxiety, [-1, 4, 9, 14,np.inf], labels=[0, 1, 2, 3])\n",
    "# col_to_move = Scientific_Sample.pop('suicide')\n",
    "# # 使用 insert 方法将弹出的列插入到 DataFrame 的最后一个位置\n",
    "# df.insert(Scientific_Sample.shape[1], col_to_move.name, col_to_move)\n",
    "\n",
    "Scientific_Sample = Scientific_Sample[selected_columns]\n",
    "# Scientific_Sample = Scientific_Sample.dropna(thresh=Scientific_Sample.shape[0]*0.9,how='all',axis=1)\n",
    "# Scientific_Sample = Scientific_Sample.dropna(thresh=Scientific_Sample.shape[1]*0.9,how='all',axis=0)\n",
    "# col_names = Scientific_Sample.columns\n",
    "# imputer = IterativeImputer()\n",
    "# imputed_df = pd.DataFrame(imputer.fit_transform(Scientific_Sample))\n",
    "# imputed_df.columns = col_names\n",
    "Scientific_Sample.to_csv(\"/Users/wangxiaoyan/Documents/wy/论文/git/scientific-worker-mental-health/data/all/2017-科技人员心理健康SMOTEENN特征筛选后-交集特征-数据集.csv\",index=False)\n",
    "\n"
   ]
  },
  {
   "cell_type": "code",
   "execution_count": null,
   "id": "465b67cc",
   "metadata": {},
   "outputs": [],
   "source": []
  }
 ],
 "metadata": {
  "kernelspec": {
   "display_name": "Python 3 (ipykernel)",
   "language": "python",
   "name": "python3"
  },
  "language_info": {
   "codemirror_mode": {
    "name": "ipython",
    "version": 3
   },
   "file_extension": ".py",
   "mimetype": "text/x-python",
   "name": "python",
   "nbconvert_exporter": "python",
   "pygments_lexer": "ipython3",
   "version": "3.9.13"
  }
 },
 "nbformat": 4,
 "nbformat_minor": 5
}
