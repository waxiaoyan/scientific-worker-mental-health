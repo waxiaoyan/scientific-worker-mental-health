{
 "cells": [
  {
   "cell_type": "code",
   "execution_count": 165,
   "id": "fab4fa1a",
   "metadata": {},
   "outputs": [],
   "source": [
    "from sklearn.model_selection import train_test_split\n",
    "from sklearn import metrics\n",
    "# import xgboost as xgb\n",
    "import matplotlib.pyplot as plt\n",
    "from sklearn.model_selection import GridSearchCV\n",
    "import pandas as pd, numpy as np\n",
    "import matplotlib as mpl\n",
    "# import lightgbm as lgb\n",
    "from sklearn.metrics import mean_squared_error\n",
    "from sklearn.experimental import enable_iterative_imputer\n",
    "from sklearn.impute import IterativeImputer\n",
    "from sklearn.ensemble import RandomForestClassifier\n"
   ]
  },
  {
   "cell_type": "code",
   "execution_count": 396,
   "id": "475b69f5",
   "metadata": {},
   "outputs": [],
   "source": [
    "Scientific_Sample=pd.read_csv(\"/Users/wangxiaoyan/Documents/wy/论文/git/scientific-worker-mental-health/data/科技人员原始数据.csv\")"
   ]
  },
  {
   "cell_type": "code",
   "execution_count": 397,
   "id": "74e6941c",
   "metadata": {},
   "outputs": [],
   "source": [
    "Scientific_Sample = Scientific_Sample.dropna(axis = 0,subset =['CESD3','CESD5','CESD6','CESD7','CESD12','CESD14','CESD16','CESD18','CESD20'])"
   ]
  },
  {
   "cell_type": "code",
   "execution_count": 398,
   "id": "48d69831",
   "metadata": {},
   "outputs": [],
   "source": [
    "Scientific_Sample.eval('health = CESD3+CESD5+CESD6+CESD7+CESD12+CESD14+CESD16+CESD18+CESD20',inplace = True)"
   ]
  },
  {
   "cell_type": "code",
   "execution_count": 399,
   "id": "880ddb2a",
   "metadata": {},
   "outputs": [],
   "source": [
    "Scientific_Sample['health'] = pd.cut(Scientific_Sample.health, [-1, 10, 17,np.inf], labels=[0, 1, 2])\n"
   ]
  },
  {
   "cell_type": "code",
   "execution_count": 400,
   "id": "22dee89d",
   "metadata": {},
   "outputs": [],
   "source": [
    "Scientific_Sample = Scientific_Sample.drop(labels=['CESD3','CESD5','CESD6','CESD7','CESD12','CESD14','CESD16','CESD18','CESD20','Group'],axis=1)\n"
   ]
  },
  {
   "cell_type": "code",
   "execution_count": 401,
   "id": "651cd9fb",
   "metadata": {},
   "outputs": [],
   "source": [
    "Scientific_Sample = Scientific_Sample.dropna(thresh=Scientific_Sample.shape[0]*0.6,how='all',axis=1)\n",
    "Scientific_Sample = Scientific_Sample.dropna(thresh=Scientific_Sample.shape[1]*0.6,how='all',axis=0)"
   ]
  },
  {
   "cell_type": "code",
   "execution_count": 403,
   "id": "302eedb7",
   "metadata": {},
   "outputs": [],
   "source": [
    "Scientific_Sample.to_csv(\"/Users/wangxiaoyan/Documents/wy/论文/git/scientific-worker-mental-health/data/科技人员抑郁量表-初步数据处理.csv\",sep=',')"
   ]
  },
  {
   "cell_type": "code",
   "execution_count": 404,
   "id": "bff12687",
   "metadata": {},
   "outputs": [],
   "source": [
    "Scientific_Sample=pd.read_csv(\"/Users/wangxiaoyan/Documents/wy/论文/git/scientific-worker-mental-health/data/科技人员抑郁量表-初步数据处理.csv\")"
   ]
  },
  {
   "cell_type": "code",
   "execution_count": 405,
   "id": "9cc5c0b7",
   "metadata": {},
   "outputs": [],
   "source": [
    "col_names = Scientific_Sample.columns\n",
    "\n",
    "imputer = IterativeImputer()\n",
    "# imputer.fit(Scientific_Sample)\n"
   ]
  },
  {
   "cell_type": "code",
   "execution_count": 407,
   "id": "b4abd072",
   "metadata": {},
   "outputs": [
    {
     "ename": "ValueError",
     "evalue": "could not convert string to float: '普通中学40'",
     "output_type": "error",
     "traceback": [
      "\u001b[0;31m---------------------------------------------------------------------------\u001b[0m",
      "\u001b[0;31mValueError\u001b[0m                                Traceback (most recent call last)",
      "\u001b[0;32m/var/folders/6r/np24csk96nn1jm3ckkjcn48r0000gq/T/ipykernel_53315/1568985458.py\u001b[0m in \u001b[0;36m<module>\u001b[0;34m\u001b[0m\n\u001b[0;32m----> 1\u001b[0;31m \u001b[0mimputed_df\u001b[0m \u001b[0;34m=\u001b[0m \u001b[0mpd\u001b[0m\u001b[0;34m.\u001b[0m\u001b[0mDataFrame\u001b[0m\u001b[0;34m(\u001b[0m\u001b[0mimputer\u001b[0m\u001b[0;34m.\u001b[0m\u001b[0mfit_transform\u001b[0m\u001b[0;34m(\u001b[0m\u001b[0mScientific_Sample\u001b[0m\u001b[0;34m)\u001b[0m\u001b[0;34m)\u001b[0m\u001b[0;34m\u001b[0m\u001b[0;34m\u001b[0m\u001b[0m\n\u001b[0m\u001b[1;32m      2\u001b[0m \u001b[0mimputed_df\u001b[0m\u001b[0;34m.\u001b[0m\u001b[0mcolumns\u001b[0m \u001b[0;34m=\u001b[0m \u001b[0mcol_names\u001b[0m\u001b[0;34m\u001b[0m\u001b[0;34m\u001b[0m\u001b[0m\n",
      "\u001b[0;32m~/opt/anaconda3/lib/python3.9/site-packages/sklearn/impute/_iterative.py\u001b[0m in \u001b[0;36mfit_transform\u001b[0;34m(self, X, y)\u001b[0m\n\u001b[1;32m    616\u001b[0m         \u001b[0mself\u001b[0m\u001b[0;34m.\u001b[0m\u001b[0minitial_imputer_\u001b[0m \u001b[0;34m=\u001b[0m \u001b[0;32mNone\u001b[0m\u001b[0;34m\u001b[0m\u001b[0;34m\u001b[0m\u001b[0m\n\u001b[1;32m    617\u001b[0m \u001b[0;34m\u001b[0m\u001b[0m\n\u001b[0;32m--> 618\u001b[0;31m         X, Xt, mask_missing_values, complete_mask = self._initial_imputation(\n\u001b[0m\u001b[1;32m    619\u001b[0m             \u001b[0mX\u001b[0m\u001b[0;34m,\u001b[0m \u001b[0min_fit\u001b[0m\u001b[0;34m=\u001b[0m\u001b[0;32mTrue\u001b[0m\u001b[0;34m\u001b[0m\u001b[0;34m\u001b[0m\u001b[0m\n\u001b[1;32m    620\u001b[0m         )\n",
      "\u001b[0;32m~/opt/anaconda3/lib/python3.9/site-packages/sklearn/impute/_iterative.py\u001b[0m in \u001b[0;36m_initial_imputation\u001b[0;34m(self, X, in_fit)\u001b[0m\n\u001b[1;32m    512\u001b[0m             \u001b[0mforce_all_finite\u001b[0m \u001b[0;34m=\u001b[0m \u001b[0;32mTrue\u001b[0m\u001b[0;34m\u001b[0m\u001b[0;34m\u001b[0m\u001b[0m\n\u001b[1;32m    513\u001b[0m \u001b[0;34m\u001b[0m\u001b[0m\n\u001b[0;32m--> 514\u001b[0;31m         X = self._validate_data(\n\u001b[0m\u001b[1;32m    515\u001b[0m             \u001b[0mX\u001b[0m\u001b[0;34m,\u001b[0m\u001b[0;34m\u001b[0m\u001b[0;34m\u001b[0m\u001b[0m\n\u001b[1;32m    516\u001b[0m             \u001b[0mdtype\u001b[0m\u001b[0;34m=\u001b[0m\u001b[0mFLOAT_DTYPES\u001b[0m\u001b[0;34m,\u001b[0m\u001b[0;34m\u001b[0m\u001b[0;34m\u001b[0m\u001b[0m\n",
      "\u001b[0;32m~/opt/anaconda3/lib/python3.9/site-packages/sklearn/base.py\u001b[0m in \u001b[0;36m_validate_data\u001b[0;34m(self, X, y, reset, validate_separately, **check_params)\u001b[0m\n\u001b[1;32m    564\u001b[0m             \u001b[0;32mraise\u001b[0m \u001b[0mValueError\u001b[0m\u001b[0;34m(\u001b[0m\u001b[0;34m\"Validation should be done on X, y or both.\"\u001b[0m\u001b[0;34m)\u001b[0m\u001b[0;34m\u001b[0m\u001b[0;34m\u001b[0m\u001b[0m\n\u001b[1;32m    565\u001b[0m         \u001b[0;32melif\u001b[0m \u001b[0;32mnot\u001b[0m \u001b[0mno_val_X\u001b[0m \u001b[0;32mand\u001b[0m \u001b[0mno_val_y\u001b[0m\u001b[0;34m:\u001b[0m\u001b[0;34m\u001b[0m\u001b[0;34m\u001b[0m\u001b[0m\n\u001b[0;32m--> 566\u001b[0;31m             \u001b[0mX\u001b[0m \u001b[0;34m=\u001b[0m \u001b[0mcheck_array\u001b[0m\u001b[0;34m(\u001b[0m\u001b[0mX\u001b[0m\u001b[0;34m,\u001b[0m \u001b[0;34m**\u001b[0m\u001b[0mcheck_params\u001b[0m\u001b[0;34m)\u001b[0m\u001b[0;34m\u001b[0m\u001b[0;34m\u001b[0m\u001b[0m\n\u001b[0m\u001b[1;32m    567\u001b[0m             \u001b[0mout\u001b[0m \u001b[0;34m=\u001b[0m \u001b[0mX\u001b[0m\u001b[0;34m\u001b[0m\u001b[0;34m\u001b[0m\u001b[0m\n\u001b[1;32m    568\u001b[0m         \u001b[0;32melif\u001b[0m \u001b[0mno_val_X\u001b[0m \u001b[0;32mand\u001b[0m \u001b[0;32mnot\u001b[0m \u001b[0mno_val_y\u001b[0m\u001b[0;34m:\u001b[0m\u001b[0;34m\u001b[0m\u001b[0;34m\u001b[0m\u001b[0m\n",
      "\u001b[0;32m~/opt/anaconda3/lib/python3.9/site-packages/sklearn/utils/validation.py\u001b[0m in \u001b[0;36mcheck_array\u001b[0;34m(array, accept_sparse, accept_large_sparse, dtype, order, copy, force_all_finite, ensure_2d, allow_nd, ensure_min_samples, ensure_min_features, estimator)\u001b[0m\n\u001b[1;32m    744\u001b[0m                     \u001b[0marray\u001b[0m \u001b[0;34m=\u001b[0m \u001b[0marray\u001b[0m\u001b[0;34m.\u001b[0m\u001b[0mastype\u001b[0m\u001b[0;34m(\u001b[0m\u001b[0mdtype\u001b[0m\u001b[0;34m,\u001b[0m \u001b[0mcasting\u001b[0m\u001b[0;34m=\u001b[0m\u001b[0;34m\"unsafe\"\u001b[0m\u001b[0;34m,\u001b[0m \u001b[0mcopy\u001b[0m\u001b[0;34m=\u001b[0m\u001b[0;32mFalse\u001b[0m\u001b[0;34m)\u001b[0m\u001b[0;34m\u001b[0m\u001b[0;34m\u001b[0m\u001b[0m\n\u001b[1;32m    745\u001b[0m                 \u001b[0;32melse\u001b[0m\u001b[0;34m:\u001b[0m\u001b[0;34m\u001b[0m\u001b[0;34m\u001b[0m\u001b[0m\n\u001b[0;32m--> 746\u001b[0;31m                     \u001b[0marray\u001b[0m \u001b[0;34m=\u001b[0m \u001b[0mnp\u001b[0m\u001b[0;34m.\u001b[0m\u001b[0masarray\u001b[0m\u001b[0;34m(\u001b[0m\u001b[0marray\u001b[0m\u001b[0;34m,\u001b[0m \u001b[0morder\u001b[0m\u001b[0;34m=\u001b[0m\u001b[0morder\u001b[0m\u001b[0;34m,\u001b[0m \u001b[0mdtype\u001b[0m\u001b[0;34m=\u001b[0m\u001b[0mdtype\u001b[0m\u001b[0;34m)\u001b[0m\u001b[0;34m\u001b[0m\u001b[0;34m\u001b[0m\u001b[0m\n\u001b[0m\u001b[1;32m    747\u001b[0m             \u001b[0;32mexcept\u001b[0m \u001b[0mComplexWarning\u001b[0m \u001b[0;32mas\u001b[0m \u001b[0mcomplex_warning\u001b[0m\u001b[0;34m:\u001b[0m\u001b[0;34m\u001b[0m\u001b[0;34m\u001b[0m\u001b[0m\n\u001b[1;32m    748\u001b[0m                 raise ValueError(\n",
      "\u001b[0;32m~/opt/anaconda3/lib/python3.9/site-packages/pandas/core/generic.py\u001b[0m in \u001b[0;36m__array__\u001b[0;34m(self, dtype)\u001b[0m\n\u001b[1;32m   2062\u001b[0m \u001b[0;34m\u001b[0m\u001b[0m\n\u001b[1;32m   2063\u001b[0m     \u001b[0;32mdef\u001b[0m \u001b[0m__array__\u001b[0m\u001b[0;34m(\u001b[0m\u001b[0mself\u001b[0m\u001b[0;34m,\u001b[0m \u001b[0mdtype\u001b[0m\u001b[0;34m:\u001b[0m \u001b[0mnpt\u001b[0m\u001b[0;34m.\u001b[0m\u001b[0mDTypeLike\u001b[0m \u001b[0;34m|\u001b[0m \u001b[0;32mNone\u001b[0m \u001b[0;34m=\u001b[0m \u001b[0;32mNone\u001b[0m\u001b[0;34m)\u001b[0m \u001b[0;34m->\u001b[0m \u001b[0mnp\u001b[0m\u001b[0;34m.\u001b[0m\u001b[0mndarray\u001b[0m\u001b[0;34m:\u001b[0m\u001b[0;34m\u001b[0m\u001b[0;34m\u001b[0m\u001b[0m\n\u001b[0;32m-> 2064\u001b[0;31m         \u001b[0;32mreturn\u001b[0m \u001b[0mnp\u001b[0m\u001b[0;34m.\u001b[0m\u001b[0masarray\u001b[0m\u001b[0;34m(\u001b[0m\u001b[0mself\u001b[0m\u001b[0;34m.\u001b[0m\u001b[0m_values\u001b[0m\u001b[0;34m,\u001b[0m \u001b[0mdtype\u001b[0m\u001b[0;34m=\u001b[0m\u001b[0mdtype\u001b[0m\u001b[0;34m)\u001b[0m\u001b[0;34m\u001b[0m\u001b[0;34m\u001b[0m\u001b[0m\n\u001b[0m\u001b[1;32m   2065\u001b[0m \u001b[0;34m\u001b[0m\u001b[0m\n\u001b[1;32m   2066\u001b[0m     def __array_wrap__(\n",
      "\u001b[0;31mValueError\u001b[0m: could not convert string to float: '普通中学40'"
     ]
    }
   ],
   "source": [
    "imputed_df = pd.DataFrame(imputer.fit_transform(Scientific_Sample))\n",
    "imputed_df.columns = col_names\n"
   ]
  },
  {
   "cell_type": "code",
   "execution_count": 370,
   "id": "209cff6a",
   "metadata": {},
   "outputs": [],
   "source": [
    "# Scientific_Sample[Scientific_Sample.isna()] = imputed_df[Scientific_Sample.isna()]\n"
   ]
  },
  {
   "cell_type": "code",
   "execution_count": 383,
   "id": "5c079afd",
   "metadata": {},
   "outputs": [],
   "source": [
    "imputed_df.to_csv(\"/Users/wangxiaoyan/Documents/wy/论文/git/scientific-worker-mental-health/data/IterativeImputer处理后数据.csv\",index=False)\n"
   ]
  },
  {
   "cell_type": "code",
   "execution_count": 402,
   "id": "712606b7",
   "metadata": {},
   "outputs": [],
   "source": [
    "# Scientific_Sample=pd.read_csv(\"/Users/wangxiaoyan/Documents/wy/论文/git/scientific-worker-mental-health/data/IterativeImputer处理后数据.csv\")\n",
    "Scientific_Sample = Scientific_Sample.drop(labels=['GAD1','GAD2','GAD3','GAD4','GAD5','GAD6','GAD7'],axis=1)\n",
    "Scientific_Sample = Scientific_Sample.drop(labels=['CSDMHS1','CSDMHS2','CSDMHS3','CSDMHS4','CSDMHS5','CSDMHS6','CSDMHS7','CSDMHS8','CSDMHS9','CSDMHS10','CSDMHS11','CSDMHS12','CSDMHS13','CSDMHS14','CSDMHS15','CSDMHS16','CSDMHS18','CSDMHS19','CSDMHS20','CSDMHS21','CSDMHS22','CSDMHS23','CSDMHS24','CSDMHS25','CSDMHS26','CSDMHS27','CSDMHS28','CSDMHS29','CSDMHS30','CSDMHS32','CSDMHS33','CSDMHS34','CSDMHS35','CSDMHS36','CSDMHS37','CSDMHS38'],axis=1)\n",
    "Scientific_Sample = Scientific_Sample.drop(labels=['MHLQ7','MHLQ27','MHLQ29','MHLQ44','MHLQ9'],axis=1)\n",
    "Scientific_Sample = Scientific_Sample.drop(labels=['PBSMHS1','PBSMHS2','PBSMHS3','PBSMHS4','PBSMHS5','PBSMHS6','PBSMHS7','PBSMHS8','PBSMHS9','PBSMHS10','PBSMHS11','PBSMHS12','PBSMHS13','PBSMHS14','PBSMHS15','PBSMHS16','PBSMHS17','PBSMHS18','PBSMHS19','PBSMHS20'],axis=1)\n",
    "Scientific_Sample = Scientific_Sample.drop(labels=['PCQ1'],axis=1)\n",
    "Scientific_Sample = Scientific_Sample.drop(labels=['STPQ2','STPQ18','STPQ19','STPQ20','STPQ14'],axis=1)\n",
    "Scientific_Sample = Scientific_Sample.drop(labels=['STPQea1'],axis=1)\n",
    "Scientific_Sample = Scientific_Sample.drop(labels=['STPQil1','STPQil2','STPQil3','STPQil8','STPQil9'],axis=1)\n",
    "Scientific_Sample = Scientific_Sample.drop(labels=['STPQoc24','STPQoc25'],axis=1)\n",
    "Scientific_Sample = Scientific_Sample.drop(labels=['STPQlt13','STPQsc1','STPQsc2','STPQsc3','STPQsc4','STPQsc5','STPQsc6','STPQsc7','STPQsc8','STPQsc9','STPQsc10','STPQsc11','STPQsc12','STPQsc13','STPQsc14','STPQsc15','STPQsc16','STPQsc17','STPQsc18','STPQsc19','STPQsc20'],axis=1)\n"
   ]
  },
  {
   "cell_type": "code",
   "execution_count": 372,
   "id": "b1509867",
   "metadata": {},
   "outputs": [],
   "source": [
    "Scientific_Sample.to_csv(\"/Users/wangxiaoyan/Documents/wy/论文/git/scientific-worker-mental-health/data/IterativeImputer填空删除后数据.csv\",index=False)\n"
   ]
  },
  {
   "cell_type": "code",
   "execution_count": 339,
   "id": "cc366aeb",
   "metadata": {},
   "outputs": [],
   "source": [
    "Scientific_Sample=pd.read_csv(\"/Users/wangxiaoyan/Documents/wy/论文/git/scientific-worker-mental-health/data/IterativeImputer填空后数据.csv\")\n"
   ]
  },
  {
   "cell_type": "code",
   "execution_count": 237,
   "id": "018850c3",
   "metadata": {},
   "outputs": [],
   "source": [
    "Scientific_Sample=pd.read_csv(\"/Users/wangxiaoyan/Documents/wy/论文/git/scientific-worker-mental-health/data/科技人员数据-随机森林.csv\")\n"
   ]
  },
  {
   "cell_type": "code",
   "execution_count": 340,
   "id": "f0ea028e",
   "metadata": {},
   "outputs": [],
   "source": [
    "Scientific_Sample.eval('岗位 = STPQpost2+STPQpost3+STPQpost4+STPQpost5+STPQpost6+STPQpost7+STPQpost8+STPQpost9+STPQpost10+STPQpost11+STPQpost12+STPQpost13+STPQpost14+STPQpost15+STPQpost16',inplace = True)\n",
    "Scientific_Sample = Scientific_Sample.drop(labels=['STPQpost2','STPQpost3','STPQpost4','STPQpost5','STPQpost6','STPQpost7','STPQpost8','STPQpost9','STPQpost10','STPQpost11','STPQpost12','STPQpost13','STPQpost14','STPQpost15','STPQpost16'],axis=1)\n"
   ]
  },
  {
   "cell_type": "code",
   "execution_count": 341,
   "id": "6d6a2254",
   "metadata": {},
   "outputs": [],
   "source": [
    "Scientific_Sample.eval('睡眠 = PSQI1+PSQI2+PSQI3+PSQI4',inplace = True)\n",
    "Scientific_Sample = Scientific_Sample.drop(labels=['PSQI1','PSQI2','PSQI3','PSQI4'],axis=1)\n"
   ]
  },
  {
   "cell_type": "code",
   "execution_count": 342,
   "id": "109f95b1",
   "metadata": {},
   "outputs": [],
   "source": [
    "Scientific_Sample.eval('工作倦怠 = MBIGS1+MBIGS2+MBIGS3+MBIGS4+MBIGS5+MBIGS6+MBIGS7+MBIGS8+MBIGS9+MBIGS10+MBIGS11+MBIGS12+MBIGS13+MBIGS14+MBIGS15',inplace = True)\n",
    "Scientific_Sample = Scientific_Sample.drop(labels=['MBIGS1','MBIGS2','MBIGS3','MBIGS4','MBIGS5','MBIGS6','MBIGS7','MBIGS8','MBIGS9','MBIGS10','MBIGS11','MBIGS12','MBIGS13','MBIGS14','MBIGS15'],axis=1)\n"
   ]
  },
  {
   "cell_type": "code",
   "execution_count": 343,
   "id": "cda2aa49",
   "metadata": {},
   "outputs": [],
   "source": [
    "Scientific_Sample.eval('工作家庭冲突 = WFCS1+WFCS2+WFCS3+WFCS4+WFCS5+WFCS6+WFCS7+WFCS8+WFCS9+WFCS10',inplace = True)\n",
    "Scientific_Sample = Scientific_Sample.drop(labels=['WFCS1','WFCS2','WFCS3','WFCS4','WFCS5','WFCS6','WFCS7','WFCS8','WFCS9','WFCS10'],axis=1)\n"
   ]
  },
  {
   "cell_type": "code",
   "execution_count": 344,
   "id": "19869009",
   "metadata": {},
   "outputs": [],
   "source": [
    "Scientific_Sample.eval('幸福感与工作满意度 = LSS1+LSS2+LSS3+LSS4+LSS5',inplace = True)\n",
    "Scientific_Sample = Scientific_Sample.drop(labels=['LSS1','LSS2','LSS3','LSS4','LSS5'],axis=1)\n"
   ]
  },
  {
   "cell_type": "code",
   "execution_count": 345,
   "id": "be7982d1",
   "metadata": {},
   "outputs": [],
   "source": [
    "#删除广泛性焦虑量表\n",
    "#Scientific_Sample.eval('GAD = GAD1+GAD2+GAD3+GAD4+GAD5+GAD6+GAD7',inplace = True)\n",
    "Scientific_Sample = Scientific_Sample.drop(labels=['GAD1','GAD2','GAD3','GAD4','GAD5','GAD6','GAD7'],axis=1)\n"
   ]
  },
  {
   "cell_type": "code",
   "execution_count": 346,
   "id": "4efda1b9",
   "metadata": {},
   "outputs": [],
   "source": [
    "\n",
    "# Scientific_Sample.eval('心理健康服务需求与现状 = CSDMHS1+CSDMHS2+CSDMHS3+CSDMHS4+CSDMHS5+CSDMHS6+CSDMHS7+CSDMHS8+CSDMHS9+CSDMHS10+CSDMHS11+CSDMHS12+CSDMHS13+CSDMHS14+CSDMHS15+CSDMHS16+CSDMHS18+CSDMHS19+CSDMHS20+CSDMHS21+CSDMHS22+CSDMHS23+CSDMHS24+CSDMHS25+CSDMHS26+CSDMHS27+CSDMHS28+CSDMHS29+CSDMHS30+CSDMHS32+CSDMHS33+CSDMHS34+CSDMHS35+CSDMHS36+CSDMHS37+CSDMHS38', engine='python',inplace = True)\n",
    "Scientific_Sample = Scientific_Sample.drop(labels=['CSDMHS1','CSDMHS2','CSDMHS3','CSDMHS4','CSDMHS5','CSDMHS6','CSDMHS7','CSDMHS8','CSDMHS9','CSDMHS10','CSDMHS11','CSDMHS12','CSDMHS13','CSDMHS14','CSDMHS15','CSDMHS16','CSDMHS18','CSDMHS19','CSDMHS20','CSDMHS21','CSDMHS22','CSDMHS23','CSDMHS24','CSDMHS25','CSDMHS26','CSDMHS27','CSDMHS28','CSDMHS29','CSDMHS30','CSDMHS32','CSDMHS33','CSDMHS34','CSDMHS35','CSDMHS36','CSDMHS37','CSDMHS38'],axis=1)\n"
   ]
  },
  {
   "cell_type": "code",
   "execution_count": 347,
   "id": "626501bf",
   "metadata": {},
   "outputs": [],
   "source": [
    "# Scientific_Sample.eval('心理健康素养 = MHLQ7+MHLQ27+MHLQ29+MHLQ44+MHLQ9',inplace = True)\n",
    "Scientific_Sample = Scientific_Sample.drop(labels=['MHLQ7','MHLQ27','MHLQ29','MHLQ44','MHLQ9'],axis=1)\n"
   ]
  },
  {
   "cell_type": "code",
   "execution_count": 348,
   "id": "fb94e92d",
   "metadata": {},
   "outputs": [],
   "source": [
    "# Scientific_Sample.eval('心理求助障碍 = PBSMHS1+PBSMHS2+PBSMHS3+PBSMHS4+PBSMHS5+PBSMHS6+PBSMHS7+PBSMHS8+PBSMHS9+PBSMHS10+PBSMHS11+PBSMHS12+PBSMHS13+PBSMHS14+PBSMHS15+PBSMHS16+PBSMHS17+PBSMHS18+PBSMHS19+PBSMHS20',inplace = True)\n",
    "Scientific_Sample = Scientific_Sample.drop(labels=['PBSMHS1','PBSMHS2','PBSMHS3','PBSMHS4','PBSMHS5','PBSMHS6','PBSMHS7','PBSMHS8','PBSMHS9','PBSMHS10','PBSMHS11','PBSMHS12','PBSMHS13','PBSMHS14','PBSMHS15','PBSMHS16','PBSMHS17','PBSMHS18','PBSMHS19','PBSMHS20'],axis=1)\n"
   ]
  },
  {
   "cell_type": "code",
   "execution_count": 349,
   "id": "ec24f0e8",
   "metadata": {},
   "outputs": [],
   "source": [
    "# Scientific_Sample.eval('心理资本 = PCQ1',inplace = True)\n",
    "Scientific_Sample = Scientific_Sample.drop(labels=['PCQ1'],axis=1)\n"
   ]
  },
  {
   "cell_type": "code",
   "execution_count": 350,
   "id": "b8d57177",
   "metadata": {},
   "outputs": [],
   "source": [
    "Scientific_Sample.eval('正性与负性情绪 = PANAS1+PANAS2+PANAS3+PANAS4+PANAS5+PANAS6+PANAS7+PANAS8+PANAS9+PANAS10+PANAS11+PANAS12+PANAS13+PANAS14+PANAS15+PANAS16+PANAS17+PANAS18+PANAS19+PANAS20',inplace = True)\n",
    "Scientific_Sample = Scientific_Sample.drop(labels=['PANAS1','PANAS2','PANAS3','PANAS4','PANAS5','PANAS6','PANAS7','PANAS8','PANAS9','PANAS10','PANAS11','PANAS12','PANAS13','PANAS14','PANAS15','PANAS16','PANAS17','PANAS18','PANAS19','PANAS20'],axis=1)\n"
   ]
  },
  {
   "cell_type": "code",
   "execution_count": 351,
   "id": "dbcabb8f",
   "metadata": {},
   "outputs": [],
   "source": [
    "\n",
    "# Scientific_Sample.eval('科技工作者 = STPQ2+STPQ18+STPQ19+STPQ20+STPQ14',inplace = True)\n",
    "Scientific_Sample = Scientific_Sample.drop(labels=['STPQ2','STPQ18','STPQ19','STPQ20','STPQ14'],axis=1)\n"
   ]
  },
  {
   "cell_type": "code",
   "execution_count": 352,
   "id": "1b6ef711",
   "metadata": {},
   "outputs": [],
   "source": [
    "# Scientific_Sample.eval('创业态度 = STPQea1',inplace = True)\n",
    "Scientific_Sample = Scientific_Sample.drop(labels=['STPQea1'],axis=1)\n"
   ]
  },
  {
   "cell_type": "code",
   "execution_count": 353,
   "id": "d51344d9",
   "metadata": {},
   "outputs": [],
   "source": [
    "\n",
    "Scientific_Sample.eval('工作时间分配 = STPQawt1+STPQawt2+STPQawt3+STPQawt4+STPQawt5+STPQawt6+STPQawt7',inplace = True)\n",
    "Scientific_Sample = Scientific_Sample.drop(labels=['STPQawt1','STPQawt2','STPQawt3','STPQawt4','STPQawt5','STPQawt6','STPQawt7'],axis=1)\n"
   ]
  },
  {
   "cell_type": "code",
   "execution_count": 354,
   "id": "a7d54edd",
   "metadata": {},
   "outputs": [],
   "source": [
    "\n",
    "Scientific_Sample.eval('工作满意度 = STPQjs1+STPQjs2+STPQjs3+STPQjs4+STPQjs5+STPQjs6+STPQjs7+STPQjs8+STPQjs9+STPQjs10+STPQjs11+STPQjs12+STPQjs13+STPQjs14',inplace = True)\n",
    "Scientific_Sample = Scientific_Sample.drop(labels=['STPQjs1','STPQjs2','STPQjs3','STPQjs4','STPQjs5','STPQjs6','STPQjs7','STPQjs8','STPQjs9','STPQjs10','STPQjs11','STPQjs12','STPQjs13','STPQjs14'],axis=1)\n"
   ]
  },
  {
   "cell_type": "code",
   "execution_count": 356,
   "id": "ebe2a01e",
   "metadata": {},
   "outputs": [],
   "source": [
    "\n",
    "# Scientific_Sample.eval('收入水平 = STPQil1+STPQil2+STPQil3+STPQil8+STPQil9',inplace = True)\n",
    "Scientific_Sample = Scientific_Sample.drop(labels=['STPQil1','STPQil2','STPQil3','STPQil8','STPQil9'],axis=1)\n"
   ]
  },
  {
   "cell_type": "code",
   "execution_count": 357,
   "id": "7d770cc2",
   "metadata": {},
   "outputs": [],
   "source": [
    "\n",
    "Scientific_Sample.eval('生活困扰 = STPQlt1+STPQlt2+STPQlt3+STPQlt4+STPQlt5+STPQlt6+STPQlt7+STPQlt8+STPQlt9+STPQlt10+STPQlt11',inplace = True)\n",
    "Scientific_Sample = Scientific_Sample.drop(labels=['STPQlt1','STPQlt2','STPQlt3','STPQlt4','STPQlt5','STPQlt6','STPQlt7','STPQlt8','STPQlt9','STPQlt10','STPQlt11'],axis=1)\n"
   ]
  },
  {
   "cell_type": "code",
   "execution_count": 358,
   "id": "d195046a",
   "metadata": {},
   "outputs": [],
   "source": [
    "\n",
    "# Scientific_Sample.eval('社会资本 = STPQlt13+STPQsc1+STPQsc2+STPQsc3+STPQsc4+STPQsc5+STPQsc6+STPQsc7+STPQsc8+STPQsc9+STPQsc10+STPQsc11+STPQsc12+STPQsc13+STPQsc14+STPQsc15+STPQsc16+STPQsc17+STPQsc18+STPQsc19+STPQsc20',inplace = True)\n",
    "Scientific_Sample = Scientific_Sample.drop(labels=['STPQlt13','STPQsc1','STPQsc2','STPQsc3','STPQsc4','STPQsc5','STPQsc6','STPQsc7','STPQsc8','STPQsc9','STPQsc10','STPQsc11','STPQsc12','STPQsc13','STPQsc14','STPQsc15','STPQsc16','STPQsc17','STPQsc18','STPQsc19','STPQsc20'],axis=1)\n"
   ]
  },
  {
   "cell_type": "code",
   "execution_count": 359,
   "id": "7df61e72",
   "metadata": {},
   "outputs": [],
   "source": [
    "\n",
    "# Scientific_Sample.eval('组织氛围 = STPQoc24+STPQoc25',inplace = True)\n",
    "Scientific_Sample = Scientific_Sample.drop(labels=['STPQoc24','STPQoc25'],axis=1)\n"
   ]
  },
  {
   "cell_type": "code",
   "execution_count": 360,
   "id": "b68d50b7",
   "metadata": {},
   "outputs": [],
   "source": [
    "\n",
    "Scientific_Sample.eval('职业价值观 = STPQpe1+STPQpe2+STPQpe3+STPQpe4+STPQpe5+STPQpe6+STPQpe7+STPQpe8+STPQpe9+STPQpe10+STPQpe11+STPQpe12+STPQpe13+STPQpe14+STPQpe15+STPQpe16+STPQpe18',inplace = True)\n",
    "Scientific_Sample = Scientific_Sample.drop(labels=['STPQpe1','STPQpe2','STPQpe3','STPQpe4','STPQpe5','STPQpe6','STPQpe7','STPQpe8','STPQpe9','STPQpe10','STPQpe11','STPQpe12','STPQpe13','STPQpe14','STPQpe15','STPQpe16','STPQpe18'],axis=1)\n"
   ]
  },
  {
   "cell_type": "code",
   "execution_count": 361,
   "id": "fd75acdb",
   "metadata": {},
   "outputs": [],
   "source": [
    "\n",
    "Scientific_Sample.eval('行政干预 = STPQai1+STPQai2+STPQai3+STPQai4+STPQai5+STPQai17+STPQai32',inplace = True)\n",
    "Scientific_Sample = Scientific_Sample.drop(labels=['STPQai1','STPQai2','STPQai3','STPQai4','STPQai5','STPQai17','STPQai32'],axis=1)\n"
   ]
  },
  {
   "cell_type": "code",
   "execution_count": 362,
   "id": "20564cab",
   "metadata": {},
   "outputs": [],
   "source": [
    "\n",
    "Scientific_Sample.eval('职业压力 = OSI1+OSI2+OSI3+OSI4+OSI5+OSI6+OSI7+OSI8+OSI9+OSI10+OSI11+OSI12+OSI13+OSI14+OSI15+OSI16+OSI17+OSI18',inplace = True)\n",
    "Scientific_Sample = Scientific_Sample.drop(labels=['OSI1','OSI2','OSI3','OSI4','OSI5','OSI6','OSI7','OSI8','OSI9','OSI10','OSI11','OSI12','OSI13','OSI14','OSI15','OSI16','OSI17','OSI18'],axis=1)\n"
   ]
  },
  {
   "cell_type": "code",
   "execution_count": 363,
   "id": "47ca7ed8",
   "metadata": {},
   "outputs": [],
   "source": [
    "\n",
    "Scientific_Sample.eval('背景信息 = Gender+DOBy+RELIGIOUSB+Politicalstate+EduBG+major+Post+WorkingS+ProfessionalRT+TMIncome+NETIncome+AFECQ1+MaritalS+MAT1+height+weight+exenumweek+exeminp+SMOKING1+DRINKING1+suicide+EPQas47+EPQas30+EPQas12+Station+casedup1+casedup2+Yincome+Age+Agegrp1+WORKTIME1+WORKTIME4+NumberCH',engine='python',inplace = True)\n",
    "\n",
    "Scientific_Sample = Scientific_Sample.drop(labels=['Gender','DOBy','RELIGIOUSB','Politicalstate','EduBG','major','Post','WorkingS','ProfessionalRT','TMIncome','NETIncome','AFECQ1','MaritalS','MAT1','height','weight','exenumweek','exeminp','SMOKING1','DRINKING1','suicide','EPQas47','EPQas30','EPQas12','Station','casedup1','casedup2','Yincome','Age','Agegrp1','WORKTIME1','WORKTIME4','NumberCH'],axis=1)\n"
   ]
  },
  {
   "cell_type": "code",
   "execution_count": 364,
   "id": "3f7a5aaa",
   "metadata": {},
   "outputs": [],
   "source": [
    "\n",
    "Scientific_Sample.eval('个人创新行为 = IIS1+IIS2+IIS3+IIS4+IIS5+IIS6',engine='python',inplace = True)\n",
    "\n",
    "Scientific_Sample = Scientific_Sample.drop(labels=['IIS1','IIS2','IIS3','IIS4','IIS5','IIS6'],axis=1)\n"
   ]
  },
  {
   "cell_type": "code",
   "execution_count": 365,
   "id": "93b3d9c8",
   "metadata": {},
   "outputs": [],
   "source": [
    "\n",
    "Scientific_Sample.eval('易激惹 = Irritability',inplace = True)\n",
    "Scientific_Sample = Scientific_Sample.drop(labels=['Irritability'],axis=1)\n"
   ]
  },
  {
   "cell_type": "code",
   "execution_count": null,
   "id": "0eda71b6",
   "metadata": {},
   "outputs": [],
   "source": []
  },
  {
   "cell_type": "code",
   "execution_count": 366,
   "id": "6ca5900e",
   "metadata": {},
   "outputs": [],
   "source": [
    "Scientific_Sample.to_csv(\"/Users/wangxiaoyan/Documents/wy/论文/git/scientific-worker-mental-health/data/IterativeImputer-科技人员抑郁量表目标值分组.csv\",sep=',')"
   ]
  },
  {
   "cell_type": "code",
   "execution_count": null,
   "id": "89507014",
   "metadata": {},
   "outputs": [],
   "source": []
  },
  {
   "cell_type": "code",
   "execution_count": null,
   "id": "3c53b340",
   "metadata": {},
   "outputs": [],
   "source": []
  }
 ],
 "metadata": {
  "kernelspec": {
   "display_name": "Python 3 (ipykernel)",
   "language": "python",
   "name": "python3"
  },
  "language_info": {
   "codemirror_mode": {
    "name": "ipython",
    "version": 3
   },
   "file_extension": ".py",
   "mimetype": "text/x-python",
   "name": "python",
   "nbconvert_exporter": "python",
   "pygments_lexer": "ipython3",
   "version": "3.9.13"
  }
 },
 "nbformat": 4,
 "nbformat_minor": 5
}
