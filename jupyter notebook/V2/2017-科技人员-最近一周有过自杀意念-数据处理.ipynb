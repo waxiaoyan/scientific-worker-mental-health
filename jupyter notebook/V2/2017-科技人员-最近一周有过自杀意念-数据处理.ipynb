{
 "cells": [
  {
   "cell_type": "code",
   "execution_count": 4,
   "id": "fab4fa1a",
   "metadata": {},
   "outputs": [],
   "source": [
    "from sklearn.model_selection import train_test_split\n",
    "from sklearn import metrics\n",
    "# import xgboost as xgb\n",
    "import matplotlib.pyplot as plt\n",
    "from sklearn.model_selection import GridSearchCV\n",
    "import pandas as pd, numpy as np\n",
    "import matplotlib as mpl\n",
    "# import lightgbm as lgb\n",
    "from sklearn.metrics import mean_squared_error\n",
    "from sklearn.experimental import enable_iterative_imputer\n",
    "from sklearn.impute import IterativeImputer\n",
    "from sklearn.ensemble import RandomForestClassifier\n",
    "import shap\n"
   ]
  },
  {
   "cell_type": "code",
   "execution_count": 5,
   "id": "475b69f5",
   "metadata": {},
   "outputs": [],
   "source": [
    "Scientific_Sample=pd.read_csv(\"/Users/wangxiaoyan/Documents/wy/论文/git/scientific-worker-mental-health/data/V2/csv/2017-全国科技工作者-人口学信息数据.csv\")\n"
   ]
  },
  {
   "cell_type": "code",
   "execution_count": 6,
   "id": "dfa597d4",
   "metadata": {},
   "outputs": [],
   "source": [
    "Scientific_Sample = Scientific_Sample[(Scientific_Sample['suicide'] == 1) | (Scientific_Sample['suicide'] == 4)]\n",
    "Scientific_Sample.drop(columns=Scientific_Sample.filter(regex='^GAD').columns, inplace=True)\n",
    "Scientific_Sample.drop(columns=Scientific_Sample.filter(regex='^CESD').columns, inplace=True)\n",
    "Scientific_Sample.replace({4: 0}, inplace=True)\n",
    "Scientific_Sample.to_csv(\"/Users/wangxiaoyan/Documents/wy/论文/git/scientific-worker-mental-health/data/V2/csv/2017科技人员心理健康调查-最近一周自杀意念-人口学信息数据-未处理空值.csv\",sep=',',index=False)\n"
   ]
  },
  {
   "cell_type": "code",
   "execution_count": 4,
   "id": "89507014",
   "metadata": {},
   "outputs": [],
   "source": [
    "for column in Scientific_Sample.columns:\n",
    "    # 找到列的众数\n",
    "    mode = Scientific_Sample[column].mode().iloc[0]\n",
    "    \n",
    "    # 用众数填充空值\n",
    "    Scientific_Sample[column].fillna(mode, inplace=True)"
   ]
  },
  {
   "cell_type": "code",
   "execution_count": 5,
   "id": "3c53b340",
   "metadata": {},
   "outputs": [],
   "source": [
    "Scientific_Sample.to_csv(\"/Users/wangxiaoyan/Documents/wy/论文/git/scientific-worker-mental-health/data/V2/csv/2017科技人员心理健康调查-最近一周自杀意念-人口学信息数据.csv\",sep=',',index=False)\n"
   ]
  },
  {
   "cell_type": "code",
   "execution_count": null,
   "id": "d7dcfb30",
   "metadata": {},
   "outputs": [],
   "source": [
    "### item"
   ]
  },
  {
   "cell_type": "code",
   "execution_count": 10,
   "id": "e864b166",
   "metadata": {},
   "outputs": [],
   "source": [
    "Scientific_Sample=pd.read_csv(\"/Users/wangxiaoyan/Documents/wy/论文/git/scientific-worker-mental-health/data/V2/csv/2017-全国科技工作者-Item数据.csv\")\n"
   ]
  },
  {
   "cell_type": "code",
   "execution_count": 11,
   "id": "7bdd7fba",
   "metadata": {},
   "outputs": [],
   "source": [
    "Scientific_Sample = Scientific_Sample[(Scientific_Sample['suicide'] == 1) | (Scientific_Sample['suicide'] == 4)]\n",
    "Scientific_Sample.replace({4: 0}, inplace=True)"
   ]
  },
  {
   "cell_type": "code",
   "execution_count": 12,
   "id": "75108c8d",
   "metadata": {},
   "outputs": [],
   "source": [
    "for column in Scientific_Sample.columns:\n",
    "    # 找到列的众数\n",
    "    mode = Scientific_Sample[column].mode().iloc[0]\n",
    "    \n",
    "    # 用众数填充空值\n",
    "    Scientific_Sample[column].fillna(mode, inplace=True)"
   ]
  },
  {
   "cell_type": "code",
   "execution_count": 13,
   "id": "53a26f1c",
   "metadata": {},
   "outputs": [],
   "source": [
    "Scientific_Sample.to_csv(\"/Users/wangxiaoyan/Documents/wy/论文/git/scientific-worker-mental-health/data/V2/csv/2017科技人员心理健康调查-最近一周自杀意念-Item信息数据.csv\",sep=',',index=False)\n"
   ]
  },
  {
   "cell_type": "code",
   "execution_count": null,
   "id": "9d06a251",
   "metadata": {},
   "outputs": [],
   "source": []
  }
 ],
 "metadata": {
  "kernelspec": {
   "display_name": "Python 3 (ipykernel)",
   "language": "python",
   "name": "python3"
  },
  "language_info": {
   "codemirror_mode": {
    "name": "ipython",
    "version": 3
   },
   "file_extension": ".py",
   "mimetype": "text/x-python",
   "name": "python",
   "nbconvert_exporter": "python",
   "pygments_lexer": "ipython3",
   "version": "3.9.13"
  }
 },
 "nbformat": 4,
 "nbformat_minor": 5
}
