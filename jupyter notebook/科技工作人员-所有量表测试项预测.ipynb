{
 "cells": [
  {
   "cell_type": "code",
   "execution_count": 8,
   "metadata": {},
   "outputs": [],
   "source": [
    "from sklearn.model_selection import train_test_split\n",
    "from sklearn import metrics\n",
    "import matplotlib.pyplot as plt\n",
    "from sklearn.model_selection import GridSearchCV\n",
    "import pandas as pd, numpy as np\n",
    "import matplotlib as mpl\n",
    "from sklearn.ensemble import RandomForestClassifier \n",
    "from sklearn.feature_selection import SelectFromModel\n",
    "from sklearn.model_selection import cross_validate\n",
    "from sklearn.pipeline import make_pipeline\n",
    "from sklearn.feature_selection import SelectKBest\n",
    "from sklearn.feature_selection import chi2\n",
    "from sklearn.metrics import confusion_matrix\n",
    "from sklearn.metrics import classification_report\n",
    "from sklearn.metrics import accuracy_score,ConfusionMatrixDisplay\n",
    "import joblib\n",
    "from sklearn.model_selection import cross_val_score, cross_val_predict\n",
    "from sklearn.metrics import accuracy_score, recall_score, roc_auc_score, roc_curve,precision_score\n",
    "from sklearn.ensemble import RandomForestRegressor\n",
    "from sklearn.metrics import mean_squared_error\n",
    "from sklearn.tree import DecisionTreeClassifier\n",
    "from sklearn.linear_model import LogisticRegression\n",
    "from sklearn.ensemble import VotingClassifier\n",
    "\n",
    "from imblearn.ensemble import RUSBoostClassifier,BalancedRandomForestClassifier #63 84\n",
    "from imblearn.ensemble import BalancedBaggingClassifier #69 74\n",
    "from sklearn.metrics import make_scorer, f1_score\n",
    "import warnings\n",
    "warnings.filterwarnings('ignore')\n",
    "from sklearn.preprocessing import LabelBinarizer\n",
    "from sklearn.ensemble import RandomForestClassifier\n",
    "from xgboost import XGBClassifier\n",
    "from lightgbm import LGBMClassifier\n",
    "from imblearn.ensemble import BalancedRandomForestClassifier, RUSBoostClassifier\n",
    "from imblearn.over_sampling import SMOTE\n",
    "from collections import Counter\n",
    "\n",
    "\n"
   ]
  },
  {
   "cell_type": "code",
   "execution_count": null,
   "metadata": {},
   "outputs": [
    {
     "name": "stdout",
     "output_type": "stream",
     "text": [
      "Training Random Forest...\n"
     ]
    }
   ],
   "source": [
    "data = pd.read_csv('/Users/wangxiaoyan/Documents/wy/论文/git/scientific-worker-mental-health/data/all/科技人员特征筛选后-心理健康数据集.csv')\n",
    "data = data.drop(['anxiety', 'suicide'], axis=1)\n",
    "# data = data.drop(['depression', 'anxiety'], axis=1)\n",
    "# data = data.drop(['depression', 'suicide'], axis=1)\n",
    "\n",
    "# y = data['depression']\n",
    "# X = data.drop('depression', axis=1)\n",
    "\n",
    "y = data['anxiety']\n",
    "X = data.drop('anxiety', axis=1)\n",
    "\n",
    "X_train, X_test, y_train, y_test = train_test_split(X, y, test_size=0.3, random_state=42)\n",
    "\n",
    "# Perform SMOTE over-sampling on training data\n",
    "smote = SMOTE(random_state=42)\n",
    "X_train_resampled, y_train_resampled = smote.fit_resample(X_train, y_train)\n",
    "\n",
    "# Train models\n",
    "rf = RandomForestClassifier(n_estimators=100, random_state=42)\n",
    "# xgb = XGBClassifier(random_state=42)\n",
    "lgbm = LGBMClassifier(random_state=42)\n",
    "brf = BalancedRandomForestClassifier(n_estimators=100, random_state=42)\n",
    "rusboost = RUSBoostClassifier(n_estimators=100, random_state=42)\n",
    "\n",
    "models = [rf, lgbm, brf, rusboost]\n",
    "model_names = ['Random Forest', 'XGBoost', 'LightGBM', 'Balanced Random Forest', 'RUSBoost']\n",
    "\n",
    "for i, model in enumerate(models):\n",
    "    print(f\"Training {model_names[i]}...\")\n",
    "    model.fit(X_train_resampled, y_train_resampled)\n",
    "    y_pred = model.predict(X_test)\n",
    "    print(f\"Classification Report for {model_names[i]}:\\n\")\n",
    "    print(classification_report(y_test, y_pred))"
   ]
  },
  {
   "cell_type": "code",
   "execution_count": 10,
   "metadata": {},
   "outputs": [
    {
     "name": "stdout",
     "output_type": "stream",
     "text": [
      "Accuracy: 64.46\n",
      "              precision    recall  f1-score   support\n",
      "\n",
      "         0.0       0.82      0.73      0.77      1139\n",
      "         1.0       0.60      0.56      0.57       836\n",
      "         2.0       0.22      0.44      0.29       112\n",
      "         3.0       0.22      0.76      0.34        29\n",
      "\n",
      "    accuracy                           0.64      2116\n",
      "   macro avg       0.46      0.62      0.49      2116\n",
      "weighted avg       0.69      0.64      0.66      2116\n",
      "\n"
     ]
    },
    {
     "data": {
      "image/png": "[encoded data removed]",
      "text/plain": [
       "<Figure size 640x480 with 2 Axes>"
      ]
     },
     "metadata": {},
     "output_type": "display_data"
    },
    {
     "name": "stdout",
     "output_type": "stream",
     "text": [
      "Recall:  0.6446124763705104\n",
      "ROC AUC:  0.7403141854984994\n",
      "F1:  0.6626069242391208\n"
     ]
    }
   ],
   "source": [
    "data = pd.read_csv('/Users/wangxiaoyan/Documents/wy/论文/git/scientific-worker-mental-health/data/all/BalancedRandomForestClassifier-科技人员特征筛选后-心理健康数据集.csv')\n",
    "# data = data.drop(['anxiety', 'suicide'], axis=1)\n",
    "# data = data.drop(['depression', 'anxiety'], axis=1)\n",
    "data = data.drop(['depression', 'suicide'], axis=1)\n",
    "\n",
    "# y = data['depression']\n",
    "# X = data.drop('depression', axis=1)\n",
    "\n",
    "y = data['anxiety']\n",
    "X = data.drop('anxiety', axis=1)\n",
    "\n",
    "# y = data['suicide']\n",
    "# X = data.drop('suicide', axis=1)\n",
    "\n",
    "x_train, x_test, y_train, y_test = train_test_split(X, y, test_size=0.3, random_state=42)\n",
    "\n",
    "brfc = BalancedRandomForestClassifier(class_weight = 'balanced',random_state=20,max_depth= 15, min_samples_split = 2, n_estimators=200)\n",
    "brfc.fit(x_train, y_train)\n",
    "y_pred = brfc.predict(x_test)\n",
    "\n",
    "cm = confusion_matrix(y_test, y_pred)\n",
    "accuracy = accuracy_score(y_test, y_pred)\n",
    "print('Accuracy: %.2f' % (accuracy*100))\n",
    "report = classification_report(y_test, y_pred)\n",
    "print(report)\n",
    "# 绘制混淆矩阵\n",
    "disp = ConfusionMatrixDisplay(confusion_matrix=cm)\n",
    "disp.plot()\n",
    "plt.show()\n",
    "recall = recall_score(y_test, y_pred, average='weighted')\n",
    "lb = LabelBinarizer()\n",
    "lb.fit(y_test)\n",
    "y_test_b = lb.transform(y_test)\n",
    "y_pred_b = lb.transform(y_pred)\n",
    "roc_auc = roc_auc_score(y_test_b, y_pred_b, multi_class='ovr')\n",
    "\n",
    "# roc_auc = roc_auc_score(y_test, pred_prob, multi_class='ovo')\n",
    "f1 = f1_score(y_test, y_pred, average='weighted')\n",
    "print('Recall: ', recall)\n",
    "print('ROC AUC: ', roc_auc)\n",
    "print('F1: ', f1)\n",
    "\n",
    "\n",
    "# clf1 = DecisionTreeClassifier(max_depth=5, class_weight='balanced', random_state=42)\n",
    "# clf2 = LogisticRegression(class_weight='balanced', random_state=42)\n",
    "# clf3 = RandomForestClassifier(n_estimators=100, class_weight='balanced', random_state=42)\n",
    "\n",
    "# # define ensemble classifier\n",
    "# estimators = [('dt', clf1), ('lr', clf2), ('rf', clf3)]\n",
    "# ensemble = VotingClassifier(estimators=estimators, voting='soft')\n",
    "\n",
    "# # fit ensemble classifier on the imbalanced dataset\n",
    "# ensemble.fit(x_train, y_train)\n",
    "# print(Counter(y_train))\n",
    "# # evaluate the ensemble classifier on the imbalanced dataset\n",
    "# y_pred = ensemble.predict(x_test)\n",
    "# report = classification_report(y_test, y_pred)\n",
    "# print(report)\n",
    "\n",
    "# accuracy = accuracy_score(y_test, y_pred)\n",
    "# print('Accuracy: %.2f' % (accuracy*100))\n",
    "# cm = confusion_matrix(y_test, y_pred)\n",
    "# # 绘制混淆矩阵\n",
    "# disp = ConfusionMatrixDisplay(confusion_matrix=cm)\n",
    "# disp.plot()\n",
    "# plt.show()\n",
    "# precision = precision_score(y_test, y_pred,average='weighted')\n",
    "# recall = recall_score(y_test, y_pred,average='weighted')\n",
    "\n",
    "# lb = LabelBinarizer()\n",
    "# lb.fit(y_test)\n",
    "# y_test_b = lb.transform(y_test)\n",
    "# y_pred_b = lb.transform(y_pred)\n",
    "# roc_auc = roc_auc_score(y_test_b, y_pred_b, multi_class='ovr')\n",
    "\n",
    "# # evaluate the performance of the model\n",
    "# score = ensemble.score(x_test, y_test)\n",
    "# print(\"Precision: {:.2f}%\".format(precision * 100))\n",
    "# print(\"Recall: {:.2f}%\".format(recall * 100))\n",
    "# print('ROC AUC: ', roc_auc)\n",
    "\n"
   ]
  },
  {
   "cell_type": "code",
   "execution_count": 104,
   "metadata": {},
   "outputs": [
    {
     "name": "stderr",
     "output_type": "stream",
     "text": [
      "/Users/wangxiaoyan/opt/anaconda3/lib/python3.9/site-packages/sklearn/linear_model/_logistic.py:458: ConvergenceWarning: lbfgs failed to converge (status=1):\n",
      "STOP: TOTAL NO. of ITERATIONS REACHED LIMIT.\n",
      "\n",
      "Increase the number of iterations (max_iter) or scale the data as shown in:\n",
      "    https://scikit-learn.org/stable/modules/preprocessing.html\n",
      "Please also refer to the documentation for alternative solver options:\n",
      "    https://scikit-learn.org/stable/modules/linear_model.html#logistic-regression\n",
      "  n_iter_i = _check_optimize_result(\n"
     ]
    },
    {
     "name": "stdout",
     "output_type": "stream",
     "text": [
      "              precision    recall  f1-score   support\n",
      "\n",
      "         1.0       0.03      0.12      0.05        17\n",
      "         2.0       0.02      0.04      0.03        28\n",
      "         3.0       0.19      0.09      0.12       103\n",
      "         4.0       0.94      0.94      0.94      1968\n",
      "\n",
      "    accuracy                           0.88      2116\n",
      "   macro avg       0.30      0.29      0.28      2116\n",
      "weighted avg       0.89      0.88      0.88      2116\n",
      "\n"
     ]
    },
    {
     "data": {
      "image/png": "[encoded data removed]",
      "text/plain": [
       "<Figure size 640x480 with 1 Axes>"
      ]
     },
     "metadata": {},
     "output_type": "display_data"
    },
    {
     "name": "stdout",
     "output_type": "stream",
     "text": [
      "RMSE: 0.6625978545273118\n",
      "RMSE of the baseline model: 0.4050477755258935\n"
     ]
    }
   ],
   "source": [
    "data = pd.read_csv('/Users/wangxiaoyan/Documents/wy/论文/git/scientific-worker-mental-health/data/all/科技人员特征筛选后-心理健康数据集.csv')\n",
    "data = data.drop(['depression', 'anxiety'], axis=1)\n",
    "y = data['suicide']\n",
    "X = data.drop('suicide', axis=1)\n",
    "# model = RandomForestRegressor(n_estimators=150, random_state=20)\n",
    "x_train, x_test, y_train, y_test = train_test_split(X, y, test_size=0.3, random_state=20)\n",
    "\n",
    "clf1 = DecisionTreeClassifier(max_depth=5, class_weight='balanced', random_state=20)\n",
    "clf2 = LogisticRegression(class_weight='balanced', random_state=20)\n",
    "clf3 = RandomForestClassifier(n_estimators=100, class_weight='balanced', random_state=20)\n",
    "\n",
    "# define ensemble classifier\n",
    "estimators = [('dt', clf1), ('lr', clf2), ('rf', clf3)]\n",
    "ensemble = VotingClassifier(estimators=estimators, voting='soft')\n",
    "\n",
    "# fit ensemble classifier on the imbalanced dataset\n",
    "ensemble.fit(x_train, y_train)\n",
    "\n",
    "# evaluate the ensemble classifier on the imbalanced dataset\n",
    "y_pred = ensemble.predict(x_test)\n",
    "report = classification_report(y_test, y_pred)\n",
    "print(report)\n",
    "\n",
    "# 绘制散点图\n",
    "plt.scatter(np.arange(len(y_test)), y_test, c='b', label='actual')\n",
    "plt.scatter(np.arange(len(y_test)), y_pred, c='r', label='predicted')\n",
    "plt.legend(loc='upper left')\n",
    "plt.show()\n",
    "\n",
    "# 输出RMSE\n",
    "rmse = mean_squared_error(y_test, y_pred, squared=False)\n",
    "print(f'RMSE: {rmse}')\n",
    "\n",
    "y_mean = np.mean(y_test)\n",
    "\n",
    "# Create an array of y_mean values with the same length as y_test\n",
    "y_pred = np.full_like(y_test, y_mean)\n",
    "\n",
    "# Calculate the RMSE of the baseline model\n",
    "rmse_baseline = np.sqrt(mean_squared_error(y_test, y_pred))\n",
    "\n",
    "print(\"RMSE of the baseline model:\", rmse_baseline)"
   ]
  },
  {
   "cell_type": "code",
   "execution_count": 6,
   "metadata": {},
   "outputs": [
    {
     "name": "stdout",
     "output_type": "stream",
     "text": [
      "Accuracy: 74.10\n",
      "              precision    recall  f1-score   support\n",
      "\n",
      "         0.0       0.95      0.77      0.85      1842\n",
      "         1.0       0.24      0.50      0.33       245\n",
      "         2.0       0.18      0.66      0.28        29\n",
      "\n",
      "    accuracy                           0.74      2116\n",
      "   macro avg       0.46      0.64      0.49      2116\n",
      "weighted avg       0.86      0.74      0.78      2116\n",
      "\n"
     ]
    },
    {
     "data": {
      "image/png": "[encoded data removed]",
      "text/plain": [
       "<Figure size 640x480 with 2 Axes>"
      ]
     },
     "metadata": {},
     "output_type": "display_data"
    },
    {
     "name": "stdout",
     "output_type": "stream",
     "text": [
      "Recall:  0.7410207939508506\n",
      "ROC AUC:  0.7333328787714728\n",
      "F1:  0.7840297304437709\n"
     ]
    }
   ],
   "source": [
    "data = pd.read_csv('/Users/wangxiaoyan/Documents/wy/论文/git/scientific-worker-mental-health/data/all/科技人员特征筛选后-心理健康数据集.csv')\n",
    "data = data.drop(['anxiety', 'suicide'], axis=1)\n",
    "# data = data.drop(['depression', 'anxiety'], axis=1)\n",
    "# data = data.drop(['depression', 'suicide'], axis=1)\n",
    "\n",
    "y = data['depression']\n",
    "X = data.drop('depression', axis=1)\n",
    "\n",
    "# y = data['anxiety']\n",
    "# X = data.drop('anxiety', axis=1)\n",
    "\n",
    "rfc = BalancedRandomForestClassifier(class_weight = 'balanced',random_state=20,max_depth= 15, min_samples_split = 2, n_estimators=200)\n",
    "# 进行交叉验证，得到预测结果\n",
    "# scores = cross_val_score(rfc, X, y, cv=5)\n",
    "# y_pred = cross_val_predict(rfc, X, y, cv=5)\n",
    "\n",
    "# # # 输出交叉验证得分和分类报告\n",
    "# print('平均得分：', scores.mean())\n",
    "# print(\"交叉验证准确性：\", scores)\n",
    "# print(\"交叉验证平均准确性：\", np.mean(scores))\n",
    "# print(\"交叉验证召回率：\", cross_val_score(rfc, X, y, cv=5, scoring='recall_macro'))\n",
    "# print(\"交叉验证F1值：\", cross_val_score(rfc, X, y, cv=5, scoring='f1_macro'))\n",
    "\n",
    "# 预测所有数据并生成混淆矩阵\n",
    "x_train, x_test, y_train, y_test = train_test_split(X, y, test_size=0.3, random_state=42)\n",
    "\n",
    "y_pred = rfc.fit(x_train, y_train).predict(x_test)\n",
    "cm = confusion_matrix(y_test, y_pred)\n",
    "accuracy = accuracy_score(y_test, y_pred)\n",
    "print('Accuracy: %.2f' % (accuracy*100))\n",
    "\n",
    "report = classification_report(y_test, y_pred)\n",
    "print(report)\n",
    "# 绘制混淆矩阵\n",
    "disp = ConfusionMatrixDisplay(confusion_matrix=cm)\n",
    "disp.plot()\n",
    "plt.show()\n",
    "recall = recall_score(y_test, y_pred, average='weighted')\n",
    "lb = LabelBinarizer()\n",
    "lb.fit(y_test)\n",
    "y_test_b = lb.transform(y_test)\n",
    "y_pred_b = lb.transform(y_pred)\n",
    "roc_auc = roc_auc_score(y_test_b, y_pred_b, multi_class='ovr')\n",
    "\n",
    "# roc_auc = roc_auc_score(y_test, pred_prob, multi_class='ovo')\n",
    "f1 = f1_score(y_test, y_pred, average='weighted')\n",
    "print('Recall: ', recall)\n",
    "print('ROC AUC: ', roc_auc)\n",
    "print('F1: ', f1)"
   ]
  },
  {
   "cell_type": "code",
   "execution_count": 49,
   "metadata": {},
   "outputs": [],
   "source": [
    "X_train, X_test, y_train, y_test = train_test_split(X, y, test_size=0.3, random_state=8)"
   ]
  },
  {
   "cell_type": "code",
   "execution_count": 50,
   "metadata": {},
   "outputs": [],
   "source": [
    "rf = RandomForestClassifier(n_estimators=100, random_state=42)"
   ]
  },
  {
   "cell_type": "code",
   "execution_count": 51,
   "metadata": {},
   "outputs": [
    {
     "data": {
      "text/html": [
       "<style>#sk-container-id-1 {color: black;background-color: white;}#sk-container-id-1 pre{padding: 0;}#sk-container-id-1 div.sk-toggleable {background-color: white;}#sk-container-id-1 label.sk-toggleable__label {cursor: pointer;display: block;width: 100%;margin-bottom: 0;padding: 0.3em;box-sizing: border-box;text-align: center;}#sk-container-id-1 label.sk-toggleable__label-arrow:before {content: \"▸\";float: left;margin-right: 0.25em;color: #696969;}#sk-container-id-1 label.sk-toggleable__label-arrow:hover:before {color: black;}#sk-container-id-1 div.sk-estimator:hover label.sk-toggleable__label-arrow:before {color: black;}#sk-container-id-1 div.sk-toggleable__content {max-height: 0;max-width: 0;overflow: hidden;text-align: left;background-color: #f0f8ff;}#sk-container-id-1 div.sk-toggleable__content pre {margin: 0.2em;color: black;border-radius: 0.25em;background-color: #f0f8ff;}#sk-container-id-1 input.sk-toggleable__control:checked~div.sk-toggleable__content {max-height: 200px;max-width: 100%;overflow: auto;}#sk-container-id-1 input.sk-toggleable__control:checked~label.sk-toggleable__label-arrow:before {content: \"▾\";}#sk-container-id-1 div.sk-estimator input.sk-toggleable__control:checked~label.sk-toggleable__label {background-color: #d4ebff;}#sk-container-id-1 div.sk-label input.sk-toggleable__control:checked~label.sk-toggleable__label {background-color: #d4ebff;}#sk-container-id-1 input.sk-hidden--visually {border: 0;clip: rect(1px 1px 1px 1px);clip: rect(1px, 1px, 1px, 1px);height: 1px;margin: -1px;overflow: hidden;padding: 0;position: absolute;width: 1px;}#sk-container-id-1 div.sk-estimator {font-family: monospace;background-color: #f0f8ff;border: 1px dotted black;border-radius: 0.25em;box-sizing: border-box;margin-bottom: 0.5em;}#sk-container-id-1 div.sk-estimator:hover {background-color: #d4ebff;}#sk-container-id-1 div.sk-parallel-item::after {content: \"\";width: 100%;border-bottom: 1px solid gray;flex-grow: 1;}#sk-container-id-1 div.sk-label:hover label.sk-toggleable__label {background-color: #d4ebff;}#sk-container-id-1 div.sk-serial::before {content: \"\";position: absolute;border-left: 1px solid gray;box-sizing: border-box;top: 0;bottom: 0;left: 50%;z-index: 0;}#sk-container-id-1 div.sk-serial {display: flex;flex-direction: column;align-items: center;background-color: white;padding-right: 0.2em;padding-left: 0.2em;position: relative;}#sk-container-id-1 div.sk-item {position: relative;z-index: 1;}#sk-container-id-1 div.sk-parallel {display: flex;align-items: stretch;justify-content: center;background-color: white;position: relative;}#sk-container-id-1 div.sk-item::before, #sk-container-id-1 div.sk-parallel-item::before {content: \"\";position: absolute;border-left: 1px solid gray;box-sizing: border-box;top: 0;bottom: 0;left: 50%;z-index: -1;}#sk-container-id-1 div.sk-parallel-item {display: flex;flex-direction: column;z-index: 1;position: relative;background-color: white;}#sk-container-id-1 div.sk-parallel-item:first-child::after {align-self: flex-end;width: 50%;}#sk-container-id-1 div.sk-parallel-item:last-child::after {align-self: flex-start;width: 50%;}#sk-container-id-1 div.sk-parallel-item:only-child::after {width: 0;}#sk-container-id-1 div.sk-dashed-wrapped {border: 1px dashed gray;margin: 0 0.4em 0.5em 0.4em;box-sizing: border-box;padding-bottom: 0.4em;background-color: white;}#sk-container-id-1 div.sk-label label {font-family: monospace;font-weight: bold;display: inline-block;line-height: 1.2em;}#sk-container-id-1 div.sk-label-container {text-align: center;}#sk-container-id-1 div.sk-container {/* jupyter's `normalize.less` sets `[hidden] { display: none; }` but bootstrap.min.css set `[hidden] { display: none !important; }` so we also need the `!important` here to be able to override the default hidden behavior on the sphinx rendered scikit-learn.org. See: https://github.com/scikit-learn/scikit-learn/issues/21755 */display: inline-block !important;position: relative;}#sk-container-id-1 div.sk-text-repr-fallback {display: none;}</style><div id=\"sk-container-id-1\" class=\"sk-top-container\"><div class=\"sk-text-repr-fallback\"><pre>RandomForestClassifier(random_state=42)</pre><b>In a Jupyter environment, please rerun this cell to show the HTML representation or trust the notebook. <br />On GitHub, the HTML representation is unable to render, please try loading this page with nbviewer.org.</b></div><div class=\"sk-container\" hidden><div class=\"sk-item\"><div class=\"sk-estimator sk-toggleable\"><input class=\"sk-toggleable__control sk-hidden--visually\" id=\"sk-estimator-id-1\" type=\"checkbox\" checked><label for=\"sk-estimator-id-1\" class=\"sk-toggleable__label sk-toggleable__label-arrow\">RandomForestClassifier</label><div class=\"sk-toggleable__content\"><pre>RandomForestClassifier(random_state=42)</pre></div></div></div></div></div>"
      ],
      "text/plain": [
       "RandomForestClassifier(random_state=42)"
      ]
     },
     "execution_count": 51,
     "metadata": {},
     "output_type": "execute_result"
    }
   ],
   "source": [
    "rf.fit(X_train, y_train)\n"
   ]
  },
  {
   "cell_type": "code",
   "execution_count": 52,
   "metadata": {},
   "outputs": [],
   "source": [
    "y_pred = rf.predict(X_test)\n"
   ]
  },
  {
   "cell_type": "code",
   "execution_count": 53,
   "metadata": {},
   "outputs": [
    {
     "ename": "NameError",
     "evalue": "name 'precision_score' is not defined",
     "output_type": "error",
     "traceback": [
      "\u001b[0;31m---------------------------------------------------------------------------\u001b[0m",
      "\u001b[0;31mNameError\u001b[0m                                 Traceback (most recent call last)",
      "\u001b[0;32m/var/folders/6r/np24csk96nn1jm3ckkjcn48r0000gq/T/ipykernel_43510/3677500517.py\u001b[0m in \u001b[0;36m<module>\u001b[0;34m\u001b[0m\n\u001b[1;32m      1\u001b[0m \u001b[0;31m# calculate precision and recall\u001b[0m\u001b[0;34m\u001b[0m\u001b[0;34m\u001b[0m\u001b[0m\n\u001b[0;32m----> 2\u001b[0;31m \u001b[0mprecision\u001b[0m \u001b[0;34m=\u001b[0m \u001b[0mprecision_score\u001b[0m\u001b[0;34m(\u001b[0m\u001b[0my_test\u001b[0m\u001b[0;34m,\u001b[0m \u001b[0my_pred\u001b[0m\u001b[0;34m,\u001b[0m\u001b[0maverage\u001b[0m\u001b[0;34m=\u001b[0m\u001b[0;34m'weighted'\u001b[0m\u001b[0;34m)\u001b[0m\u001b[0;34m\u001b[0m\u001b[0;34m\u001b[0m\u001b[0m\n\u001b[0m\u001b[1;32m      3\u001b[0m \u001b[0mrecall\u001b[0m \u001b[0;34m=\u001b[0m \u001b[0mrecall_score\u001b[0m\u001b[0;34m(\u001b[0m\u001b[0my_test\u001b[0m\u001b[0;34m,\u001b[0m \u001b[0my_pred\u001b[0m\u001b[0;34m,\u001b[0m\u001b[0maverage\u001b[0m\u001b[0;34m=\u001b[0m\u001b[0;34m'weighted'\u001b[0m\u001b[0;34m)\u001b[0m\u001b[0;34m\u001b[0m\u001b[0;34m\u001b[0m\u001b[0m\n\u001b[1;32m      4\u001b[0m \u001b[0;34m\u001b[0m\u001b[0m\n\u001b[1;32m      5\u001b[0m \u001b[0;31m# evaluate the performance of the model\u001b[0m\u001b[0;34m\u001b[0m\u001b[0;34m\u001b[0m\u001b[0m\n",
      "\u001b[0;31mNameError\u001b[0m: name 'precision_score' is not defined"
     ]
    }
   ],
   "source": [
    "# calculate precision and recall\n",
    "precision = precision_score(y_test, y_pred,average='weighted')\n",
    "recall = recall_score(y_test, y_pred,average='weighted')\n",
    "\n",
    "# evaluate the performance of the model\n",
    "score = rf.score(X_test, y_test)\n",
    "print(\"Accuracy: {:.2f}%\".format(score * 100))\n",
    "print(\"Precision: {:.2f}%\".format(precision * 100))\n",
    "print(\"Recall: {:.2f}%\".format(recall * 100))\n"
   ]
  },
  {
   "cell_type": "code",
   "execution_count": null,
   "metadata": {},
   "outputs": [],
   "source": []
  }
 ],
 "metadata": {
  "kernelspec": {
   "display_name": "Python 3 (ipykernel)",
   "language": "python",
   "name": "python3"
  },
  "language_info": {
   "codemirror_mode": {
    "name": "ipython",
    "version": 3
   },
   "file_extension": ".py",
   "mimetype": "text/x-python",
   "name": "python",
   "nbconvert_exporter": "python",
   "pygments_lexer": "ipython3",
   "version": "3.9.13"
  }
 },
 "nbformat": 4,
 "nbformat_minor": 2
}
