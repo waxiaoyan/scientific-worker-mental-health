{
 "cells": [
  {
   "cell_type": "code",
   "execution_count": 3,
   "id": "c25a6378",
   "metadata": {},
   "outputs": [],
   "source": [
    "import pandas as pd\n",
    "\n"
   ]
  },
  {
   "cell_type": "code",
   "execution_count": 5,
   "id": "5c3969ea",
   "metadata": {},
   "outputs": [
    {
     "name": "stderr",
     "output_type": "stream",
     "text": [
      "/var/folders/6r/np24csk96nn1jm3ckkjcn48r0000gq/T/ipykernel_9229/2910033817.py:20: SettingWithCopyWarning: \n",
      "A value is trying to be set on a copy of a slice from a DataFrame.\n",
      "Try using .loc[row_indexer,col_indexer] = value instead\n",
      "\n",
      "See the caveats in the documentation: https://pandas.pydata.org/pandas-docs/stable/user_guide/indexing.html#returning-a-view-versus-a-copy\n",
      "  result['BMI'] = result['weight'] / ((result['height']/100) * 2)\n"
     ]
    }
   ],
   "source": [
    "\n",
    "# 读取Excel文件的第一个工作表\n",
    "input_file = '/Users/wangxiaoyan/Documents/wy/论文/git/scientific-worker-mental-health/data/V2/2017-全国科技工作者心理健康状况调查.xlsx'\n",
    "output_file = '/Users/wangxiaoyan/Documents/wy/论文/git/scientific-worker-mental-health/data/V2/2017-全国科技工作者-人口学信息数据.xlsx'\n",
    "\n",
    "# 要读取的列\n",
    "selected_columns = ['suicide','Gender','EduBG','major','Post','WorkingS','ProfessionalRT','AFECQ1','MaritalS','NumberCH','height','weight','Age','Yincome']\n",
    "\n",
    "# 从第一个工作表读取特定列\n",
    "data = pd.read_excel(input_file, sheet_name=0)\n",
    "\n",
    "\n",
    "# 获取以CES或GAD开头的列\n",
    "regex_columns = data.filter(regex='^(CES|GAD)').columns\n",
    "\n",
    "# 合并固定列与以CES或GAD开头的列\n",
    "combined_columns = selected_columns + regex_columns.to_list()\n",
    "\n",
    "# 获取所需列的数据\n",
    "result = data[combined_columns]\n",
    "result['BMI'] = result['weight'] / ((result['height']/100) * 2)\n",
    "result = result.drop(columns=['weight', 'height'])\n",
    "\n",
    "\n",
    "# 将选定的列写入新的Excel文件\n",
    "result.to_excel(output_file, index=False)\n"
   ]
  },
  {
   "cell_type": "code",
   "execution_count": null,
   "id": "44e41932",
   "metadata": {},
   "outputs": [],
   "source": []
  }
 ],
 "metadata": {
  "kernelspec": {
   "display_name": "Python 3 (ipykernel)",
   "language": "python",
   "name": "python3"
  },
  "language_info": {
   "codemirror_mode": {
    "name": "ipython",
    "version": 3
   },
   "file_extension": ".py",
   "mimetype": "text/x-python",
   "name": "python",
   "nbconvert_exporter": "python",
   "pygments_lexer": "ipython3",
   "version": "3.9.13"
  }
 },
 "nbformat": 4,
 "nbformat_minor": 5
}
