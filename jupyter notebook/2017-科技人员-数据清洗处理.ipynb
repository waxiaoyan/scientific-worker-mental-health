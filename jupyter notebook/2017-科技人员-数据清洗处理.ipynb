{
 "cells": [
  {
   "cell_type": "code",
   "execution_count": 171,
   "id": "fab4fa1a",
   "metadata": {},
   "outputs": [],
   "source": [
    "from sklearn.model_selection import train_test_split\n",
    "from sklearn import metrics\n",
    "# import xgboost as xgb\n",
    "import matplotlib.pyplot as plt\n",
    "from sklearn.model_selection import GridSearchCV\n",
    "import pandas as pd, numpy as np\n",
    "import matplotlib as mpl\n",
    "# import lightgbm as lgb\n",
    "from sklearn.metrics import mean_squared_error\n",
    "from sklearn.experimental import enable_iterative_imputer\n",
    "from sklearn.impute import IterativeImputer\n",
    "from sklearn.ensemble import RandomForestClassifier\n"
   ]
  },
  {
   "cell_type": "code",
   "execution_count": 172,
   "id": "475b69f5",
   "metadata": {},
   "outputs": [
    {
     "name": "stderr",
     "output_type": "stream",
     "text": [
      "/var/folders/6r/np24csk96nn1jm3ckkjcn48r0000gq/T/ipykernel_89677/2620090110.py:1: DtypeWarning: Columns (319) have mixed types. Specify dtype option on import or set low_memory=False.\n",
      "  Scientific_Sample=pd.read_csv(\"/Users/wangxiaoyan/Documents/wy/论文/git/scientific-worker-mental-health/data/all/2017科技人员心理健康调查原始数据.csv\")\n"
     ]
    }
   ],
   "source": [
    "Scientific_Sample=pd.read_csv(\"/Users/wangxiaoyan/Documents/wy/论文/git/scientific-worker-mental-health/data/all/2017科技人员心理健康调查原始数据.csv\")\n"
   ]
  },
  {
   "cell_type": "code",
   "execution_count": 173,
   "id": "f3f8a152",
   "metadata": {},
   "outputs": [],
   "source": [
    "Scientific_Sample = Scientific_Sample.drop(labels=['ID','Group','dtot$$$','START_TIME','END_TIME','受访者-职业群体标签1','interviewee-Occupational group label1','受访者-职业群体标签2','interviewee-Occupational group label2','interviewee-Occupational group label3','受访者-年龄群体标签','Age group label1','Age group label2','ResY','TOKEN','A0','STATUS','QPW'],axis=1)\n"
   ]
  },
  {
   "cell_type": "code",
   "execution_count": 174,
   "id": "459683b6",
   "metadata": {},
   "outputs": [],
   "source": [
    "#删除答题时间少于20分钟的样本\n",
    "Scientific_Sample = Scientific_Sample.drop(Scientific_Sample[Scientific_Sample['USED_TIME'] < 20].index)\n",
    "Scientific_Sample = Scientific_Sample.drop('USED_TIME', axis=1)\n"
   ]
  },
  {
   "cell_type": "code",
   "execution_count": 175,
   "id": "7f25300d",
   "metadata": {},
   "outputs": [],
   "source": [
    "# dup_cols = Scientific_Sample.columns[Scientific_Sample.columns.str.endswith('.1')]\n",
    "dup_cols = [col for col in Scientific_Sample.columns if '.' in col]\n"
   ]
  },
  {
   "cell_type": "code",
   "execution_count": 176,
   "id": "247f90eb",
   "metadata": {},
   "outputs": [],
   "source": [
    "Scientific_Sample = Scientific_Sample.drop(dup_cols, axis=1)"
   ]
  },
  {
   "cell_type": "code",
   "execution_count": 177,
   "id": "e0a791b1",
   "metadata": {},
   "outputs": [],
   "source": [
    "Scientific_Sample = Scientific_Sample.dropna(thresh=Scientific_Sample.shape[0]*0.86,how='all',axis=1)\n",
    "Scientific_Sample = Scientific_Sample.dropna(thresh=Scientific_Sample.shape[1]*0.86,how='all',axis=0)\n",
    "Scientific_Sample.to_csv(\"/Users/wangxiaoyan/Documents/wy/论文/git/scientific-worker-mental-health/data/all/2017科技人员心理健康-清洗处理后数据.csv\",sep=',',index=False)\n"
   ]
  },
  {
   "cell_type": "code",
   "execution_count": 178,
   "id": "63983df2",
   "metadata": {},
   "outputs": [],
   "source": [
    "Scientific_Sample=pd.read_csv(\"/Users/wangxiaoyan/Documents/wy/论文/git/scientific-worker-mental-health/data/all/2017科技人员心理健康-清洗处理后数据.csv\")\n",
    "\n",
    "#心理健康服务现状与需求\n",
    "Scientific_Sample.drop(columns=Scientific_Sample.filter(regex='^CSDMHS').columns, inplace=True)\n",
    "\n",
    "# Scientific_Sample = Scientific_Sample.drop(labels=['CSDMHS1','CSDMHS2','CSDMHS3','CSDMHS4','CSDMHS5','CSDMHS6','CSDMHS7','CSDMHS8','CSDMHS9','CSDMHS10','CSDMHS11','CSDMHS12','CSDMHS13','CSDMHS14','CSDMHS15','CSDMHS16','CSDMHS18','CSDMHS19','CSDMHS20','CSDMHS21','CSDMHS22','CSDMHS23','CSDMHS24','CSDMHS25','CSDMHS26','CSDMHS27','CSDMHS28','CSDMHS29','CSDMHS30','CSDMHS32','CSDMHS33','CSDMHS34','CSDMHS35','CSDMHS36','CSDMHS37','CSDMHS38'],axis=1)\n",
    "#心理健康素养\n",
    "Scientific_Sample.drop(columns=Scientific_Sample.filter(regex='^MHLQ').columns, inplace=True)\n",
    "# Scientific_Sample = Scientific_Sample.drop(labels=['MHLQ7','MHLQ27','MHLQ29','MHLQ44','MHLQ9'],axis=1)\n",
    "#心理资本\n",
    "# Scientific_Sample.drop(columns=Scientific_Sample.filter(regex='^PCQ').columns, inplace=True)\n",
    "# Scientific_Sample = Scientific_Sample.drop(labels=['PCQ1'],axis=1)\n",
    "#科技工作者问卷 ,'STPQ18','STPQ19','STPQ20'\n",
    "# Scientific_Sample.drop(columns=Scientific_Sample.filter(regex='^STPQ').columns, inplace=True)\n",
    "\n",
    "# Scientific_Sample = Scientific_Sample.drop(labels=['STPQ2','STPQ14'],axis=1)\n",
    "#创业态度\n",
    "# Scientific_Sample.drop(columns=Scientific_Sample.filter(regex='^STPQ').columns, inplace=True)\n",
    "\n",
    "# Scientific_Sample = Scientific_Sample.drop(labels=['STPQea1'],axis=1)\n",
    "#社会资本\n",
    "# Scientific_Sample = Scientific_Sample.drop(labels=['STPQlt13','STPQsc1','STPQsc2','STPQsc3','STPQsc4','STPQsc5','STPQsc6','STPQsc7','STPQsc8','STPQsc9','STPQsc10','STPQsc11','STPQsc12','STPQsc13','STPQsc14','STPQsc15','STPQsc16','STPQsc17','STPQsc18','STPQsc19','STPQsc20'],axis=1)\n",
    "#组织氛围（缺失值太多，所以删除)\n",
    "# Scientific_Sample.drop(columns=Scientific_Sample.filter(regex='^STPQoc').columns, inplace=True)\n",
    "# Scientific_Sample = Scientific_Sample.drop(labels=['STPQoc24'],axis=1)\n",
    "#心理求助障碍\n",
    "# Scientific_Sample.drop(columns=Scientific_Sample.filter(regex='^PBSMHS').columns, inplace=True)\n",
    "# Scientific_Sample = Scientific_Sample.drop(labels=['PBSMHS1','PBSMHS2','PBSMHS3','PBSMHS4','PBSMHS5','PBSMHS6','PBSMHS7','PBSMHS8','PBSMHS9','PBSMHS10','PBSMHS11','PBSMHS12','PBSMHS13','PBSMHS14','PBSMHS15','PBSMHS16','PBSMHS17','PBSMHS18','PBSMHS19','PBSMHS20'],axis=1)\n",
    "\n",
    "#收入水平\n",
    "# Scientific_Sample = Scientific_Sample.drop(labels=['STPQil1','STPQil2','STPQil3','STPQil8','STPQil9'],axis=1)\n",
    "#岗位\n",
    "#Scientific_Sample = Scientific_Sample.drop(labels=['STPQpost1','STPQpost2','STPQpost3','STPQpost4','STPQpost5','STPQpost6','STPQpost7','STPQpost8','STPQpost9','STPQpost10','STPQpost11','STPQpost12','STPQpost13','STPQpost14','STPQpost15','STPQpost16'],axis=1)\n",
    "#背景信息 'PSQI11','PSQI14',,'NumberCH''Yincome','NETIncome',\n",
    "Scientific_Sample = Scientific_Sample.drop(labels=['WORKTIME1','WORKTIME4','exeminp','Age','TMIncome','Gender','DOBy','RELIGIOUSB','Politicalstate','EduBG','major','Post','WorkingS','ProfessionalRT','AFECQ1','MaritalS','height','weight','exenumweek','SMOKING1','DRINKING1','EPQas47','EPQas30','EPQas12','Station','casedup1','casedup2','Agegrp1'],axis=1)\n",
    "# Scientific_Sample = Scientific_Sample.drop(labels=['DOBy','RELIGIOUSB','Politicalstate','EduBG','major','Post','ProfessionalRT','Station','casedup1','casedup2','Agegrp1'],axis=1)"
   ]
  },
  {
   "cell_type": "code",
   "execution_count": 179,
   "id": "e130e14c",
   "metadata": {},
   "outputs": [],
   "source": [
    "Scientific_Sample = Scientific_Sample.dropna(axis = 0,subset =['CESD3','CESD5','CESD6','CESD7','CESD12','CESD14','CESD16','CESD18','CESD20'])"
   ]
  },
  {
   "cell_type": "code",
   "execution_count": 180,
   "id": "32d9f12d",
   "metadata": {},
   "outputs": [],
   "source": [
    "Scientific_Sample.eval('depression = CESD3+CESD5+CESD6+CESD7+CESD12+CESD14+CESD16+CESD18+CESD20',inplace = True)"
   ]
  },
  {
   "cell_type": "code",
   "execution_count": 181,
   "id": "00a0e99c",
   "metadata": {},
   "outputs": [],
   "source": [
    "Scientific_Sample['depression'] = pd.cut(Scientific_Sample.depression, [-1, 10, 17,np.inf], labels=[0, 1, 2])\n"
   ]
  },
  {
   "cell_type": "code",
   "execution_count": 182,
   "id": "74e6941c",
   "metadata": {},
   "outputs": [],
   "source": [
    "Scientific_Sample = Scientific_Sample.dropna(axis = 0,subset =['GAD1','GAD2','GAD3','GAD4','GAD5','GAD6','GAD7'])"
   ]
  },
  {
   "cell_type": "code",
   "execution_count": 183,
   "id": "28ca7ad4",
   "metadata": {},
   "outputs": [],
   "source": [
    "Scientific_Sample.eval('anxiety = GAD1+GAD2+GAD3+GAD4+GAD5+GAD6+GAD7',inplace = True)"
   ]
  },
  {
   "cell_type": "code",
   "execution_count": 184,
   "id": "9702cab6",
   "metadata": {},
   "outputs": [],
   "source": [
    "Scientific_Sample['anxiety'] = pd.cut(Scientific_Sample.anxiety, [-1, 4, 9, 14,np.inf], labels=[0, 1, 2, 3])\n"
   ]
  },
  {
   "cell_type": "code",
   "execution_count": 185,
   "id": "b2a2c2d9",
   "metadata": {},
   "outputs": [],
   "source": [
    "Scientific_Sample.drop(columns=Scientific_Sample.filter(regex='^GAD').columns, inplace=True)\n",
    "Scientific_Sample.drop(columns=Scientific_Sample.filter(regex='^CESD').columns, inplace=True)\n"
   ]
  },
  {
   "cell_type": "code",
   "execution_count": 186,
   "id": "c049f92b",
   "metadata": {},
   "outputs": [],
   "source": [
    "Scientific_Sample = Scientific_Sample.dropna(axis = 0,subset =['suicide'])\n",
    "Scientific_Sample['suicide'] = pd.cut(Scientific_Sample.suicide, [-1,3,np.inf], labels=[0, 1])\n"
   ]
  },
  {
   "cell_type": "code",
   "execution_count": 187,
   "id": "ea8156f0",
   "metadata": {},
   "outputs": [],
   "source": [
    "cols = Scientific_Sample.columns.tolist()\n",
    "\n",
    "# 将需要移动的列从原来的位置弹出\n",
    "col_to_move = 'suicide'  # 替换为需要移动的列的名称\n",
    "cols.pop(cols.index(col_to_move))\n",
    "# 将移动的列添加到列列表的末尾\n",
    "cols.append(col_to_move)\n",
    "# 重新排列 DataFrame 中的列\n",
    "Scientific_Sample = Scientific_Sample[cols]"
   ]
  },
  {
   "cell_type": "code",
   "execution_count": 188,
   "id": "48d69831",
   "metadata": {},
   "outputs": [
    {
     "name": "stdout",
     "output_type": "stream",
     "text": [
      "Index(['STPQpost1', 'STPQpost2', 'STPQpost3', 'STPQpost4', 'STPQpost5',\n",
      "       'STPQpost6', 'STPQpost7', 'STPQpost8', 'STPQpost9', 'STPQpost10',\n",
      "       ...\n",
      "       'STPQsc17', 'STPQsc18', 'STPQsc19', 'STPQsc20', 'STPQil1', 'STPQil2',\n",
      "       'STPQil3', 'depression', 'anxiety', 'suicide'],\n",
      "      dtype='object', length=166)\n"
     ]
    },
    {
     "name": "stderr",
     "output_type": "stream",
     "text": [
      "/Users/wangxiaoyan/opt/anaconda3/lib/python3.9/site-packages/sklearn/impute/_iterative.py:785: ConvergenceWarning: [IterativeImputer] Early stopping criterion not reached.\n",
      "  warnings.warn(\n"
     ]
    }
   ],
   "source": [
    "col_names = Scientific_Sample.columns\n",
    "print(col_names)\n",
    "imputer = IterativeImputer()\n",
    "imputed_df = pd.DataFrame(imputer.fit_transform(Scientific_Sample))\n",
    "imputed_df.columns = col_names\n",
    "imputed_df.to_csv(\"/Users/wangxiaoyan/Documents/wy/论文/git/scientific-worker-mental-health/data/all/2017科技人员心理健康-清洗处理后数据.csv\",sep=',',index=False)\n"
   ]
  },
  {
   "cell_type": "code",
   "execution_count": null,
   "id": "89507014",
   "metadata": {},
   "outputs": [],
   "source": []
  },
  {
   "cell_type": "code",
   "execution_count": null,
   "id": "3c53b340",
   "metadata": {},
   "outputs": [],
   "source": []
  }
 ],
 "metadata": {
  "kernelspec": {
   "display_name": "Python 3 (ipykernel)",
   "language": "python",
   "name": "python3"
  },
  "language_info": {
   "codemirror_mode": {
    "name": "ipython",
    "version": 3
   },
   "file_extension": ".py",
   "mimetype": "text/x-python",
   "name": "python",
   "nbconvert_exporter": "python",
   "pygments_lexer": "ipython3",
   "version": "3.9.13"
  }
 },
 "nbformat": 4,
 "nbformat_minor": 5
}
