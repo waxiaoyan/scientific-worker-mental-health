{
 "cells": [
  {
   "cell_type": "code",
   "execution_count": 1,
   "id": "c25a6378",
   "metadata": {},
   "outputs": [],
   "source": [
    "import pandas as pd\n",
    "\n"
   ]
  },
  {
   "cell_type": "code",
   "execution_count": 2,
   "id": "5c3969ea",
   "metadata": {},
   "outputs": [
    {
     "name": "stderr",
     "output_type": "stream",
     "text": [
      "/var/folders/6r/np24csk96nn1jm3ckkjcn48r0000gq/T/ipykernel_59619/2866417342.py:21: FutureWarning: Dropping of nuisance columns in DataFrame reductions (with 'numeric_only=None') is deprecated; in a future version this will raise TypeError.  Select only valid columns before calling the reduction.\n",
      "  Scientific_Sample['Current situation and demand of mental health services'] = CSDMHS_columns.sum(axis=1)\n"
     ]
    }
   ],
   "source": [
    "\n",
    "# 读取Excel文件的第一个工作表\n",
    "input_file = '/Users/wangxiaoyan/Documents/wy/论文/git/scientific-worker-mental-health/data/V2/csv/2017科技人员心理健康调查-最近一周自杀意念-Item信息数据.csv'\n",
    "output_file = '/Users/wangxiaoyan/Documents/wy/论文/git/scientific-worker-mental-health/data/V2/csv/2017-全国科技工作者-最近一周自杀意念-维度数据.csv'\n",
    "\n",
    "# 从第一个工作表读取特定列\n",
    "Scientific_Sample = pd.read_csv(input_file)\n",
    "# 获取以CES或GAD开头的列\n",
    "PSQI_columns = Scientific_Sample.filter(like='PSQI', axis=1)\n",
    "Scientific_Sample['Sleep quality'] = PSQI_columns.sum(axis=1)\n",
    "\n",
    "LSS_columns = Scientific_Sample.filter(like='LSS', axis=1)\n",
    "Scientific_Sample['Life Satisfaction'] = LSS_columns.sum(axis=1)\n",
    "\n",
    "PBSMHS_columns = Scientific_Sample.filter(like='PBSMHS', axis=1)\n",
    "Scientific_Sample['Perceived Barriers to Seeking Mental Health Services'] = PBSMHS_columns.sum(axis=1)\n",
    "\n",
    "MHLQ_columns = Scientific_Sample.filter(like='MHLQ', axis=1)\n",
    "Scientific_Sample['Mental Health Literacy'] = MHLQ_columns.sum(axis=1)\n",
    "\n",
    "CSDMHS_columns = Scientific_Sample.filter(like='CSDMHS', axis=1)\n",
    "Scientific_Sample['Current situation and demand of mental health services'] = CSDMHS_columns.sum(axis=1)\n",
    "\n",
    "CESD_columns = Scientific_Sample.filter(like='CESD', axis=1)\n",
    "Scientific_Sample['Depression'] = CESD_columns.sum(axis=1)\n",
    "GAD_columns = Scientific_Sample.filter(like='GAD', axis=1)\n",
    "Scientific_Sample['Anxiety'] = GAD_columns.sum(axis=1)\n",
    "\n",
    "\n",
    "Scientific_Sample.drop(columns=Scientific_Sample.filter(regex='^PSQI').columns, inplace=True)\n",
    "Scientific_Sample.drop(columns=Scientific_Sample.filter(regex='^LSS').columns, inplace=True)\n",
    "Scientific_Sample.drop(columns=Scientific_Sample.filter(regex='^PBSMHS').columns, inplace=True)\n",
    "Scientific_Sample.drop(columns=Scientific_Sample.filter(regex='^MHLQ').columns, inplace=True)\n",
    "Scientific_Sample.drop(columns=Scientific_Sample.filter(regex='^CSDMHS').columns, inplace=True)\n",
    "Scientific_Sample.drop(columns=Scientific_Sample.filter(regex='^CESD').columns, inplace=True)\n",
    "Scientific_Sample.drop(columns=Scientific_Sample.filter(regex='^GAD').columns, inplace=True)\n",
    "\n",
    "# 将选定的列写入新的Excel文件\n",
    "Scientific_Sample.to_csv(output_file, index=False)\n"
   ]
  },
  {
   "cell_type": "code",
   "execution_count": null,
   "id": "44e41932",
   "metadata": {},
   "outputs": [],
   "source": []
  }
 ],
 "metadata": {
  "kernelspec": {
   "display_name": "Python 3 (ipykernel)",
   "language": "python",
   "name": "python3"
  },
  "language_info": {
   "codemirror_mode": {
    "name": "ipython",
    "version": 3
   },
   "file_extension": ".py",
   "mimetype": "text/x-python",
   "name": "python",
   "nbconvert_exporter": "python",
   "pygments_lexer": "ipython3",
   "version": "3.9.13"
  }
 },
 "nbformat": 4,
 "nbformat_minor": 5
}
