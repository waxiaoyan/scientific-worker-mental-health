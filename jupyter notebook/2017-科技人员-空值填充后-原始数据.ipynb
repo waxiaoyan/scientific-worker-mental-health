{
 "cells": [
  {
   "cell_type": "code",
   "execution_count": 1,
   "id": "fab4fa1a",
   "metadata": {},
   "outputs": [],
   "source": [
    "from sklearn.model_selection import train_test_split\n",
    "from sklearn import metrics\n",
    "# import xgboost as xgb\n",
    "import matplotlib.pyplot as plt\n",
    "from sklearn.model_selection import GridSearchCV\n",
    "import pandas as pd, numpy as np\n",
    "import matplotlib as mpl\n",
    "# import lightgbm as lgb\n",
    "from sklearn.metrics import mean_squared_error\n",
    "from sklearn.experimental import enable_iterative_imputer\n",
    "from sklearn.impute import IterativeImputer\n",
    "from sklearn.ensemble import RandomForestClassifier\n"
   ]
  },
  {
   "cell_type": "code",
   "execution_count": 2,
   "id": "475b69f5",
   "metadata": {},
   "outputs": [
    {
     "name": "stderr",
     "output_type": "stream",
     "text": [
      "/var/folders/6r/np24csk96nn1jm3ckkjcn48r0000gq/T/ipykernel_96101/2620090110.py:1: DtypeWarning: Columns (319) have mixed types. Specify dtype option on import or set low_memory=False.\n",
      "  Scientific_Sample=pd.read_csv(\"/Users/wangxiaoyan/Documents/wy/论文/git/scientific-worker-mental-health/data/all/2017科技人员心理健康调查原始数据.csv\")\n"
     ]
    }
   ],
   "source": [
    "Scientific_Sample=pd.read_csv(\"/Users/wangxiaoyan/Documents/wy/论文/git/scientific-worker-mental-health/data/all/2017科技人员心理健康调查原始数据.csv\")\n"
   ]
  },
  {
   "cell_type": "code",
   "execution_count": 3,
   "id": "459683b6",
   "metadata": {},
   "outputs": [],
   "source": [
    "#正性与负性情绪量表\n",
    "Scientific_Sample.drop(columns=Scientific_Sample.filter(regex='^PANAS').columns, inplace=True)\n"
   ]
  },
  {
   "cell_type": "code",
   "execution_count": 4,
   "id": "ebb3d403",
   "metadata": {},
   "outputs": [],
   "source": [
    "cesd_columns = [col for col in Scientific_Sample.columns if col.startswith('CESD')]\n",
    "anxiety_columns = [col for col in Scientific_Sample.columns if col.startswith(\"GAD\")]\n",
    "selected_columns = ['suicide']\n",
    "\n",
    "for column in selected_columns:\n",
    "    # 计算众数\n",
    "    mode_value = Scientific_Sample[column].mode().iloc[0]\n",
    "    # 使用众数填充空值\n",
    "    Scientific_Sample[column].fillna(mode_value, inplace=True)\n",
    "\n",
    "for column in anxiety_columns:\n",
    "    # 计算众数\n",
    "    mode_value = Scientific_Sample[column].mode().iloc[0]\n",
    "    # 使用众数填充空值\n",
    "    Scientific_Sample[column].fillna(mode_value, inplace=True)\n",
    "for column in cesd_columns:\n",
    "    # 计算众数\n",
    "    mode_value = Scientific_Sample[column].mode().iloc[0]\n",
    "    # 使用众数填充空值\n",
    "    Scientific_Sample[column].fillna(mode_value, inplace=True)\n"
   ]
  },
  {
   "cell_type": "code",
   "execution_count": 5,
   "id": "32d9f12d",
   "metadata": {},
   "outputs": [],
   "source": [
    "CESD12 = 'CESD12'  # 将这里替换为你需要修改的列名\n",
    "CESD16 = 'CESD16'  # 将这里替换为你需要修改的列名\n",
    "old_value1 = '0'  # 将这里替换为需要替换的第一个值\n",
    "new_value1 = '3'  # 将这里替换为替换后的第一个新值\n",
    "old_value2 = '1'  # 将这里替换为需要替换的第二个值\n",
    "new_value2 = '2'  # 将这里替换为替换后的第二个新值\n",
    "\n",
    "# 创建一个字典，其中键是要替换的旧值，值是要替换的新值\n",
    "replacement_dict = {old_value1: new_value1, old_value2: new_value2}\n",
    "# 执行替换\n",
    "Scientific_Sample[CESD12] = Scientific_Sample[CESD12].replace(replacement_dict)\n",
    "Scientific_Sample[CESD16] = Scientific_Sample[CESD16].replace(replacement_dict)\n",
    "\n",
    "\n",
    "depression_columns = [col for col in Scientific_Sample.columns if col.startswith(\"CESD\")]\n",
    "depression_sum = Scientific_Sample[depression_columns].sum(axis=1)\n",
    "Scientific_Sample['depression'] = depression_sum"
   ]
  },
  {
   "cell_type": "code",
   "execution_count": 6,
   "id": "00a0e99c",
   "metadata": {},
   "outputs": [],
   "source": [
    "Scientific_Sample['depression'] = pd.cut(Scientific_Sample.depression, [-1, 9, 16,np.inf], labels=[0, 1, 2])\n"
   ]
  },
  {
   "cell_type": "code",
   "execution_count": 7,
   "id": "74e6941c",
   "metadata": {},
   "outputs": [],
   "source": [
    "anxiety_columns = [col for col in Scientific_Sample.columns if col.startswith(\"GAD\")]\n",
    "anxiety_sum = Scientific_Sample[anxiety_columns].sum(axis=1)\n",
    "Scientific_Sample['anxiety'] = anxiety_sum"
   ]
  },
  {
   "cell_type": "code",
   "execution_count": 8,
   "id": "9702cab6",
   "metadata": {},
   "outputs": [],
   "source": [
    "Scientific_Sample['anxiety'] = pd.cut(Scientific_Sample.anxiety, [-1, 4,np.inf], labels=[0, 1])\n"
   ]
  },
  {
   "cell_type": "code",
   "execution_count": 9,
   "id": "b2a2c2d9",
   "metadata": {},
   "outputs": [
    {
     "name": "stdout",
     "output_type": "stream",
     "text": [
      "行数: 13284\n"
     ]
    }
   ],
   "source": [
    "Scientific_Sample.drop(columns=Scientific_Sample.filter(regex='^GAD').columns, inplace=True)\n",
    "Scientific_Sample.drop(columns=Scientific_Sample.filter(regex='^CESD').columns, inplace=True)\n",
    "print(\"行数:\", Scientific_Sample.shape[0])\n"
   ]
  },
  {
   "cell_type": "code",
   "execution_count": 10,
   "id": "c049f92b",
   "metadata": {},
   "outputs": [
    {
     "name": "stdout",
     "output_type": "stream",
     "text": [
      "行数: 13284\n"
     ]
    }
   ],
   "source": [
    "Scientific_Sample = Scientific_Sample.dropna(axis = 0,subset =['suicide'])\n",
    "Scientific_Sample['suicide'] = pd.cut(Scientific_Sample.suicide, [-1,3,np.inf], labels=[0, 1])\n",
    "print(\"行数:\", Scientific_Sample.shape[0])\n"
   ]
  },
  {
   "cell_type": "code",
   "execution_count": 11,
   "id": "ea8156f0",
   "metadata": {},
   "outputs": [],
   "source": [
    "cols = Scientific_Sample.columns.tolist()\n",
    "\n",
    "# 将需要移动的列从原来的位置弹出\n",
    "col_to_move = 'suicide'  # 替换为需要移动的列的名称\n",
    "cols.pop(cols.index(col_to_move))\n",
    "# 将移动的列添加到列列表的末尾\n",
    "cols.append(col_to_move)\n",
    "# 重新排列 DataFrame 中的列\n",
    "Scientific_Sample = Scientific_Sample[cols]\n"
   ]
  },
  {
   "cell_type": "code",
   "execution_count": 12,
   "id": "d163630d",
   "metadata": {},
   "outputs": [],
   "source": [
    "for column in Scientific_Sample.columns:\n",
    "    # 找到列的众数\n",
    "    mode = Scientific_Sample[column].mode().iloc[0]\n",
    "    \n",
    "    # 用众数填充空值\n",
    "    Scientific_Sample[column].fillna(mode, inplace=True)\n"
   ]
  },
  {
   "cell_type": "code",
   "execution_count": null,
   "id": "08069ee8",
   "metadata": {},
   "outputs": [],
   "source": [
    "Scientific_Sample = Scientific_Sample.drop(labels=['ID','受访者-职业群体标签1','interviewee-Occupational group label1','受访者-职业群体标签2','interviewee-Occupational group label2','interviewee-Occupational group label3','受访者-年龄群体标签','Age group label1','Age group label2','ResY','TOKEN','A0','STATUS','QPW','START_TIME','END_TIME','USED_TIME'],axis=1)\n",
    "Scientific_Sample.to_csv(\"/Users/wangxiaoyan/Documents/wy/论文/git/scientific-worker-mental-health/data/all/2017科技人员心理健康-填充后原始数据.csv\", index=False)\n"
   ]
  },
  {
   "cell_type": "code",
   "execution_count": null,
   "id": "b5aedd78",
   "metadata": {},
   "outputs": [],
   "source": []
  }
 ],
 "metadata": {
  "kernelspec": {
   "display_name": "Python 3 (ipykernel)",
   "language": "python",
   "name": "python3"
  },
  "language_info": {
   "codemirror_mode": {
    "name": "ipython",
    "version": 3
   },
   "file_extension": ".py",
   "mimetype": "text/x-python",
   "name": "python",
   "nbconvert_exporter": "python",
   "pygments_lexer": "ipython3",
   "version": "3.9.13"
  }
 },
 "nbformat": 4,
 "nbformat_minor": 5
}
