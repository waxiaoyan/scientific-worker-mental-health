{
 "cells": [
  {
   "cell_type": "code",
   "execution_count": 3,
   "id": "c25a6378",
   "metadata": {},
   "outputs": [],
   "source": [
    "import pandas as pd\n",
    "\n"
   ]
  },
  {
   "cell_type": "code",
   "execution_count": 2,
   "id": "5c3969ea",
   "metadata": {},
   "outputs": [
    {
     "name": "stderr",
     "output_type": "stream",
     "text": [
      "/var/folders/6r/np24csk96nn1jm3ckkjcn48r0000gq/T/ipykernel_81754/2557722210.py:18: SettingWithCopyWarning: \n",
      "A value is trying to be set on a copy of a slice from a DataFrame.\n",
      "Try using .loc[row_indexer,col_indexer] = value instead\n",
      "\n",
      "See the caveats in the documentation: https://pandas.pydata.org/pandas-docs/stable/user_guide/indexing.html#returning-a-view-versus-a-copy\n",
      "  result['BMI'] = round(result['weight'] / ((result['height']/100) * 2), 0)\n"
     ]
    }
   ],
   "source": [
    "\n",
    "# 读取Excel文件的第一个工作表\n",
    "input_file = '/Users/wangxiaoyan/Documents/wy/论文/git/scientific-worker-mental-health/data/V2/2017-全国科技工作者心理健康状况调查.xlsx'\n",
    "output_file = '/Users/wangxiaoyan/Documents/wy/论文/git/scientific-worker-mental-health/data/V2/csv/2017-全国科技工作者-Item数据.csv'\n",
    "\n",
    "# 要读取的列\n",
    "selected_columns = ['suicide','weight','height','Gender','EduBG','major','Post','WorkingS','ProfessionalRT','Yincome','AFECQ1','MaritalS','NumberCH','exeminp','SMOKING3','DRINKING1','Age','WORKTIME1','WORKTIME4']\n",
    "\n",
    "# 从第一个工作表读取特定列\n",
    "data = pd.read_excel(input_file, sheet_name=0)\n",
    "# 获取以CES或GAD开头的列\n",
    "regex_columns = data.filter(regex='^(CES|GAD|PSQI|LSS|PBSMHS|MHLQ|CSDMHS)').columns\n",
    "\n",
    "# 合并固定列与以CES或GAD开头的列\n",
    "combined_columns = selected_columns + regex_columns.to_list()\n",
    "\n",
    "# 获取所需列的数据\n",
    "result = data[combined_columns]\n",
    "result['BMI'] = round(result['weight'] / ((result['height']/100) * 2), 0)\n",
    "result = result.drop(columns=['weight', 'height'])\n",
    "result['WorkTime'] = result['WORKTIME1']*5 + result['WORKTIME4']*2\n",
    "result = result.drop(columns=['WORKTIME1', 'WORKTIME4'])\n",
    "\n",
    "# 将选定的列写入新的Excel文件\n",
    "result.to_csv(output_file, index=False)\n"
   ]
  },
  {
   "cell_type": "code",
   "execution_count": 8,
   "id": "938f9146",
   "metadata": {},
   "outputs": [],
   "source": [
    "\n",
    "# 读取Excel文件的第一个工作表\n",
    "input_file = '/Users/wangxiaoyan/Documents/wy/论文/git/scientific-worker-mental-health/data/V2/csv/2017-全国科技工作者-Item数据.csv'\n",
    "output_file = '/Users/wangxiaoyan/Documents/wy/论文/git/scientific-worker-mental-health/data/V2/csv/2017-全国科技工作者-Item数据-original.csv'\n",
    "Scientific_Sample = pd.read_csv(input_file)\n",
    "\n",
    "CESD12 = 'CESD12'  # 将这里替换为你需要修改的列名\n",
    "CESD16 = 'CESD16'  # 将这里替换为你需要修改的列名\n",
    "old_value1 = '0'  # 将这里替换为需要替换的第一个值\n",
    "new_value1 = '3'  # 将这里替换为替换后的第一个新值\n",
    "old_value2 = '1'  # 将这里替换为需要替换的第二个值\n",
    "new_value2 = '2'  # 将这里替换为替换后的第二个新值\n",
    "\n",
    "# 创建一个字典，其中键是要替换的旧值，值是要替换的新值\n",
    "replacement_dict = {old_value1: new_value1, old_value2: new_value2}\n",
    "# 执行替换\n",
    "Scientific_Sample[CESD12] = Scientific_Sample[CESD12].replace(replacement_dict)\n",
    "Scientific_Sample[CESD16] = Scientific_Sample[CESD16].replace(replacement_dict)\n",
    "depression_columns = [col for col in Scientific_Sample.columns if col.startswith(\"CESD\")]\n",
    "depression_sum = Scientific_Sample[depression_columns].sum(axis=1)\n",
    "Scientific_Sample['depression'] = depression_sum\n",
    "\n",
    "anxiety_columns = [col for col in Scientific_Sample.columns if col.startswith(\"GAD\")]\n",
    "anxiety_sum = Scientific_Sample[anxiety_columns].sum(axis=1)\n",
    "Scientific_Sample['anxiety'] = anxiety_sum\n",
    "Scientific_Sample.drop(columns=Scientific_Sample.filter(regex='^GAD').columns, inplace=True)\n",
    "Scientific_Sample.drop(columns=Scientific_Sample.filter(regex='^CESD').columns, inplace=True)\n",
    "\n",
    "# 将选定的列写入新的Excel文件\n",
    "Scientific_Sample.to_csv(output_file, index=False)\n"
   ]
  },
  {
   "cell_type": "code",
   "execution_count": null,
   "id": "44e41932",
   "metadata": {},
   "outputs": [],
   "source": []
  }
 ],
 "metadata": {
  "kernelspec": {
   "display_name": "Python 3 (ipykernel)",
   "language": "python",
   "name": "python3"
  },
  "language_info": {
   "codemirror_mode": {
    "name": "ipython",
    "version": 3
   },
   "file_extension": ".py",
   "mimetype": "text/x-python",
   "name": "python",
   "nbconvert_exporter": "python",
   "pygments_lexer": "ipython3",
   "version": "3.9.13"
  }
 },
 "nbformat": 4,
 "nbformat_minor": 5
}
