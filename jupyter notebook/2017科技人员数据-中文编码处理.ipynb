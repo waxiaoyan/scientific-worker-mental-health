{
 "cells": [
  {
   "cell_type": "code",
   "execution_count": 3,
   "id": "b48e7ee3",
   "metadata": {},
   "outputs": [],
   "source": [
    "import pandas as pd\n",
    "\n",
    "# 读取 Excel 文件的第一个工作表\n",
    "file_path = \"/Users/wangxiaoyan/Documents/wy/论文/git/scientific-worker-mental-health/data/all/2017-全国科技工作者心理健康状况调查.xlsx\"\n",
    "\n",
    "df = pd.read_excel(file_path, sheet_name=0)\n",
    "\n",
    "# 创建一个示例 DataFrame\n",
    "\n",
    "# 选择要计算分类的列\n",
    "# column_name = 'Group'\n",
    "\n",
    "# # 使用 nunique() 函数计算唯一值的数量\n",
    "# num_unique_values = df[column_name].nunique()\n",
    "\n",
    "\n",
    "# 创建一个示例 DataFrame\n",
    "\n",
    "# 选择要替换为数字的列\n",
    "column_name = 'Group'\n",
    "\n",
    "# 使用 factorize() 函数将中文分类替换为数字\n",
    "df[column_name] = pd.factorize(df[column_name])[0] + 1\n",
    "\n",
    "\n",
    "# # 保存修改后的数据到新的 Excel 文件\n",
    "output_file_path = '/Users/wangxiaoyan/Documents/wy/论文/git/scientific-worker-mental-health/data/all/2017-全国科技工作者心理健康状况调查2.xlsx'\n",
    "df.to_excel(output_file_path, index=False, engine='openpyxl')\n"
   ]
  },
  {
   "cell_type": "code",
   "execution_count": null,
   "id": "6101a4f8",
   "metadata": {},
   "outputs": [],
   "source": []
  }
 ],
 "metadata": {
  "kernelspec": {
   "display_name": "Python 3 (ipykernel)",
   "language": "python",
   "name": "python3"
  },
  "language_info": {
   "codemirror_mode": {
    "name": "ipython",
    "version": 3
   },
   "file_extension": ".py",
   "mimetype": "text/x-python",
   "name": "python",
   "nbconvert_exporter": "python",
   "pygments_lexer": "ipython3",
   "version": "3.9.13"
  }
 },
 "nbformat": 4,
 "nbformat_minor": 5
}
