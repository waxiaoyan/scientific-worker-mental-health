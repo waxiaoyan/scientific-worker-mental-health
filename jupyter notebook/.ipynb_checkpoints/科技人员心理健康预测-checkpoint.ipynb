{
 "cells": [
  {
   "cell_type": "code",
   "execution_count": 4,
   "id": "a8f92b29",
   "metadata": {},
   "outputs": [],
   "source": [
    "import pandas as pd, numpy as np\n",
    "from sklearn.experimental import enable_iterative_imputer\n",
    "from sklearn.impute import IterativeImputer\n"
   ]
  },
  {
   "cell_type": "code",
   "execution_count": null,
   "id": "c71a7c5c",
   "metadata": {},
   "outputs": [],
   "source": [
    "selected_columns = ['OSI6','OSI5','OSI15','STPQsc20','STPQawt4','OSI7','OSI3','OSI17','STPQawt3','STPQpe1','OSI16','OSI1','STPQjs7','STPQpe18','MBIGS5','STPQil2','MBIGS14','STPQil3','PANAS14','NumberCH7','IIS1','PANAS2','LSS3','OSI14','PSQI31','MBIGS12','STPQjs2','PANAS9','STPQai17','STPQlt3','OSI4','PANAS17','OSI8','PANAS7','Age','Irritability','OSI9','OSI13','PBSMHS14','PSQI2','PSQI4','WFCS9','PANAS5','PBSMHS18','MBIGS7','MBIGS1','OSI12','OSI11','OSI10','OSI2','PANAS11','STPQjs1','STPQjs12','PBSMHS20','STPQai4','MBIGS9','STPQjs10','STPQpe14','PANAS19','LSS4','PBSMHS4','STPQsc1','WFCS4','WFCS3','depression','anxiety']\n"
   ]
  },
  {
   "cell_type": "code",
   "execution_count": null,
   "id": "eab56dad",
   "metadata": {},
   "outputs": [],
   "source": [
    "Scientific_Sample=pd.read_csv(\"/Users/wangxiaoyan/Documents/wy/论文/git/scientific-worker-mental-health/data/科技人员原始数据.csv\")\n",
    "Scientific_Sample = Scientific_Sample.dropna(axis = 0,subset =['GAD1','GAD2','GAD3','GAD4','GAD5','GAD6','GAD7'])\n",
    "Scientific_Sample = Scientific_Sample.dropna(axis = 0,subset =['CESD3','CESD5','CESD6','CESD7','CESD12','CESD14','CESD16','CESD18','CESD20'])\n",
    "Scientific_Sample = Scientific_Sample.dropna(axis = 0,subset =['suicide'])\n",
    "\n",
    "#计算抑郁级别\n",
    "Scientific_Sample.eval('depression = CESD3+CESD5+CESD6+CESD7+CESD12+CESD14+CESD16+CESD18+CESD20',inplace = True)\n",
    "Scientific_Sample['depression'] = pd.cut(Scientific_Sample.depression, [-1, 10, 17,np.inf], labels=[0, 1, 2])\n",
    "#计算焦虑级别\n",
    "Scientific_Sample.eval('anxiety = GAD1+GAD2+GAD3+GAD4+GAD5+GAD6+GAD7',inplace = True)\n",
    "Scientific_Sample['anxiety'] = pd.cut(Scientific_Sample.anxiety, [-1, 4, 9, 14,np.inf], labels=[0, 1, 2, 3])\n",
    "\n",
    "Scientific_Sample = Scientific_Sample.drop(labels=['GAD1','GAD2','GAD3','GAD4','GAD5','GAD6','GAD7','Group','dtot$$$'],axis=1)\n",
    "Scientific_Sample = Scientific_Sample.drop(labels=['CESD3','CESD5','CESD6','CESD7','CESD12','CESD14','CESD16','CESD18','CESD20'],axis=1)\n",
    "\n",
    "Scientific_Sample = Scientific_Sample.dropna(thresh=Scientific_Sample.shape[0]*0.9,how='all',axis=1)\n",
    "Scientific_Sample = Scientific_Sample.dropna(thresh=Scientific_Sample.shape[1]*0.9,how='all',axis=0)\n",
    "\n",
    "Scientific_Sample = Scientific_Sample[selected_columns]\n",
    "col_names = Scientific_Sample.columns\n",
    "imputer = IterativeImputer()\n",
    "imputed_df = pd.DataFrame(imputer.fit_transform(Scientific_Sample))\n",
    "imputed_df.columns = col_names\n",
    "imputed_df.to_csv(\"/Users/wangxiaoyan/Documents/wy/论文/git/scientific-worker-mental-health/data/科技人员心理健康处理后数据.csv\",index=False)\n",
    "\n"
   ]
  },
  {
   "cell_type": "code",
   "execution_count": null,
   "id": "e0ba5f7c",
   "metadata": {},
   "outputs": [],
   "source": []
  }
 ],
 "metadata": {
  "kernelspec": {
   "display_name": "Python 3 (ipykernel)",
   "language": "python",
   "name": "python3"
  },
  "language_info": {
   "codemirror_mode": {
    "name": "ipython",
    "version": 3
   },
   "file_extension": ".py",
   "mimetype": "text/x-python",
   "name": "python",
   "nbconvert_exporter": "python",
   "pygments_lexer": "ipython3",
   "version": "3.9.13"
  }
 },
 "nbformat": 4,
 "nbformat_minor": 5
}
