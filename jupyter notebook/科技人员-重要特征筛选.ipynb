{
 "cells": [
  {
   "cell_type": "code",
   "execution_count": 1,
   "id": "3a964915",
   "metadata": {},
   "outputs": [],
   "source": [
    "from sklearn.model_selection import train_test_split\n",
    "from sklearn import metrics\n",
    "import matplotlib.pyplot as plt\n",
    "from sklearn.model_selection import GridSearchCV\n",
    "import pandas as pd, numpy as np\n",
    "import matplotlib as mpl\n",
    "from sklearn.ensemble import RandomForestClassifier \n",
    "from sklearn.feature_selection import SelectFromModel\n",
    "from sklearn.model_selection import cross_validate\n",
    "from sklearn.pipeline import make_pipeline\n",
    "from sklearn.feature_selection import SelectKBest\n",
    "from sklearn.feature_selection import chi2\n",
    "from sklearn.metrics import confusion_matrix\n",
    "from sklearn.metrics import classification_report\n",
    "from sklearn.metrics import accuracy_score\n",
    "import joblib\n",
    "from sklearn.model_selection import cross_val_score, cross_val_predict\n",
    "from sklearn.metrics import accuracy_score, recall_score, roc_auc_score, roc_curve\n",
    "\n",
    "\n"
   ]
  },
  {
   "cell_type": "code",
   "execution_count": 2,
   "id": "e1c26caf",
   "metadata": {},
   "outputs": [],
   "source": [
    "# mpl.rcParams['font.sans-serif']=['SimHei']\n",
    "# mpl.rcParams['axes.unicode_minus']=False\n",
    "plt.rcParams['font.sans-serif'] = ['Arial Unicode MS']\n"
   ]
  },
  {
   "cell_type": "code",
   "execution_count": 9,
   "id": "e7bbb6b0",
   "metadata": {},
   "outputs": [
    {
     "name": "stdout",
     "output_type": "stream",
     "text": [
      "交叉验证F1值： [0.46666667 0.46666667 0.46666667 0.48275862 0.46428571]\n",
      "交叉验证准确性: [0.875      0.875      0.875      0.93333333 0.86666667]\n",
      "交叉验证召回率: [0.5 0.5 0.5 0.5 0.5]\n",
      "Average Accuracy:  0.8850000000000001\n",
      "Average Recall:  0.5\n"
     ]
    }
   ],
   "source": [
    "# fpath = r\"/Users/wangxiaoyan/Documents/wy/论文/git/scientific-worker-mental-health/data/IterativeImputer-科技人员抑郁量表目标值分组.csv\"\n",
    "# fpath = r\"/Users/wangxiaoyan/Documents/wy/论文/git/scientific-worker-mental-health/data/随机森林-科技人员抑郁量表目标值分组.csv\"\n",
    "\n",
    "fpath = r\"/Users/wangxiaoyan/Documents/wy/论文/git/scientific-worker-mental-health/data/IterativeImputer抑郁量表处理后数据.csv\"\n",
    "# fpath = r\"/Users/wangxiaoyan/Documents/wy/论文/git/scientific-worker-mental-health/data/IterativeImputer焦虑量表处理后数据.csv\"\n",
    "data = pd.read_csv(fpath)\n",
    "number = 30\n",
    "# X = data.drop('anxiety', axis=1)\n",
    "# y = data['anxiety']\n",
    "X = data.drop('depression', axis=1)\n",
    "y = data['depression']\n",
    "x_train, x_test, y_train, y_test = train_test_split(X, y, test_size=0.3, random_state=42)\n",
    "\n",
    "# 训练随机森林模型\n",
    "rfc = RandomForestClassifier(n_estimators=100, random_state=42)\n",
    "# rfc.fit(x_train, y_train)\n",
    "cv_acc = cross_val_score(rfc, X, y, cv=5, scoring='accuracy')\n",
    "cv_rec = cross_val_score(rfc, X, y, cv=5, scoring='recall_macro')\n",
    "print(\"交叉验证F1值：\", cross_val_score(rfc, X, y, cv=5, scoring='f1_macro'))\n",
    "print(\"交叉验证准确性:\",cv_acc)\n",
    "print(\"交叉验证召回率:\",cv_rec)\n",
    "\n",
    "# cv_proba = cross_val_predict(rfc, X, y, cv=5, method='predict_proba')[:, 1]\n",
    "print('Average Accuracy: ', cv_acc.mean())\n",
    "print('Average Recall: ', cv_rec.mean())\n",
    "# cv_auc = roc_auc_score(y, cv_proba,multi_class='ovr')\n",
    "\n",
    "# # 打印平均指标\n",
    "\n",
    "# print('AUC: ', cv_auc)\n",
    "\n",
    "# 绘制ROC曲线\n",
    "# fpr, tpr, thresholds = roc_curve(y, cv_proba)\n",
    "# plt.plot(fpr, tpr)\n",
    "# plt.plot([0, 1], [0, 1], 'k--')\n",
    "# plt.xlabel('False Positive Rate')\n",
    "# plt.ylabel('True Positive Rate')\n",
    "# plt.title('ROC Curve')\n",
    "# plt.show()\n",
    "\n",
    "# importance = rfc.feature_importances_\n",
    "\n",
    "# # 获取前30个重要特征的索引和名称\n",
    "# indices = np.argsort(importance)[::-1][:30][::-1]\n",
    "# features = data.columns[indices]\n",
    "# # 绘制水平柱状图\n",
    "# plt.figure(figsize=(8, 8))\n",
    "# fig, ax = plt.subplots()\n",
    "# ax.barh(features, importance[indices])\n",
    "# plt.xlabel('Feature Importance Score')\n",
    "# plt.ylabel('Features')\n",
    "# plt.title(\"Random Forest Feature Importance For Anxiety\")\n",
    "# plt.show()\n",
    "\n",
    "\n"
   ]
  },
  {
   "cell_type": "code",
   "execution_count": null,
   "id": "032558eb",
   "metadata": {},
   "outputs": [],
   "source": []
  },
  {
   "cell_type": "code",
   "execution_count": null,
   "id": "f5a086f8",
   "metadata": {},
   "outputs": [],
   "source": []
  }
 ],
 "metadata": {
  "kernelspec": {
   "display_name": "Python 3 (ipykernel)",
   "language": "python",
   "name": "python3"
  },
  "language_info": {
   "codemirror_mode": {
    "name": "ipython",
    "version": 3
   },
   "file_extension": ".py",
   "mimetype": "text/x-python",
   "name": "python",
   "nbconvert_exporter": "python",
   "pygments_lexer": "ipython3",
   "version": "3.9.13"
  }
 },
 "nbformat": 4,
 "nbformat_minor": 5
}
