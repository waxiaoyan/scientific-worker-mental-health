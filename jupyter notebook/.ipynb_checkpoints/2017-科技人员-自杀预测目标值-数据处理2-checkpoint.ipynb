{
 "cells": [
  {
   "cell_type": "code",
   "execution_count": 36,
   "id": "fab4fa1a",
   "metadata": {},
   "outputs": [],
   "source": [
    "from sklearn.model_selection import train_test_split\n",
    "from sklearn import metrics\n",
    "# import xgboost as xgb\n",
    "import matplotlib.pyplot as plt\n",
    "from sklearn.model_selection import GridSearchCV\n",
    "import pandas as pd, numpy as np\n",
    "import matplotlib as mpl\n",
    "# import lightgbm as lgb\n",
    "from sklearn.metrics import mean_squared_error\n",
    "from sklearn.experimental import enable_iterative_imputer\n",
    "from sklearn.impute import IterativeImputer\n",
    "from sklearn.ensemble import RandomForestClassifier\n"
   ]
  },
  {
   "cell_type": "code",
   "execution_count": 37,
   "id": "475b69f5",
   "metadata": {},
   "outputs": [],
   "source": [
    "Scientific_Sample=pd.read_csv(\"/Users/wangxiaoyan/Documents/wy/论文/git/scientific-worker-mental-health/data/all/2017科技人员心理健康-初步数据处理.csv\")\n",
    "Scientific_Sample = Scientific_Sample.drop(labels=['GAD1','GAD2','GAD3','GAD4','GAD5','GAD6','GAD7','Group','dtot$$$'],axis=1)\n",
    "Scientific_Sample = Scientific_Sample.drop(labels=['CESD3','CESD5','CESD6','CESD7','CESD12','CESD14','CESD16','CESD18','CESD20'],axis=1)\n"
   ]
  },
  {
   "cell_type": "code",
   "execution_count": 38,
   "id": "22dee89d",
   "metadata": {},
   "outputs": [],
   "source": [
    "Scientific_Sample = Scientific_Sample.dropna(axis = 0,subset =['suicide'])\n"
   ]
  },
  {
   "cell_type": "code",
   "execution_count": 39,
   "id": "0b380c2e",
   "metadata": {},
   "outputs": [],
   "source": [
    "\n",
    "cols = Scientific_Sample.columns.tolist()\n",
    "\n",
    "# 将需要移动的列从原来的位置弹出\n",
    "col_to_move = 'suicide'  # 替换为需要移动的列的名称\n",
    "cols.pop(cols.index(col_to_move))\n",
    "# 将移动的列添加到列列表的末尾\n",
    "cols.append(col_to_move)\n",
    "# 重新排列 DataFrame 中的列\n",
    "Scientific_Sample = Scientific_Sample[cols]"
   ]
  },
  {
   "cell_type": "code",
   "execution_count": 40,
   "id": "6e858c5b",
   "metadata": {},
   "outputs": [],
   "source": [
    "col_names = Scientific_Sample.columns\n",
    "imputer = IterativeImputer()\n",
    "# imputer.fit(Scientific_Sample)\n"
   ]
  },
  {
   "cell_type": "code",
   "execution_count": 41,
   "id": "530e5b1c",
   "metadata": {},
   "outputs": [
    {
     "name": "stderr",
     "output_type": "stream",
     "text": [
      "/Users/wangxiaoyan/opt/anaconda3/lib/python3.9/site-packages/sklearn/impute/_iterative.py:785: ConvergenceWarning: [IterativeImputer] Early stopping criterion not reached.\n",
      "  warnings.warn(\n"
     ]
    }
   ],
   "source": [
    "imputed_df = pd.DataFrame(imputer.fit_transform(Scientific_Sample))\n",
    "imputed_df.columns = col_names\n"
   ]
  },
  {
   "cell_type": "code",
   "execution_count": 42,
   "id": "e57582ae",
   "metadata": {},
   "outputs": [],
   "source": [
    "# Scientific_Sample[Scientific_Sample.isna()] = imputed_df[Scientific_Sample.isna()]\n",
    "imputed_df.to_csv(\"/Users/wangxiaoyan/Documents/wy/论文/git/scientific-worker-mental-health/data/all/IterativeImputer自杀预测处理后数据.csv\",index=False)\n"
   ]
  },
  {
   "cell_type": "code",
   "execution_count": 11,
   "id": "d6827924",
   "metadata": {},
   "outputs": [],
   "source": []
  },
  {
   "cell_type": "code",
   "execution_count": 47,
   "id": "73568cf7",
   "metadata": {},
   "outputs": [],
   "source": []
  },
  {
   "cell_type": "code",
   "execution_count": null,
   "id": "89507014",
   "metadata": {},
   "outputs": [],
   "source": []
  },
  {
   "cell_type": "code",
   "execution_count": null,
   "id": "3c53b340",
   "metadata": {},
   "outputs": [],
   "source": []
  }
 ],
 "metadata": {
  "kernelspec": {
   "display_name": "Python 3 (ipykernel)",
   "language": "python",
   "name": "python3"
  },
  "language_info": {
   "codemirror_mode": {
    "name": "ipython",
    "version": 3
   },
   "file_extension": ".py",
   "mimetype": "text/x-python",
   "name": "python",
   "nbconvert_exporter": "python",
   "pygments_lexer": "ipython3",
   "version": "3.9.13"
  }
 },
 "nbformat": 4,
 "nbformat_minor": 5
}
