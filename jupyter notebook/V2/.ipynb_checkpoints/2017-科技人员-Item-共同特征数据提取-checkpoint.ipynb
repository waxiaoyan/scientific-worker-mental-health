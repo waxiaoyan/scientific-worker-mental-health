{
 "cells": [
  {
   "cell_type": "code",
   "execution_count": 1,
   "id": "c25a6378",
   "metadata": {},
   "outputs": [],
   "source": [
    "import pandas as pd\n",
    "\n"
   ]
  },
  {
   "cell_type": "code",
   "execution_count": 6,
   "id": "5c3969ea",
   "metadata": {},
   "outputs": [],
   "source": [
    "\n",
    "# 读取Excel文件的第一个工作表\n",
    "input_file = '/Users/wangxiaoyan/Documents/wy/论文/git/scientific-worker-mental-health/data/V2/csv/2017科技人员心理健康调查-焦虑抑郁-Item信息数据.csv'\n",
    "output_file = '/Users/wangxiaoyan/Documents/wy/论文/git/scientific-worker-mental-health/data/V2/csv/2017-全国科技工作者-Item-共同特征数据.csv'\n",
    "Dataset = pd.read_csv(input_file)\n",
    "\n",
    "# 要读取的列\n",
    "selected_columns = ['LSS3','PSQI2','WorkTime','PSQI4','PBSMHS12','PBSMHS16','PBSMHS1','Yincome','depression','anxiety']\n",
    "Dataset = Dataset[selected_columns]\n",
    "\n",
    "# 将选定的列写入新的Excel文件\n",
    "Dataset.to_csv(output_file, index=False)\n"
   ]
  },
  {
   "cell_type": "code",
   "execution_count": null,
   "id": "44e41932",
   "metadata": {},
   "outputs": [],
   "source": []
  }
 ],
 "metadata": {
  "kernelspec": {
   "display_name": "Python 3 (ipykernel)",
   "language": "python",
   "name": "python3"
  },
  "language_info": {
   "codemirror_mode": {
    "name": "ipython",
    "version": 3
   },
   "file_extension": ".py",
   "mimetype": "text/x-python",
   "name": "python",
   "nbconvert_exporter": "python",
   "pygments_lexer": "ipython3",
   "version": "3.9.13"
  }
 },
 "nbformat": 4,
 "nbformat_minor": 5
}
