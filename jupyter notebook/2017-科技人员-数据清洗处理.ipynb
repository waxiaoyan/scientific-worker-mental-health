{
 "cells": [
  {
   "cell_type": "code",
   "execution_count": 780,
   "id": "fab4fa1a",
   "metadata": {},
   "outputs": [],
   "source": [
    "from sklearn.model_selection import train_test_split\n",
    "from sklearn import metrics\n",
    "# import xgboost as xgb\n",
    "import matplotlib.pyplot as plt\n",
    "from sklearn.model_selection import GridSearchCV\n",
    "import pandas as pd, numpy as np\n",
    "import matplotlib as mpl\n",
    "# import lightgbm as lgb\n",
    "from sklearn.metrics import mean_squared_error\n",
    "from sklearn.experimental import enable_iterative_imputer\n",
    "from sklearn.impute import IterativeImputer\n",
    "from sklearn.ensemble import RandomForestClassifier\n",
    "import shap\n"
   ]
  },
  {
   "cell_type": "code",
   "execution_count": 781,
   "id": "475b69f5",
   "metadata": {},
   "outputs": [
    {
     "name": "stderr",
     "output_type": "stream",
     "text": [
      "Columns (319) have mixed types. Specify dtype option on import or set low_memory=False.\n"
     ]
    }
   ],
   "source": [
    "Scientific_Sample=pd.read_csv(\"/Users/wangxiaoyan/Documents/wy/论文/git/scientific-worker-mental-health/data/all/2017科技人员心理健康调查原始数据.csv\")\n"
   ]
  },
  {
   "cell_type": "code",
   "execution_count": 782,
   "id": "f3f8a152",
   "metadata": {},
   "outputs": [],
   "source": [
    "Scientific_Sample = Scientific_Sample.drop(labels=['ID','NumberCH7','STPQpe17','STPQlt12','CSDMHS17','STPQai10','Irritability','Group','dtot$$$','START_TIME','END_TIME','USED_TIME','受访者-职业群体标签1','interviewee-Occupational group label1','受访者-职业群体标签2','interviewee-Occupational group label2','interviewee-Occupational group label3','受访者-年龄群体标签','Age group label1','Age group label2','ResY','TOKEN','A0','STATUS','QPW'],axis=1)\n",
    "Scientific_Sample.to_csv(\"/Users/wangxiaoyan/Documents/wy/论文/git/scientific-worker-mental-health/data/all/2017科技人员心理健康-初步处理后数据.csv\",sep=',',index=False)\n"
   ]
  },
  {
   "cell_type": "code",
   "execution_count": 783,
   "id": "a61f4af7",
   "metadata": {},
   "outputs": [
    {
     "name": "stdout",
     "output_type": "stream",
     "text": [
      "Distinct column prefixes with more than half null values (sorted):\n",
      "STPQai: 13102\n",
      "STPQil: 12027\n",
      "SMOKING: 11304\n",
      "CSDMHS: 10989\n",
      "STPQ: 10486\n",
      "STPQea: 10433\n",
      "STPQpost: 8460\n",
      "STPQsc: 8434\n",
      "STPQoc: 8025\n",
      "STPQpv: 7996\n",
      "PCQ: 7859\n"
     ]
    }
   ],
   "source": [
    "import re\n",
    "###超过一半为空的量表\n",
    "# 计算每列中的空值数量\n",
    "null_counts = Scientific_Sample.isnull().sum()\n",
    "\n",
    "# 找出数据超过一半为空的列\n",
    "half_count = len(Scientific_Sample) / 2\n",
    "columns_with_more_than_half_nulls = null_counts[null_counts > half_count]\n",
    "\n",
    "# 按空值数量降序排序\n",
    "sorted_columns = columns_with_more_than_half_nulls.sort_values(ascending=False)\n",
    "\n",
    "# 提取不重复的前缀\n",
    "prefixes = set()\n",
    "pattern = re.compile(r\"^[A-Za-z]+\")  # 正则表达式匹配以字母开头的前缀\n",
    "\n",
    "# 显示结果\n",
    "print(\"Distinct column prefixes with more than half null values (sorted):\")\n",
    "for col, count in sorted_columns.items():\n",
    "    match = pattern.match(col)\n",
    "    if match:\n",
    "        prefix = match.group()\n",
    "        if prefix not in prefixes:\n",
    "            prefixes.add(prefix)\n",
    "            print(f\"{prefix}: {count}\")"
   ]
  },
  {
   "cell_type": "code",
   "execution_count": 784,
   "id": "459683b6",
   "metadata": {},
   "outputs": [],
   "source": [
    "#删除答题时间少于20分钟的样本\n",
    "# Scientific_Sample = Scientific_Sample.drop(Scientific_Sample[Scientific_Sample['USED_TIME'] < 20].index)\n",
    "# Scientific_Sample = Scientific_Sample.drop('USED_TIME', axis=1)\n"
   ]
  },
  {
   "cell_type": "code",
   "execution_count": 785,
   "id": "7f25300d",
   "metadata": {},
   "outputs": [],
   "source": [
    "# dup_cols = Scientific_Sample.columns[Scientific_Sample.columns.str.endswith('.1')]\n",
    "dup_cols = [col for col in Scientific_Sample.columns if '.' in col]\n",
    "Scientific_Sample = Scientific_Sample.drop(dup_cols, axis=1)\n"
   ]
  },
  {
   "cell_type": "code",
   "execution_count": 786,
   "id": "7613a786",
   "metadata": {},
   "outputs": [
    {
     "name": "stdout",
     "output_type": "stream",
     "text": [
      "行数: 13284\n",
      "列数: 417\n",
      "行数: 13284\n",
      "列数: 292\n",
      "删除的列： {'STPQpv5', 'STPQai24', 'STPQsc3', 'STPQoc12', 'STPQpv2', 'STPQpv3', 'STPQai30', 'STPQai20', 'STPQoc22', 'STPQoc7', 'PCQ6', 'STPQai27', 'STPQ18a', 'STPQoc6', 'STPQea6', 'STPQoc9', 'STPQoc5', 'STPQil5', 'PCQ14', 'STPQ2a', 'STPQ14b', 'STPQea15', 'STPQsc11', 'STPQoc18', 'STPQpv6', 'STPQea10', 'STPQil7', 'STPQoc10', 'STPQpv1', 'STPQoc19', 'STPQoc8', 'STPQpv4', 'STPQ32', 'PCQ17', 'STPQoc20', 'STPQea8', 'STPQoc15', 'STPQsc2', 'STPQsc8', 'STPQai21', 'STPQea16', 'STPQ14c', 'STPQea12', 'STPQea17', 'STPQil4', 'STPQai22', 'STPQoc16', 'STPQoc21', 'STPQoc11', 'STPQai18', 'STPQoc1', 'STPQ20a', 'STPQsc6', 'STPQai8', 'STPQ16', 'STPQsc4', 'CSDMHS31', 'PCQ5', 'STPQpv11', 'STPQ33', 'STPQoc3', 'PCQ10', 'STPQoc14', 'STPQai31', 'STPQea4', 'STPQai25', 'STPQoc2', 'STPQai26', 'STPQea13', 'STPQ20b', 'STPQsc5', 'STPQoc17', 'PCQ3', 'PCQ19', 'STPQsc10', 'STPQai11', 'STPQai14', 'STPQ34', 'STPQpv12', 'STPQoc4', 'STPQea2', 'STPQai13', 'STPQsc7', 'STPQai16', 'PCQ9', 'PCQ18', 'STPQpost17', 'STPQai7', 'STPQ14a', 'STPQpv9', 'PCQ4', 'STPQai23', 'PCQ16', 'STPQea7', 'PCQ15', 'STPQai29', 'STPQ2c', 'STPQ31', 'PCQ12', 'STPQil6', 'STPQai28', 'STPQsc9', 'PCQ8', 'STPQea11', 'SMOKING3', 'STPQ2b', 'STPQ18b', 'STPQoc23', 'STPQai15', 'PCQ11', 'PCQ2', 'STPQpv13', 'STPQoc13', 'STPQpv8', 'PCQ13', 'STPQea5', 'STPQpv10', 'STPQpv7', 'STPQai9', 'STPQea3', 'STPQai19', 'STPQai12', 'PCQ7', 'STPQea9', 'STPQea14'}\n"
     ]
    }
   ],
   "source": [
    "\n",
    "# 计算至少需要有多少非空值（行和列）\n",
    "print(\"行数:\", Scientific_Sample.shape[0])\n",
    "print(\"列数:\", Scientific_Sample.shape[1])\n",
    "columns_before = set(Scientific_Sample.columns)\n",
    "threshold = 0.5 * len(Scientific_Sample)\n",
    "Scientific_Sample = Scientific_Sample.dropna(axis=1, thresh=threshold)\n",
    "# row_threshold = 0.5 * len(Scientific_Sample.columns)\n",
    "# Scientific_Sample = Scientific_Sample.dropna(axis=0, thresh=row_threshold)\n",
    "\n",
    "# 输出结果\n",
    "print(\"行数:\", Scientific_Sample.shape[0])\n",
    "print(\"列数:\", Scientific_Sample.shape[1])\n",
    "columns_after = set(Scientific_Sample.columns)\n",
    "deleted_columns = columns_before - columns_after\n",
    "\n",
    "print(\"删除的列：\", deleted_columns)"
   ]
  },
  {
   "cell_type": "code",
   "execution_count": 787,
   "id": "fa92bd40",
   "metadata": {},
   "outputs": [],
   "source": [
    "# #心理健康素养\n",
    "# Scientific_Sample.drop(columns=Scientific_Sample.filter(regex='^MHLQ').columns, inplace=True)\n",
    "# #心理求助障碍\n",
    "# Scientific_Sample.drop(columns=Scientific_Sample.filter(regex='^PBSMHS').columns, inplace=True)"
   ]
  },
  {
   "cell_type": "code",
   "execution_count": 788,
   "id": "5026f018",
   "metadata": {},
   "outputs": [
    {
     "name": "stdout",
     "output_type": "stream",
     "text": [
      "行数: 13284\n",
      "列数: 292\n",
      "行数: 13284\n",
      "列数: 272\n"
     ]
    }
   ],
   "source": [
    "print(\"行数:\", Scientific_Sample.shape[0])\n",
    "print(\"列数:\", Scientific_Sample.shape[1])\n",
    "#正性与负性情绪量表\n",
    "Scientific_Sample.drop(columns=Scientific_Sample.filter(regex='^PANAS').columns, inplace=True)\n",
    "\n",
    "# #心理健康服务现状与需求\n",
    "# Scientific_Sample.drop(columns=Scientific_Sample.filter(regex='^CSDMHS').columns, inplace=True)\n",
    "\n",
    "# #行政干预\n",
    "# Scientific_Sample.drop(columns=Scientific_Sample.filter(regex='^STPQai').columns, inplace=True)\n",
    "\n",
    "# #职业价值观\n",
    "# Scientific_Sample.drop(columns=Scientific_Sample.filter(regex='^STPQpv').columns, inplace=True)\n",
    "# #社会资本\n",
    "# Scientific_Sample.drop(columns=Scientific_Sample.filter(regex='^STPQsc').columns, inplace=True)\n",
    "# #心理资本\n",
    "# Scientific_Sample.drop(columns=Scientific_Sample.filter(regex='^PCQ').columns, inplace=True)\n",
    "# #组织氛围\n",
    "# Scientific_Sample.drop(columns=Scientific_Sample.filter(regex='^STPQoc').columns, inplace=True)\n",
    "# #创业态度\n",
    "# Scientific_Sample.drop(columns=Scientific_Sample.filter(regex='^STPQea').columns, inplace=True)\n",
    "\n",
    "# Scientific_Sample.drop(columns=Scientific_Sample.filter(regex='^STPQil').columns, inplace=True)\n",
    "# Scientific_Sample.drop(columns=Scientific_Sample.filter(regex='^STPQ\\d').columns, inplace=True)\n",
    "# Scientific_Sample.drop(columns=Scientific_Sample.filter(regex='^STPQpost').columns, inplace=True)\n",
    "\n",
    "print(\"行数:\", Scientific_Sample.shape[0])\n",
    "print(\"列数:\", Scientific_Sample.shape[1])\n",
    "# STPQai: 13102\n",
    "# STPQil: 12027\n",
    "# SMOKING: 11304\n",
    "# CSDMHS: 10989\n",
    "# STPQ: 10486\n",
    "# STPQea: 10433\n",
    "# STPQpost: 8460\n",
    "# STPQsc: 8434\n",
    "# STPQoc: 8025\n",
    "# STPQpv: 7996\n",
    "# PCQ: 7859\n",
    "\n",
    "#背景信息 'PSQI11','PSQI14',,'NumberCH''Yincome','NETIncome',\n",
    "Scientific_Sample = Scientific_Sample.drop(labels=['workyear1','WorkingS','TMIncome','Yincome','NETIncome','WORKTIME1','WORKTIME4','exeminp','Age','Gender','DOBy','RELIGIOUSB','Politicalstate','EduBG','major','ProfessionalRT','AFECQ1','MaritalS','weight','height','exenumweek','SMOKING1','DRINKING1','EPQas47','EPQas30','EPQas12','Station','casedup1','casedup2','Agegrp1'],axis=1)\n",
    "# Scientific_Sample = Scientific_Sample.drop(labels=['DOBy','RELIGIOUSB','Politicalstate','EduBG','major','Post','ProfessionalRT','Station','casedup1','casedup2','Agegrp1'],axis=1)\n",
    "\n",
    "\n",
    "\n"
   ]
  },
  {
   "cell_type": "code",
   "execution_count": 789,
   "id": "ebb3d403",
   "metadata": {},
   "outputs": [],
   "source": [
    "cesd_columns = [col for col in Scientific_Sample.columns if col.startswith('CESD')]\n",
    "anxiety_columns = [col for col in Scientific_Sample.columns if col.startswith(\"GAD\")]\n",
    "selected_columns = ['suicide']\n",
    "\n",
    "for column in selected_columns:\n",
    "    # 计算众数\n",
    "    mode_value = Scientific_Sample[column].mode().iloc[0]\n",
    "    # 使用众数填充空值\n",
    "    Scientific_Sample[column].fillna(mode_value, inplace=True)\n",
    "\n",
    "for column in anxiety_columns:\n",
    "    # 计算众数\n",
    "    mode_value = Scientific_Sample[column].mode().iloc[0]\n",
    "    # 使用众数填充空值\n",
    "    Scientific_Sample[column].fillna(mode_value, inplace=True)\n",
    "for column in cesd_columns:\n",
    "    # 计算众数\n",
    "    mode_value = Scientific_Sample[column].mode().iloc[0]\n",
    "    # 使用众数填充空值\n",
    "    Scientific_Sample[column].fillna(mode_value, inplace=True)\n"
   ]
  },
  {
   "cell_type": "code",
   "execution_count": 790,
   "id": "e130e14c",
   "metadata": {},
   "outputs": [
    {
     "name": "stdout",
     "output_type": "stream",
     "text": [
      "行数: 13284\n"
     ]
    }
   ],
   "source": [
    "# Scientific_Sample = Scientific_Sample.dropna(axis = 0,subset =['CESD3','CESD5','CESD6','CESD7','CESD12','CESD14','CESD16','CESD18','CESD20'])\n",
    "\n",
    "cesd_columns = [col for col in Scientific_Sample.columns if col.startswith('CESD')]\n",
    "df_clean = Scientific_Sample.dropna(subset=cesd_columns)\n",
    "print(\"行数:\", Scientific_Sample.shape[0])\n",
    "\n"
   ]
  },
  {
   "cell_type": "code",
   "execution_count": 791,
   "id": "32d9f12d",
   "metadata": {},
   "outputs": [],
   "source": [
    "CESD12 = 'CESD12'  # 将这里替换为你需要修改的列名\n",
    "CESD16 = 'CESD16'  # 将这里替换为你需要修改的列名\n",
    "old_value1 = '0'  # 将这里替换为需要替换的第一个值\n",
    "new_value1 = '3'  # 将这里替换为替换后的第一个新值\n",
    "old_value2 = '1'  # 将这里替换为需要替换的第二个值\n",
    "new_value2 = '2'  # 将这里替换为替换后的第二个新值\n",
    "\n",
    "# 创建一个字典，其中键是要替换的旧值，值是要替换的新值\n",
    "replacement_dict = {old_value1: new_value1, old_value2: new_value2}\n",
    "# 执行替换\n",
    "Scientific_Sample[CESD12] = Scientific_Sample[CESD12].replace(replacement_dict)\n",
    "Scientific_Sample[CESD16] = Scientific_Sample[CESD16].replace(replacement_dict)\n",
    "\n",
    "\n",
    "depression_columns = [col for col in Scientific_Sample.columns if col.startswith(\"CESD\")]\n",
    "depression_sum = Scientific_Sample[depression_columns].sum(axis=1)\n",
    "Scientific_Sample['depression'] = depression_sum"
   ]
  },
  {
   "cell_type": "code",
   "execution_count": 792,
   "id": "00a0e99c",
   "metadata": {},
   "outputs": [],
   "source": [
    "Scientific_Sample['depression'] = pd.cut(Scientific_Sample.depression, [-1, 9, 16,np.inf], labels=[0, 1, 2])\n"
   ]
  },
  {
   "cell_type": "code",
   "execution_count": 793,
   "id": "74e6941c",
   "metadata": {},
   "outputs": [],
   "source": [
    "anxiety_columns = [col for col in Scientific_Sample.columns if col.startswith(\"GAD\")]\n",
    "anxiety_sum = Scientific_Sample[anxiety_columns].sum(axis=1)\n",
    "Scientific_Sample['anxiety'] = anxiety_sum"
   ]
  },
  {
   "cell_type": "code",
   "execution_count": 794,
   "id": "9702cab6",
   "metadata": {},
   "outputs": [],
   "source": [
    "Scientific_Sample['anxiety'] = pd.cut(Scientific_Sample.anxiety, [-1, 4,np.inf], labels=[0, 1, 2, 3])\n"
   ]
  },
  {
   "cell_type": "code",
   "execution_count": 795,
   "id": "b2a2c2d9",
   "metadata": {},
   "outputs": [
    {
     "name": "stdout",
     "output_type": "stream",
     "text": [
      "行数: 13284\n"
     ]
    }
   ],
   "source": [
    "Scientific_Sample.drop(columns=Scientific_Sample.filter(regex='^GAD').columns, inplace=True)\n",
    "Scientific_Sample.drop(columns=Scientific_Sample.filter(regex='^CESD').columns, inplace=True)\n",
    "print(\"行数:\", Scientific_Sample.shape[0])\n"
   ]
  },
  {
   "cell_type": "code",
   "execution_count": 796,
   "id": "c049f92b",
   "metadata": {},
   "outputs": [
    {
     "name": "stdout",
     "output_type": "stream",
     "text": [
      "行数: 13284\n"
     ]
    }
   ],
   "source": [
    "Scientific_Sample = Scientific_Sample.dropna(axis = 0,subset =['suicide'])\n",
    "Scientific_Sample['suicide'] = pd.cut(Scientific_Sample.suicide, [-1,3,np.inf], labels=[0, 1])\n",
    "print(\"行数:\", Scientific_Sample.shape[0])\n"
   ]
  },
  {
   "cell_type": "code",
   "execution_count": 797,
   "id": "ea8156f0",
   "metadata": {},
   "outputs": [],
   "source": [
    "cols = Scientific_Sample.columns.tolist()\n",
    "\n",
    "# 将需要移动的列从原来的位置弹出\n",
    "col_to_move = 'suicide'  # 替换为需要移动的列的名称\n",
    "cols.pop(cols.index(col_to_move))\n",
    "# 将移动的列添加到列列表的末尾\n",
    "cols.append(col_to_move)\n",
    "# 重新排列 DataFrame 中的列\n",
    "Scientific_Sample = Scientific_Sample[cols]\n",
    "Scientific_Sample.to_csv(\"/Users/wangxiaoyan/Documents/wy/论文/git/scientific-worker-mental-health/data/all/2017科技人员心理健康-初步处理后数据.csv\",sep=',',index=False)\n"
   ]
  },
  {
   "cell_type": "code",
   "execution_count": 798,
   "id": "d163630d",
   "metadata": {},
   "outputs": [],
   "source": [
    "Scientific_Sample=pd.read_csv(\"/Users/wangxiaoyan/Documents/wy/论文/git/scientific-worker-mental-health/data/all/2017科技人员心理健康-初步处理后数据.csv\")\n",
    "\n",
    "for column in Scientific_Sample.columns:\n",
    "    # 找到列的众数\n",
    "    mode = Scientific_Sample[column].mode().iloc[0]\n",
    "    \n",
    "    # 用众数填充空值\n",
    "    Scientific_Sample[column].fillna(mode, inplace=True)\n",
    "Scientific_Sample.to_csv(\"/Users/wangxiaoyan/Documents/wy/论文/git/scientific-worker-mental-health/data/all/2017科技人员心理健康-填充处理后数据.csv\",sep=',',index=False)\n"
   ]
  },
  {
   "cell_type": "code",
   "execution_count": 799,
   "id": "b93b6cc6",
   "metadata": {},
   "outputs": [
    {
     "name": "stdout",
     "output_type": "stream",
     "text": [
      "列数: 228\n"
     ]
    }
   ],
   "source": [
    "print(\"列数:\", Scientific_Sample.shape[1])\n"
   ]
  },
  {
   "cell_type": "code",
   "execution_count": 750,
   "id": "48d69831",
   "metadata": {},
   "outputs": [],
   "source": [
    "# col_names = Scientific_Sample.columns\n",
    "# print(col_names)\n",
    "# imputer = IterativeImputer()\n",
    "# imputed_df = pd.DataFrame(imputer.fit_transform(Scientific_Sample))\n",
    "# imputed_df.columns = col_names\n",
    "# imputed_df.to_csv(\"/Users/wangxiaoyan/Documents/wy/论文/git/scientific-worker-mental-health/data/all/2017科技人员心理健康-清洗处理后数据.csv\",sep=',',index=False)\n"
   ]
  },
  {
   "cell_type": "code",
   "execution_count": null,
   "id": "89507014",
   "metadata": {},
   "outputs": [],
   "source": []
  },
  {
   "cell_type": "code",
   "execution_count": null,
   "id": "3c53b340",
   "metadata": {},
   "outputs": [],
   "source": []
  }
 ],
 "metadata": {
  "kernelspec": {
   "display_name": "Python 3 (ipykernel)",
   "language": "python",
   "name": "python3"
  },
  "language_info": {
   "codemirror_mode": {
    "name": "ipython",
    "version": 3
   },
   "file_extension": ".py",
   "mimetype": "text/x-python",
   "name": "python",
   "nbconvert_exporter": "python",
   "pygments_lexer": "ipython3",
   "version": "3.9.13"
  }
 },
 "nbformat": 4,
 "nbformat_minor": 5
}
